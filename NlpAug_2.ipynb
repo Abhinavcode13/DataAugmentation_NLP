{
  "cells": [
    {
      "cell_type": "markdown",
      "metadata": {
        "id": "JuX8i6ivE7Rc"
      },
      "source": [
        "#Data Augmentation\n",
        "\n",
        "\n",
        "Data augmentation methods are essential for expanding datasets by generating synthetic data from existing ones.\n",
        "\n",
        "While image augmentation is a well-established practice in computer vision, text augmentation is a relatively novel concept in the field of natural language processing (NLP).\n",
        "\n",
        "The nlpaug module offers a range of efficient text augmentation algorithms capable of enhancing the performance of NLP models significantly.\n",
        "\n",
        "In the previous part, we explored some exciting text augmentation functions available in the nlpaug module.\n",
        "\n",
        "Now, in Part 2 , we will leverage the capabilities of the nlpaug module to produce text augmentations for Twitter tweets. Subsequently, we will assess the performance of bag-of-words models with and without employing text augmentations."
      ]
    },
    {
      "cell_type": "code",
      "execution_count": 1,
      "metadata": {
        "id": "60I9WDI3DoYI"
      },
      "outputs": [],
      "source": [
        "!pip install --upgrade gensim --quiet"
      ]
    },
    {
      "cell_type": "code",
      "execution_count": 2,
      "metadata": {
        "colab": {
          "base_uri": "https://localhost:8080/"
        },
        "id": "sTJ54A2HFxcH",
        "outputId": "947a4116-e426-4149-9d66-c5a318ce9068"
      },
      "outputs": [
        {
          "output_type": "stream",
          "name": "stdout",
          "text": [
            "4.3.2\n"
          ]
        }
      ],
      "source": [
        "import gensim\n",
        "print(gensim.__version__)"
      ]
    },
    {
      "cell_type": "code",
      "execution_count": 3,
      "metadata": {
        "id": "YBOZeeqEF89g"
      },
      "outputs": [],
      "source": [
        "!pip install transformers --quiet"
      ]
    },
    {
      "cell_type": "code",
      "execution_count": 4,
      "metadata": {
        "id": "Fxp4RZ_oF9TS"
      },
      "outputs": [],
      "source": [
        "import transformers"
      ]
    },
    {
      "cell_type": "code",
      "execution_count": 5,
      "metadata": {
        "colab": {
          "base_uri": "https://localhost:8080/"
        },
        "id": "95fXoylfGAV4",
        "outputId": "57437f07-99bd-48f8-c722-4a4a03e42006"
      },
      "outputs": [
        {
          "output_type": "stream",
          "name": "stdout",
          "text": [
            "\u001b[2K     \u001b[90m━━━━━━━━━━━━━━━━━━━━━━━━━━━━━━━━━━━━━━━━\u001b[0m \u001b[32m897.5/897.5 kB\u001b[0m \u001b[31m4.9 MB/s\u001b[0m eta \u001b[36m0:00:00\u001b[0m\n",
            "\u001b[?25h"
          ]
        }
      ],
      "source": [
        "# Install the tokenizer needed by the back translation model\n",
        "!pip install sacremoses --quiet"
      ]
    },
    {
      "cell_type": "code",
      "execution_count": 6,
      "metadata": {
        "id": "_nP-WxliGC3G"
      },
      "outputs": [],
      "source": [
        "# Install the tokenizer\n",
        "import sacremoses"
      ]
    },
    {
      "cell_type": "code",
      "execution_count": 7,
      "metadata": {
        "colab": {
          "base_uri": "https://localhost:8080/"
        },
        "id": "lDVRWAnfGHAG",
        "outputId": "39f890fa-611a-4f67-e9ec-3bcd1a9a6418"
      },
      "outputs": [
        {
          "output_type": "stream",
          "name": "stdout",
          "text": [
            "\u001b[2K     \u001b[90m━━━━━━━━━━━━━━━━━━━━━━━━━━━━━━━━━━━━━━━━\u001b[0m \u001b[32m410.5/410.5 kB\u001b[0m \u001b[31m3.1 MB/s\u001b[0m eta \u001b[36m0:00:00\u001b[0m\n",
            "\u001b[?25h"
          ]
        }
      ],
      "source": [
        "# Install the nlpaug module\n",
        "!pip install nlpaug --quiet"
      ]
    },
    {
      "cell_type": "code",
      "execution_count": 8,
      "metadata": {
        "id": "b46ccsxHGQo1"
      },
      "outputs": [],
      "source": [
        "\n",
        "# Import the nlpaug module and its methods\n",
        "import nlpaug.augmenter.char as nac\n",
        "import nlpaug.augmenter.word as naw\n",
        "import nlpaug.augmenter.sentence as nas\n",
        "import nlpaug.flow as nafc\n",
        "from nlpaug.util import Action"
      ]
    },
    {
      "cell_type": "code",
      "execution_count": 9,
      "metadata": {
        "colab": {
          "base_uri": "https://localhost:8080/"
        },
        "id": "GQDouezpGUPB",
        "outputId": "05b2045d-884b-4bd3-adf8-8a342269bd8d"
      },
      "outputs": [
        {
          "output_type": "stream",
          "name": "stderr",
          "text": [
            "[nltk_data] Downloading package wordnet to /root/nltk_data...\n",
            "[nltk_data] Downloading package stopwords to /root/nltk_data...\n",
            "[nltk_data]   Unzipping corpora/stopwords.zip.\n",
            "[nltk_data] Downloading package omw-1.4 to /root/nltk_data...\n"
          ]
        }
      ],
      "source": [
        "\n",
        "# Import other modules\n",
        "import nltk\n",
        "nltk.download('wordnet')\n",
        "nltk.download('stopwords')\n",
        "nltk.download('omw-1.4')\n",
        "import os\n",
        "import pandas as pd\n",
        "import numpy as np\n",
        "import re\n",
        "from nltk.corpus import stopwords\n",
        "from sklearn.model_selection import train_test_split\n",
        "from sklearn.feature_extraction.text import CountVectorizer\n",
        "from sklearn.feature_extraction.text import TfidfTransformer\n",
        "from sklearn.dummy import DummyClassifier\n",
        "from sklearn.linear_model import LogisticRegression"
      ]
    },
    {
      "cell_type": "code",
      "execution_count": 10,
      "metadata": {
        "id": "tPWg6Z-9522f"
      },
      "outputs": [],
      "source": [
        "\n",
        "# Show all outputs of a cell in a jupyter notebook\n",
        "from IPython.core.interactiveshell import InteractiveShell\n",
        "InteractiveShell.ast_node_interactivity = \"all\""
      ]
    },
    {
      "cell_type": "markdown",
      "metadata": {
        "id": "5IseHlQS6KXd"
      },
      "source": [
        "#Twitter Climate Change Sentiment Dataset\n",
        "\n",
        "The dataset can be downloaded from Kaggle.https://www.kaggle.com/datasets/edqian/twitter-climate-change-sentiment-dataset\n",
        "\n",
        "\n",
        "The collection of this data was funded by a Canada Foundation for Innovation JELF Grant to Chris Bauch, University of Waterloo.\n",
        "\n",
        "\n",
        "This dataset aggregates tweets pertaining to climate change collected between Apr 27, 2015 and Feb 21, 2018. In total, 43943 tweets were annotated. Each tweet is labelled independently by 3 reviewers. This dataset only contains tweets that all 3 reviewers agreed on (the rest were discarded).\n",
        "\n",
        "\n",
        "Each tweet is labelled as one of the following classes:\n",
        "\n",
        "2 (News): the tweet links to factual news about climate change\n",
        "1 (Pro): the tweet supports the belief of man-made climate change\n",
        "0 (Neutral): the tweet neither supports nor refutes the belief of man-made climate change\n",
        "-1 (Anti): the tweet does not believe in man-made climate change"
      ]
    },
    {
      "cell_type": "code",
      "execution_count": 13,
      "metadata": {
        "id": "C8CYlwS458QX"
      },
      "outputs": [],
      "source": [
        "\n",
        "df = pd.read_csv(\"/content/twitter_sentiment_data.csv\", encoding='utf-8')\n",
        "\n",
        "\n",
        "# Rename column names and remove the tweetid column\n",
        "df = df.rename(columns = {\"sentiment\": \"label\", \"message\": \"text\"}).drop('tweetid', axis = 1)"
      ]
    },
    {
      "cell_type": "code",
      "execution_count": 14,
      "metadata": {
        "id": "MkTd2T6v7Pqq"
      },
      "outputs": [],
      "source": [
        "# Recode the labels to 0, 1, 2, and 3\n",
        "# 0 - negative; 1 - neutral; 2 - positive; 3 - news\n",
        "df['label'] = df['label'].replace([-1, 0, 1, 2],[0, 1, 2, 3])"
      ]
    },
    {
      "cell_type": "code",
      "execution_count": 16,
      "metadata": {
        "id": "fTdKcUXK7QFW"
      },
      "outputs": [],
      "source": [
        "# Important Note: Check the integrity of the DataFrame to ensure that there are no missing values,\n",
        "# which will deter the training progress. Here, we simply drop any missing observations.\n",
        "df = df.dropna()"
      ]
    },
    {
      "cell_type": "code",
      "execution_count": 17,
      "metadata": {
        "colab": {
          "base_uri": "https://localhost:8080/",
          "height": 206
        },
        "id": "FJTbTspD7Qb8",
        "outputId": "d661b860-2a00-4e89-d22d-603b7af5c7dd"
      },
      "outputs": [
        {
          "output_type": "execute_result",
          "data": {
            "text/plain": [
              "   label  \\\n",
              "0      1   \n",
              "1      3   \n",
              "2      3   \n",
              "3      3   \n",
              "4      3   \n",
              "\n",
              "                                                                                                                                                 text  \n",
              "0           @tiniebeany climate change is an interesting hustle as it was global warming but the planet stopped warming for 15 yes while the suv boom  \n",
              "1  RT @NatGeoChannel: Watch #BeforeTheFlood right here, as @LeoDiCaprio travels the world to tackle climate change https://t.co/LkDehj3tNn httÃ¢â‚¬Â¦  \n",
              "2                               Fabulous! Leonardo #DiCaprio's film on #climate change is brilliant!!! Do watch. https://t.co/7rV6BrmxjW via @youtube  \n",
              "3     RT @Mick_Fanning: Just watched this amazing documentary by leonardodicaprio on climate change. We all think thisÃ¢â‚¬Â¦ https://t.co/kNSTE8K8im  \n",
              "4         RT @cnalive: Pranita Biswasi, a Lutheran from Odisha, gives testimony on effects of climate change &amp; natural disasters on the poÃ¢â‚¬Â¦  "
            ],
            "text/html": [
              "\n",
              "  <div id=\"df-2c399beb-eb62-4fc4-b334-19547e030153\" class=\"colab-df-container\">\n",
              "    <div>\n",
              "<style scoped>\n",
              "    .dataframe tbody tr th:only-of-type {\n",
              "        vertical-align: middle;\n",
              "    }\n",
              "\n",
              "    .dataframe tbody tr th {\n",
              "        vertical-align: top;\n",
              "    }\n",
              "\n",
              "    .dataframe thead th {\n",
              "        text-align: right;\n",
              "    }\n",
              "</style>\n",
              "<table border=\"1\" class=\"dataframe\">\n",
              "  <thead>\n",
              "    <tr style=\"text-align: right;\">\n",
              "      <th></th>\n",
              "      <th>label</th>\n",
              "      <th>text</th>\n",
              "    </tr>\n",
              "  </thead>\n",
              "  <tbody>\n",
              "    <tr>\n",
              "      <th>0</th>\n",
              "      <td>1</td>\n",
              "      <td>@tiniebeany climate change is an interesting hustle as it was global warming but the planet stopped warming for 15 yes while the suv boom</td>\n",
              "    </tr>\n",
              "    <tr>\n",
              "      <th>1</th>\n",
              "      <td>3</td>\n",
              "      <td>RT @NatGeoChannel: Watch #BeforeTheFlood right here, as @LeoDiCaprio travels the world to tackle climate change https://t.co/LkDehj3tNn httÃ¢â‚¬Â¦</td>\n",
              "    </tr>\n",
              "    <tr>\n",
              "      <th>2</th>\n",
              "      <td>3</td>\n",
              "      <td>Fabulous! Leonardo #DiCaprio's film on #climate change is brilliant!!! Do watch. https://t.co/7rV6BrmxjW via @youtube</td>\n",
              "    </tr>\n",
              "    <tr>\n",
              "      <th>3</th>\n",
              "      <td>3</td>\n",
              "      <td>RT @Mick_Fanning: Just watched this amazing documentary by leonardodicaprio on climate change. We all think thisÃ¢â‚¬Â¦ https://t.co/kNSTE8K8im</td>\n",
              "    </tr>\n",
              "    <tr>\n",
              "      <th>4</th>\n",
              "      <td>3</td>\n",
              "      <td>RT @cnalive: Pranita Biswasi, a Lutheran from Odisha, gives testimony on effects of climate change &amp;amp; natural disasters on the poÃ¢â‚¬Â¦</td>\n",
              "    </tr>\n",
              "  </tbody>\n",
              "</table>\n",
              "</div>\n",
              "    <div class=\"colab-df-buttons\">\n",
              "\n",
              "  <div class=\"colab-df-container\">\n",
              "    <button class=\"colab-df-convert\" onclick=\"convertToInteractive('df-2c399beb-eb62-4fc4-b334-19547e030153')\"\n",
              "            title=\"Convert this dataframe to an interactive table.\"\n",
              "            style=\"display:none;\">\n",
              "\n",
              "  <svg xmlns=\"http://www.w3.org/2000/svg\" height=\"24px\" viewBox=\"0 -960 960 960\">\n",
              "    <path d=\"M120-120v-720h720v720H120Zm60-500h600v-160H180v160Zm220 220h160v-160H400v160Zm0 220h160v-160H400v160ZM180-400h160v-160H180v160Zm440 0h160v-160H620v160ZM180-180h160v-160H180v160Zm440 0h160v-160H620v160Z\"/>\n",
              "  </svg>\n",
              "    </button>\n",
              "\n",
              "  <style>\n",
              "    .colab-df-container {\n",
              "      display:flex;\n",
              "      gap: 12px;\n",
              "    }\n",
              "\n",
              "    .colab-df-convert {\n",
              "      background-color: #E8F0FE;\n",
              "      border: none;\n",
              "      border-radius: 50%;\n",
              "      cursor: pointer;\n",
              "      display: none;\n",
              "      fill: #1967D2;\n",
              "      height: 32px;\n",
              "      padding: 0 0 0 0;\n",
              "      width: 32px;\n",
              "    }\n",
              "\n",
              "    .colab-df-convert:hover {\n",
              "      background-color: #E2EBFA;\n",
              "      box-shadow: 0px 1px 2px rgba(60, 64, 67, 0.3), 0px 1px 3px 1px rgba(60, 64, 67, 0.15);\n",
              "      fill: #174EA6;\n",
              "    }\n",
              "\n",
              "    .colab-df-buttons div {\n",
              "      margin-bottom: 4px;\n",
              "    }\n",
              "\n",
              "    [theme=dark] .colab-df-convert {\n",
              "      background-color: #3B4455;\n",
              "      fill: #D2E3FC;\n",
              "    }\n",
              "\n",
              "    [theme=dark] .colab-df-convert:hover {\n",
              "      background-color: #434B5C;\n",
              "      box-shadow: 0px 1px 3px 1px rgba(0, 0, 0, 0.15);\n",
              "      filter: drop-shadow(0px 1px 2px rgba(0, 0, 0, 0.3));\n",
              "      fill: #FFFFFF;\n",
              "    }\n",
              "  </style>\n",
              "\n",
              "    <script>\n",
              "      const buttonEl =\n",
              "        document.querySelector('#df-2c399beb-eb62-4fc4-b334-19547e030153 button.colab-df-convert');\n",
              "      buttonEl.style.display =\n",
              "        google.colab.kernel.accessAllowed ? 'block' : 'none';\n",
              "\n",
              "      async function convertToInteractive(key) {\n",
              "        const element = document.querySelector('#df-2c399beb-eb62-4fc4-b334-19547e030153');\n",
              "        const dataTable =\n",
              "          await google.colab.kernel.invokeFunction('convertToInteractive',\n",
              "                                                    [key], {});\n",
              "        if (!dataTable) return;\n",
              "\n",
              "        const docLinkHtml = 'Like what you see? Visit the ' +\n",
              "          '<a target=\"_blank\" href=https://colab.research.google.com/notebooks/data_table.ipynb>data table notebook</a>'\n",
              "          + ' to learn more about interactive tables.';\n",
              "        element.innerHTML = '';\n",
              "        dataTable['output_type'] = 'display_data';\n",
              "        await google.colab.output.renderOutput(dataTable, element);\n",
              "        const docLink = document.createElement('div');\n",
              "        docLink.innerHTML = docLinkHtml;\n",
              "        element.appendChild(docLink);\n",
              "      }\n",
              "    </script>\n",
              "  </div>\n",
              "\n",
              "\n",
              "<div id=\"df-a9f77013-9d6a-4e76-8699-1eefb52d2b3e\">\n",
              "  <button class=\"colab-df-quickchart\" onclick=\"quickchart('df-a9f77013-9d6a-4e76-8699-1eefb52d2b3e')\"\n",
              "            title=\"Suggest charts\"\n",
              "            style=\"display:none;\">\n",
              "\n",
              "<svg xmlns=\"http://www.w3.org/2000/svg\" height=\"24px\"viewBox=\"0 0 24 24\"\n",
              "     width=\"24px\">\n",
              "    <g>\n",
              "        <path d=\"M19 3H5c-1.1 0-2 .9-2 2v14c0 1.1.9 2 2 2h14c1.1 0 2-.9 2-2V5c0-1.1-.9-2-2-2zM9 17H7v-7h2v7zm4 0h-2V7h2v10zm4 0h-2v-4h2v4z\"/>\n",
              "    </g>\n",
              "</svg>\n",
              "  </button>\n",
              "\n",
              "<style>\n",
              "  .colab-df-quickchart {\n",
              "      --bg-color: #E8F0FE;\n",
              "      --fill-color: #1967D2;\n",
              "      --hover-bg-color: #E2EBFA;\n",
              "      --hover-fill-color: #174EA6;\n",
              "      --disabled-fill-color: #AAA;\n",
              "      --disabled-bg-color: #DDD;\n",
              "  }\n",
              "\n",
              "  [theme=dark] .colab-df-quickchart {\n",
              "      --bg-color: #3B4455;\n",
              "      --fill-color: #D2E3FC;\n",
              "      --hover-bg-color: #434B5C;\n",
              "      --hover-fill-color: #FFFFFF;\n",
              "      --disabled-bg-color: #3B4455;\n",
              "      --disabled-fill-color: #666;\n",
              "  }\n",
              "\n",
              "  .colab-df-quickchart {\n",
              "    background-color: var(--bg-color);\n",
              "    border: none;\n",
              "    border-radius: 50%;\n",
              "    cursor: pointer;\n",
              "    display: none;\n",
              "    fill: var(--fill-color);\n",
              "    height: 32px;\n",
              "    padding: 0;\n",
              "    width: 32px;\n",
              "  }\n",
              "\n",
              "  .colab-df-quickchart:hover {\n",
              "    background-color: var(--hover-bg-color);\n",
              "    box-shadow: 0 1px 2px rgba(60, 64, 67, 0.3), 0 1px 3px 1px rgba(60, 64, 67, 0.15);\n",
              "    fill: var(--button-hover-fill-color);\n",
              "  }\n",
              "\n",
              "  .colab-df-quickchart-complete:disabled,\n",
              "  .colab-df-quickchart-complete:disabled:hover {\n",
              "    background-color: var(--disabled-bg-color);\n",
              "    fill: var(--disabled-fill-color);\n",
              "    box-shadow: none;\n",
              "  }\n",
              "\n",
              "  .colab-df-spinner {\n",
              "    border: 2px solid var(--fill-color);\n",
              "    border-color: transparent;\n",
              "    border-bottom-color: var(--fill-color);\n",
              "    animation:\n",
              "      spin 1s steps(1) infinite;\n",
              "  }\n",
              "\n",
              "  @keyframes spin {\n",
              "    0% {\n",
              "      border-color: transparent;\n",
              "      border-bottom-color: var(--fill-color);\n",
              "      border-left-color: var(--fill-color);\n",
              "    }\n",
              "    20% {\n",
              "      border-color: transparent;\n",
              "      border-left-color: var(--fill-color);\n",
              "      border-top-color: var(--fill-color);\n",
              "    }\n",
              "    30% {\n",
              "      border-color: transparent;\n",
              "      border-left-color: var(--fill-color);\n",
              "      border-top-color: var(--fill-color);\n",
              "      border-right-color: var(--fill-color);\n",
              "    }\n",
              "    40% {\n",
              "      border-color: transparent;\n",
              "      border-right-color: var(--fill-color);\n",
              "      border-top-color: var(--fill-color);\n",
              "    }\n",
              "    60% {\n",
              "      border-color: transparent;\n",
              "      border-right-color: var(--fill-color);\n",
              "    }\n",
              "    80% {\n",
              "      border-color: transparent;\n",
              "      border-right-color: var(--fill-color);\n",
              "      border-bottom-color: var(--fill-color);\n",
              "    }\n",
              "    90% {\n",
              "      border-color: transparent;\n",
              "      border-bottom-color: var(--fill-color);\n",
              "    }\n",
              "  }\n",
              "</style>\n",
              "\n",
              "  <script>\n",
              "    async function quickchart(key) {\n",
              "      const quickchartButtonEl =\n",
              "        document.querySelector('#' + key + ' button');\n",
              "      quickchartButtonEl.disabled = true;  // To prevent multiple clicks.\n",
              "      quickchartButtonEl.classList.add('colab-df-spinner');\n",
              "      try {\n",
              "        const charts = await google.colab.kernel.invokeFunction(\n",
              "            'suggestCharts', [key], {});\n",
              "      } catch (error) {\n",
              "        console.error('Error during call to suggestCharts:', error);\n",
              "      }\n",
              "      quickchartButtonEl.classList.remove('colab-df-spinner');\n",
              "      quickchartButtonEl.classList.add('colab-df-quickchart-complete');\n",
              "    }\n",
              "    (() => {\n",
              "      let quickchartButtonEl =\n",
              "        document.querySelector('#df-a9f77013-9d6a-4e76-8699-1eefb52d2b3e button');\n",
              "      quickchartButtonEl.style.display =\n",
              "        google.colab.kernel.accessAllowed ? 'block' : 'none';\n",
              "    })();\n",
              "  </script>\n",
              "</div>\n",
              "\n",
              "    </div>\n",
              "  </div>\n"
            ],
            "application/vnd.google.colaboratory.intrinsic+json": {
              "type": "dataframe",
              "variable_name": "df",
              "summary": "{\n  \"name\": \"df\",\n  \"rows\": 43943,\n  \"fields\": [\n    {\n      \"column\": \"label\",\n      \"properties\": {\n        \"dtype\": \"number\",\n        \"std\": 0,\n        \"min\": 1,\n        \"max\": 3,\n        \"num_unique_values\": 3,\n        \"samples\": [\n          1,\n          3,\n          2\n        ],\n        \"semantic_type\": \"\",\n        \"description\": \"\"\n      }\n    },\n    {\n      \"column\": \"text\",\n      \"properties\": {\n        \"dtype\": \"string\",\n        \"num_unique_values\": 41033,\n        \"samples\": [\n          \"RT @AP: The Latest: President Trump to announce the US is withdrawing from the Paris climate change accord. https://t.co/f5RvFQzARj\",\n          \"RT @morten: @realDonaldTrump This is climate change, Mr. President. It affects us all whether or not you believe in it.\",\n          \"RT @amayawful: this is called 'climate change' or aka 'our planet is dying hastily' https://t.co/OX4WbkM15V\"\n        ],\n        \"semantic_type\": \"\",\n        \"description\": \"\"\n      }\n    }\n  ]\n}"
            }
          },
          "metadata": {},
          "execution_count": 17
        }
      ],
      "source": [
        "# Take a look at the first five samples in the dataframe\n",
        "pd.set_option('display.max_colwidth', None)\n",
        "df.head()"
      ]
    },
    {
      "cell_type": "markdown",
      "metadata": {
        "id": "-q89QjpR-aJn"
      },
      "source": [
        "#Tokenization\n",
        "\n",
        "Tokenization is used in natural language processing to split paragraphs and sentences into smaller units that can be more easily assigned meaning.\n",
        "\n",
        "\n",
        "The first step of the NLP process is gathering the data (a sentence) and breaking it into understandable parts (words)."
      ]
    },
    {
      "cell_type": "code",
      "execution_count": 18,
      "metadata": {
        "colab": {
          "base_uri": "https://localhost:8080/"
        },
        "id": "fVCyEbcX7X1C",
        "outputId": "c1a381b5-ab2c-4e5c-e410-4a5b1fbba15d"
      },
      "outputs": [
        {
          "output_type": "execute_result",
          "data": {
            "text/plain": [
              "['I', \"'ve\", 'been', 'to', 'Los', 'Angeles', 'before', '.']"
            ]
          },
          "metadata": {},
          "execution_count": 18
        }
      ],
      "source": [
        "# Initiate the NLTK word tokenizer\n",
        "tokenizer = nltk.tokenize.TreebankWordTokenizer()\n",
        "\n",
        "# Take a look at an example of tokenization\n",
        "tokenizer.tokenize(\"I've been to Los Angeles before.\")\n"
      ]
    },
    {
      "cell_type": "markdown",
      "metadata": {
        "id": "58J0YNcu-pay"
      },
      "source": [
        "#Stop Words\n",
        "\n",
        "Stop words are a set of commonly used words in any language. For example, in English, “the”, “is” and “and”, would easily qualify as stop words.\n",
        "\n",
        "\n",
        "In NLP and text mining applications, stop words are used to eliminate unimportant words, allowing applications to focus on the important words instead."
      ]
    },
    {
      "cell_type": "code",
      "execution_count": 19,
      "metadata": {
        "colab": {
          "base_uri": "https://localhost:8080/"
        },
        "id": "voVc6fKA-hfo",
        "outputId": "0ec64fb7-ce3c-41d3-c560-353df57238cf"
      },
      "outputs": [
        {
          "output_type": "stream",
          "name": "stdout",
          "text": [
            "{'no', \"aren't\", 'him', 'theirs', 'in', \"didn't\", 'should', 'be', 'both', 'weren', 'her', 'of', 'am', 'you', 'until', 'if', 'itself', 'has', 'some', 'out', 'd', 'hers', 'who', 'here', 'any', 'its', 'an', 'once', 'between', 'again', \"hasn't\", \"won't\", 'nor', \"hadn't\", 'all', \"wouldn't\", 'their', 'why', 'll', 'on', 'ain', 'ourselves', 'hadn', 'ours', 'when', 'then', 'the', 'very', 'his', 'about', 'under', \"couldn't\", \"doesn't\", 'he', 'through', 'my', 'our', 'now', 've', 'too', 'for', 'that', 'doing', 'with', 'there', 'hasn', 'aren', \"you've\", 'but', 'haven', 'a', 'just', 's', 'can', 'down', \"you'll\", 'from', 'few', 'she', 'before', 'most', 'which', 'this', 'off', 'not', 'them', 'yourselves', 'are', 'against', 'further', \"mightn't\", 'yours', 'below', 'as', 'is', 'up', 'being', \"should've\", \"that'll\", \"mustn't\", 'was', 'have', 'your', 'more', 'myself', 'during', 'isn', 'by', 'herself', 'couldn', 'were', \"haven't\", 'or', 'm', 'wouldn', 'it', \"you'd\", \"don't\", 'yourself', 'those', 'been', 'y', \"weren't\", 'do', 'because', 'will', 'whom', 'shouldn', \"she's\", \"needn't\", 'after', 'don', 'at', \"shouldn't\", 'such', 'only', 'had', 'so', 'o', \"isn't\", 'what', 'these', 'mightn', 'other', 'did', 'won', 'into', 'needn', 'doesn', 'over', 't', 'above', \"wasn't\", 'we', 'while', 'does', 'mustn', 'each', 'shan', 'himself', 'than', 'didn', 'same', 'to', \"you're\", 'they', 'how', 'own', 'and', 'where', 're', 'i', 'ma', 'me', 'themselves', \"it's\", \"shan't\", 'having', 'wasn'}\n",
            "179\n"
          ]
        }
      ],
      "source": [
        "\n",
        "# Get a set of stop words from NLTK English dictionary\n",
        "stop_words = set(stopwords.words('english'))\n",
        "\n",
        "# Take a look at the stop words\n",
        "print(stop_words)\n",
        "\n",
        "# There are 179 stop words in total\n",
        "print(len(stop_words))"
      ]
    },
    {
      "cell_type": "code",
      "execution_count": 20,
      "metadata": {
        "colab": {
          "base_uri": "https://localhost:8080/"
        },
        "id": "jC_Mgvde-wx2",
        "outputId": "6c962e61-ffb3-45b3-f7eb-0d142824b348"
      },
      "outputs": [
        {
          "output_type": "execute_result",
          "data": {
            "text/plain": [
              "((39548,), (4395,))"
            ]
          },
          "metadata": {},
          "execution_count": 20
        }
      ],
      "source": [
        "\n",
        "# Split the data into 90% train and 10% test\n",
        "X_train, X_test, y_train, y_test = train_test_split(\n",
        "  df['text'], df['label'], test_size = 0.1)\n",
        "X_train.shape, X_test.shape"
      ]
    },
    {
      "cell_type": "code",
      "execution_count": 21,
      "metadata": {
        "colab": {
          "base_uri": "https://localhost:8080/"
        },
        "id": "5pBK9wJ__n8T",
        "outputId": "955f0de1-c201-4071-ae22-40340b08e229"
      },
      "outputs": [
        {
          "output_type": "execute_result",
          "data": {
            "text/plain": [
              "text    RT @nowthisnews: The Trump administration thinks protecting our planet from climate change is a waste of money https://t.co/QTGMi3Iv6U\n",
              "Name: 16319, dtype: object"
            ]
          },
          "metadata": {},
          "execution_count": 21
        },
        {
          "output_type": "execute_result",
          "data": {
            "text/plain": [
              "label    3\n",
              "Name: 16319, dtype: int64"
            ]
          },
          "metadata": {},
          "execution_count": 21
        }
      ],
      "source": [
        "\n",
        "# Print a single example from the train set\n",
        "pd.DataFrame(X_train).iloc[0]\n",
        "pd.DataFrame(y_train).iloc[0]"
      ]
    },
    {
      "cell_type": "markdown",
      "metadata": {
        "id": "fsBsvYKCBZKh"
      },
      "source": [
        "#Lemmatization vs. Stemming\n",
        "\\\n",
        "\n",
        "Lemmatization in linguistics is the process of grouping together the inflected forms of a word so they can be analysed as a single item, identified by the word's lemma, or dictionary form.\n",
        "\\\n",
        "\n",
        "Lemmatisation is closely related to stemming. The difference is that a stemmer operates on a single word without knowledge of the context, and therefore cannot discriminate between words which have different meanings depending on part of speech. However, stemmers are typically easier to implement and run faster.\n",
        "\n",
        "Examples:\n",
        "\n",
        "The word \"better\" has \"good\" as its lemma. This link is missed by stemming, as it requires a dictionary look-up.\n",
        "\n",
        "The word \"walk\" is the base form for the word \"walking\", and hence this is matched in both stemming and lemmatisation.\n",
        "\n",
        "The word \"meeting\" can be either the base form of a noun or a form of a verb (\"to meet\") depending on the context; e.g., \"in our last meeting\" or \"We are meeting again tomorrow\". Unlike stemming, lemmatisation attempts to select the correct lemma depending on the context."
      ]
    },
    {
      "cell_type": "code",
      "execution_count": 22,
      "metadata": {
        "colab": {
          "base_uri": "https://localhost:8080/",
          "height": 36
        },
        "id": "bQPz0F1b_xt3",
        "outputId": "c5039a9b-84a7-4977-e1ab-3e8d5939fdfd"
      },
      "outputs": [
        {
          "output_type": "execute_result",
          "data": {
            "text/plain": [
              "'hour'"
            ],
            "application/vnd.google.colaboratory.intrinsic+json": {
              "type": "string"
            }
          },
          "metadata": {},
          "execution_count": 22
        }
      ],
      "source": [
        "# Initiate the NLTK word lemmatizer\n",
        "lemmatizer = nltk.stem.WordNetLemmatizer()\n",
        "\n",
        "# Take a look at an example of lemmatization\n",
        "lemmatizer.lemmatize('hours')"
      ]
    },
    {
      "cell_type": "code",
      "execution_count": 23,
      "metadata": {
        "colab": {
          "base_uri": "https://localhost:8080/",
          "height": 36
        },
        "id": "luXaE_A9BmKy",
        "outputId": "afa538d3-baa0-4b54-ccde-059e39d6b573"
      },
      "outputs": [
        {
          "output_type": "execute_result",
          "data": {
            "text/plain": [
              "'have'"
            ],
            "application/vnd.google.colaboratory.intrinsic+json": {
              "type": "string"
            }
          },
          "metadata": {},
          "execution_count": 23
        }
      ],
      "source": [
        "# As an alternative to lemmatization, we could use stemming instead\n",
        "stemmer = nltk.stem.SnowballStemmer(\"english\")\n",
        "\n",
        "# Take a look at an example of stemming\n",
        "stemmer.stem(\"having\")"
      ]
    },
    {
      "cell_type": "code",
      "execution_count": 24,
      "metadata": {
        "id": "1JhVYz7uBtOB"
      },
      "outputs": [],
      "source": [
        "# Create a function to clean text data\n",
        "def preprocessor(text):\n",
        "\n",
        "  # Remove all html markup from a tweet\n",
        "  text = re.sub('<[^>]*>', '', text)\n",
        "\n",
        "  # Remove @username from a tweet\n",
        "  text = re.sub(r\"@[^\\s]+\",'', text)\n",
        "\n",
        "  # Remove http links from a tweet\n",
        "  text = re.sub('http[^\\s]+', '', text)\n",
        "\n",
        "  # Find all emoticons and store them temporarily\n",
        "  emoticons = re.findall('(?::|;|=)(?:-)?(?:\\)|\\(|D|P)', text)\n",
        "\n",
        "  # Remove all non-word characters, make all words to lower case, and add back the stored emoticons\n",
        "  text = re.sub('[\\W]+', ' ', text.lower()) + ' '.join(emoticons).replace('-', '')\n",
        "  return text"
      ]
    },
    {
      "cell_type": "code",
      "execution_count": 25,
      "metadata": {
        "colab": {
          "base_uri": "https://localhost:8080/",
          "height": 206
        },
        "id": "5BzV0tsvEeuD",
        "outputId": "2899c371-9e4e-45a5-ae7a-4385e33a0f61"
      },
      "outputs": [
        {
          "output_type": "execute_result",
          "data": {
            "text/plain": [
              "                                                                                                    text\n",
              "16319  rt the trump administration thinks protecting our planet from climate change is a waste of money \n",
              "4522                   evidence of global warming overwhelming ã â â œ kerry ã â â œ radio newã zealand \n",
              "17936                the most damaging part of trump s climate change order is the message it sends via \n",
              "13195               rt trump really needs to watch this film about climate change and national security \n",
              "7739                        arctic ice melt could trigger uncontrollable climate change at global level "
            ],
            "text/html": [
              "\n",
              "  <div id=\"df-87384b35-233e-4707-b8d5-ff9df6e75a6d\" class=\"colab-df-container\">\n",
              "    <div>\n",
              "<style scoped>\n",
              "    .dataframe tbody tr th:only-of-type {\n",
              "        vertical-align: middle;\n",
              "    }\n",
              "\n",
              "    .dataframe tbody tr th {\n",
              "        vertical-align: top;\n",
              "    }\n",
              "\n",
              "    .dataframe thead th {\n",
              "        text-align: right;\n",
              "    }\n",
              "</style>\n",
              "<table border=\"1\" class=\"dataframe\">\n",
              "  <thead>\n",
              "    <tr style=\"text-align: right;\">\n",
              "      <th></th>\n",
              "      <th>text</th>\n",
              "    </tr>\n",
              "  </thead>\n",
              "  <tbody>\n",
              "    <tr>\n",
              "      <th>16319</th>\n",
              "      <td>rt the trump administration thinks protecting our planet from climate change is a waste of money</td>\n",
              "    </tr>\n",
              "    <tr>\n",
              "      <th>4522</th>\n",
              "      <td>evidence of global warming overwhelming ã â â œ kerry ã â â œ radio newã zealand</td>\n",
              "    </tr>\n",
              "    <tr>\n",
              "      <th>17936</th>\n",
              "      <td>the most damaging part of trump s climate change order is the message it sends via</td>\n",
              "    </tr>\n",
              "    <tr>\n",
              "      <th>13195</th>\n",
              "      <td>rt trump really needs to watch this film about climate change and national security</td>\n",
              "    </tr>\n",
              "    <tr>\n",
              "      <th>7739</th>\n",
              "      <td>arctic ice melt could trigger uncontrollable climate change at global level</td>\n",
              "    </tr>\n",
              "  </tbody>\n",
              "</table>\n",
              "</div>\n",
              "    <div class=\"colab-df-buttons\">\n",
              "\n",
              "  <div class=\"colab-df-container\">\n",
              "    <button class=\"colab-df-convert\" onclick=\"convertToInteractive('df-87384b35-233e-4707-b8d5-ff9df6e75a6d')\"\n",
              "            title=\"Convert this dataframe to an interactive table.\"\n",
              "            style=\"display:none;\">\n",
              "\n",
              "  <svg xmlns=\"http://www.w3.org/2000/svg\" height=\"24px\" viewBox=\"0 -960 960 960\">\n",
              "    <path d=\"M120-120v-720h720v720H120Zm60-500h600v-160H180v160Zm220 220h160v-160H400v160Zm0 220h160v-160H400v160ZM180-400h160v-160H180v160Zm440 0h160v-160H620v160ZM180-180h160v-160H180v160Zm440 0h160v-160H620v160Z\"/>\n",
              "  </svg>\n",
              "    </button>\n",
              "\n",
              "  <style>\n",
              "    .colab-df-container {\n",
              "      display:flex;\n",
              "      gap: 12px;\n",
              "    }\n",
              "\n",
              "    .colab-df-convert {\n",
              "      background-color: #E8F0FE;\n",
              "      border: none;\n",
              "      border-radius: 50%;\n",
              "      cursor: pointer;\n",
              "      display: none;\n",
              "      fill: #1967D2;\n",
              "      height: 32px;\n",
              "      padding: 0 0 0 0;\n",
              "      width: 32px;\n",
              "    }\n",
              "\n",
              "    .colab-df-convert:hover {\n",
              "      background-color: #E2EBFA;\n",
              "      box-shadow: 0px 1px 2px rgba(60, 64, 67, 0.3), 0px 1px 3px 1px rgba(60, 64, 67, 0.15);\n",
              "      fill: #174EA6;\n",
              "    }\n",
              "\n",
              "    .colab-df-buttons div {\n",
              "      margin-bottom: 4px;\n",
              "    }\n",
              "\n",
              "    [theme=dark] .colab-df-convert {\n",
              "      background-color: #3B4455;\n",
              "      fill: #D2E3FC;\n",
              "    }\n",
              "\n",
              "    [theme=dark] .colab-df-convert:hover {\n",
              "      background-color: #434B5C;\n",
              "      box-shadow: 0px 1px 3px 1px rgba(0, 0, 0, 0.15);\n",
              "      filter: drop-shadow(0px 1px 2px rgba(0, 0, 0, 0.3));\n",
              "      fill: #FFFFFF;\n",
              "    }\n",
              "  </style>\n",
              "\n",
              "    <script>\n",
              "      const buttonEl =\n",
              "        document.querySelector('#df-87384b35-233e-4707-b8d5-ff9df6e75a6d button.colab-df-convert');\n",
              "      buttonEl.style.display =\n",
              "        google.colab.kernel.accessAllowed ? 'block' : 'none';\n",
              "\n",
              "      async function convertToInteractive(key) {\n",
              "        const element = document.querySelector('#df-87384b35-233e-4707-b8d5-ff9df6e75a6d');\n",
              "        const dataTable =\n",
              "          await google.colab.kernel.invokeFunction('convertToInteractive',\n",
              "                                                    [key], {});\n",
              "        if (!dataTable) return;\n",
              "\n",
              "        const docLinkHtml = 'Like what you see? Visit the ' +\n",
              "          '<a target=\"_blank\" href=https://colab.research.google.com/notebooks/data_table.ipynb>data table notebook</a>'\n",
              "          + ' to learn more about interactive tables.';\n",
              "        element.innerHTML = '';\n",
              "        dataTable['output_type'] = 'display_data';\n",
              "        await google.colab.output.renderOutput(dataTable, element);\n",
              "        const docLink = document.createElement('div');\n",
              "        docLink.innerHTML = docLinkHtml;\n",
              "        element.appendChild(docLink);\n",
              "      }\n",
              "    </script>\n",
              "  </div>\n",
              "\n",
              "\n",
              "<div id=\"df-d8e4eb8d-a993-48fb-b9b3-f37674596722\">\n",
              "  <button class=\"colab-df-quickchart\" onclick=\"quickchart('df-d8e4eb8d-a993-48fb-b9b3-f37674596722')\"\n",
              "            title=\"Suggest charts\"\n",
              "            style=\"display:none;\">\n",
              "\n",
              "<svg xmlns=\"http://www.w3.org/2000/svg\" height=\"24px\"viewBox=\"0 0 24 24\"\n",
              "     width=\"24px\">\n",
              "    <g>\n",
              "        <path d=\"M19 3H5c-1.1 0-2 .9-2 2v14c0 1.1.9 2 2 2h14c1.1 0 2-.9 2-2V5c0-1.1-.9-2-2-2zM9 17H7v-7h2v7zm4 0h-2V7h2v10zm4 0h-2v-4h2v4z\"/>\n",
              "    </g>\n",
              "</svg>\n",
              "  </button>\n",
              "\n",
              "<style>\n",
              "  .colab-df-quickchart {\n",
              "      --bg-color: #E8F0FE;\n",
              "      --fill-color: #1967D2;\n",
              "      --hover-bg-color: #E2EBFA;\n",
              "      --hover-fill-color: #174EA6;\n",
              "      --disabled-fill-color: #AAA;\n",
              "      --disabled-bg-color: #DDD;\n",
              "  }\n",
              "\n",
              "  [theme=dark] .colab-df-quickchart {\n",
              "      --bg-color: #3B4455;\n",
              "      --fill-color: #D2E3FC;\n",
              "      --hover-bg-color: #434B5C;\n",
              "      --hover-fill-color: #FFFFFF;\n",
              "      --disabled-bg-color: #3B4455;\n",
              "      --disabled-fill-color: #666;\n",
              "  }\n",
              "\n",
              "  .colab-df-quickchart {\n",
              "    background-color: var(--bg-color);\n",
              "    border: none;\n",
              "    border-radius: 50%;\n",
              "    cursor: pointer;\n",
              "    display: none;\n",
              "    fill: var(--fill-color);\n",
              "    height: 32px;\n",
              "    padding: 0;\n",
              "    width: 32px;\n",
              "  }\n",
              "\n",
              "  .colab-df-quickchart:hover {\n",
              "    background-color: var(--hover-bg-color);\n",
              "    box-shadow: 0 1px 2px rgba(60, 64, 67, 0.3), 0 1px 3px 1px rgba(60, 64, 67, 0.15);\n",
              "    fill: var(--button-hover-fill-color);\n",
              "  }\n",
              "\n",
              "  .colab-df-quickchart-complete:disabled,\n",
              "  .colab-df-quickchart-complete:disabled:hover {\n",
              "    background-color: var(--disabled-bg-color);\n",
              "    fill: var(--disabled-fill-color);\n",
              "    box-shadow: none;\n",
              "  }\n",
              "\n",
              "  .colab-df-spinner {\n",
              "    border: 2px solid var(--fill-color);\n",
              "    border-color: transparent;\n",
              "    border-bottom-color: var(--fill-color);\n",
              "    animation:\n",
              "      spin 1s steps(1) infinite;\n",
              "  }\n",
              "\n",
              "  @keyframes spin {\n",
              "    0% {\n",
              "      border-color: transparent;\n",
              "      border-bottom-color: var(--fill-color);\n",
              "      border-left-color: var(--fill-color);\n",
              "    }\n",
              "    20% {\n",
              "      border-color: transparent;\n",
              "      border-left-color: var(--fill-color);\n",
              "      border-top-color: var(--fill-color);\n",
              "    }\n",
              "    30% {\n",
              "      border-color: transparent;\n",
              "      border-left-color: var(--fill-color);\n",
              "      border-top-color: var(--fill-color);\n",
              "      border-right-color: var(--fill-color);\n",
              "    }\n",
              "    40% {\n",
              "      border-color: transparent;\n",
              "      border-right-color: var(--fill-color);\n",
              "      border-top-color: var(--fill-color);\n",
              "    }\n",
              "    60% {\n",
              "      border-color: transparent;\n",
              "      border-right-color: var(--fill-color);\n",
              "    }\n",
              "    80% {\n",
              "      border-color: transparent;\n",
              "      border-right-color: var(--fill-color);\n",
              "      border-bottom-color: var(--fill-color);\n",
              "    }\n",
              "    90% {\n",
              "      border-color: transparent;\n",
              "      border-bottom-color: var(--fill-color);\n",
              "    }\n",
              "  }\n",
              "</style>\n",
              "\n",
              "  <script>\n",
              "    async function quickchart(key) {\n",
              "      const quickchartButtonEl =\n",
              "        document.querySelector('#' + key + ' button');\n",
              "      quickchartButtonEl.disabled = true;  // To prevent multiple clicks.\n",
              "      quickchartButtonEl.classList.add('colab-df-spinner');\n",
              "      try {\n",
              "        const charts = await google.colab.kernel.invokeFunction(\n",
              "            'suggestCharts', [key], {});\n",
              "      } catch (error) {\n",
              "        console.error('Error during call to suggestCharts:', error);\n",
              "      }\n",
              "      quickchartButtonEl.classList.remove('colab-df-spinner');\n",
              "      quickchartButtonEl.classList.add('colab-df-quickchart-complete');\n",
              "    }\n",
              "    (() => {\n",
              "      let quickchartButtonEl =\n",
              "        document.querySelector('#df-d8e4eb8d-a993-48fb-b9b3-f37674596722 button');\n",
              "      quickchartButtonEl.style.display =\n",
              "        google.colab.kernel.accessAllowed ? 'block' : 'none';\n",
              "    })();\n",
              "  </script>\n",
              "</div>\n",
              "\n",
              "    </div>\n",
              "  </div>\n"
            ],
            "application/vnd.google.colaboratory.intrinsic+json": {
              "type": "dataframe",
              "summary": "{\n  \"name\": \"pd\",\n  \"rows\": 5,\n  \"fields\": [\n    {\n      \"column\": \"text\",\n      \"properties\": {\n        \"dtype\": \"string\",\n        \"num_unique_values\": 5,\n        \"samples\": [\n          \"evidence of global warming overwhelming \\u00e3 \\u00e2 \\u00e2 \\u0153 kerry \\u00e3 \\u00e2 \\u00e2 \\u0153 radio new\\u00e3 zealand \",\n          \"arctic ice melt could trigger uncontrollable climate change at global level \",\n          \"the most damaging part of trump s climate change order is the message it sends via \"\n        ],\n        \"semantic_type\": \"\",\n        \"description\": \"\"\n      }\n    }\n  ]\n}"
            }
          },
          "metadata": {},
          "execution_count": 25
        }
      ],
      "source": [
        "# Apply the above preprocessor to clean the tweet texts\n",
        "X_train = X_train.apply(preprocessor)\n",
        "X_test = X_test.apply(preprocessor)\n",
        "\n",
        "# Take a look at the first five tweets\n",
        "pd.DataFrame(X_train[:5])"
      ]
    },
    {
      "cell_type": "code",
      "execution_count": 26,
      "metadata": {
        "id": "mAx48Ch7EhDQ"
      },
      "outputs": [],
      "source": [
        "# Create a function to tokenize and lemmatize text\n",
        "def tokenizer_lemmetizer(text):\n",
        "\n",
        "  # Tokenize a tweet\n",
        "  text = tokenizer.tokenize(text)\n",
        "\n",
        "  # Remove stop words and convert a tweet to lower case\n",
        "  text = [token for token in text if token not in stop_words]\n",
        "\n",
        "  # Stem each token and combine them into a single string\n",
        "  return ' '.join([lemmatizer.lemmatize(word) for word in text])"
      ]
    },
    {
      "cell_type": "code",
      "execution_count": 27,
      "metadata": {
        "colab": {
          "base_uri": "https://localhost:8080/",
          "height": 206
        },
        "id": "-RXjAancE01_",
        "outputId": "a5ac0dec-3c85-421a-b532-a9251594d378"
      },
      "outputs": [
        {
          "output_type": "execute_result",
          "data": {
            "text/plain": [
              "                                                                                text\n",
              "16319     rt trump administration think protecting planet climate change waste money\n",
              "4522   evidence global warming overwhelming ã â â œ kerry ã â â œ radio newã zealand\n",
              "17936                     damaging part trump climate change order message sends via\n",
              "13195               rt trump really need watch film climate change national security\n",
              "7739        arctic ice melt could trigger uncontrollable climate change global level"
            ],
            "text/html": [
              "\n",
              "  <div id=\"df-17def9f2-759a-4df0-9bf4-c3119e404e28\" class=\"colab-df-container\">\n",
              "    <div>\n",
              "<style scoped>\n",
              "    .dataframe tbody tr th:only-of-type {\n",
              "        vertical-align: middle;\n",
              "    }\n",
              "\n",
              "    .dataframe tbody tr th {\n",
              "        vertical-align: top;\n",
              "    }\n",
              "\n",
              "    .dataframe thead th {\n",
              "        text-align: right;\n",
              "    }\n",
              "</style>\n",
              "<table border=\"1\" class=\"dataframe\">\n",
              "  <thead>\n",
              "    <tr style=\"text-align: right;\">\n",
              "      <th></th>\n",
              "      <th>text</th>\n",
              "    </tr>\n",
              "  </thead>\n",
              "  <tbody>\n",
              "    <tr>\n",
              "      <th>16319</th>\n",
              "      <td>rt trump administration think protecting planet climate change waste money</td>\n",
              "    </tr>\n",
              "    <tr>\n",
              "      <th>4522</th>\n",
              "      <td>evidence global warming overwhelming ã â â œ kerry ã â â œ radio newã zealand</td>\n",
              "    </tr>\n",
              "    <tr>\n",
              "      <th>17936</th>\n",
              "      <td>damaging part trump climate change order message sends via</td>\n",
              "    </tr>\n",
              "    <tr>\n",
              "      <th>13195</th>\n",
              "      <td>rt trump really need watch film climate change national security</td>\n",
              "    </tr>\n",
              "    <tr>\n",
              "      <th>7739</th>\n",
              "      <td>arctic ice melt could trigger uncontrollable climate change global level</td>\n",
              "    </tr>\n",
              "  </tbody>\n",
              "</table>\n",
              "</div>\n",
              "    <div class=\"colab-df-buttons\">\n",
              "\n",
              "  <div class=\"colab-df-container\">\n",
              "    <button class=\"colab-df-convert\" onclick=\"convertToInteractive('df-17def9f2-759a-4df0-9bf4-c3119e404e28')\"\n",
              "            title=\"Convert this dataframe to an interactive table.\"\n",
              "            style=\"display:none;\">\n",
              "\n",
              "  <svg xmlns=\"http://www.w3.org/2000/svg\" height=\"24px\" viewBox=\"0 -960 960 960\">\n",
              "    <path d=\"M120-120v-720h720v720H120Zm60-500h600v-160H180v160Zm220 220h160v-160H400v160Zm0 220h160v-160H400v160ZM180-400h160v-160H180v160Zm440 0h160v-160H620v160ZM180-180h160v-160H180v160Zm440 0h160v-160H620v160Z\"/>\n",
              "  </svg>\n",
              "    </button>\n",
              "\n",
              "  <style>\n",
              "    .colab-df-container {\n",
              "      display:flex;\n",
              "      gap: 12px;\n",
              "    }\n",
              "\n",
              "    .colab-df-convert {\n",
              "      background-color: #E8F0FE;\n",
              "      border: none;\n",
              "      border-radius: 50%;\n",
              "      cursor: pointer;\n",
              "      display: none;\n",
              "      fill: #1967D2;\n",
              "      height: 32px;\n",
              "      padding: 0 0 0 0;\n",
              "      width: 32px;\n",
              "    }\n",
              "\n",
              "    .colab-df-convert:hover {\n",
              "      background-color: #E2EBFA;\n",
              "      box-shadow: 0px 1px 2px rgba(60, 64, 67, 0.3), 0px 1px 3px 1px rgba(60, 64, 67, 0.15);\n",
              "      fill: #174EA6;\n",
              "    }\n",
              "\n",
              "    .colab-df-buttons div {\n",
              "      margin-bottom: 4px;\n",
              "    }\n",
              "\n",
              "    [theme=dark] .colab-df-convert {\n",
              "      background-color: #3B4455;\n",
              "      fill: #D2E3FC;\n",
              "    }\n",
              "\n",
              "    [theme=dark] .colab-df-convert:hover {\n",
              "      background-color: #434B5C;\n",
              "      box-shadow: 0px 1px 3px 1px rgba(0, 0, 0, 0.15);\n",
              "      filter: drop-shadow(0px 1px 2px rgba(0, 0, 0, 0.3));\n",
              "      fill: #FFFFFF;\n",
              "    }\n",
              "  </style>\n",
              "\n",
              "    <script>\n",
              "      const buttonEl =\n",
              "        document.querySelector('#df-17def9f2-759a-4df0-9bf4-c3119e404e28 button.colab-df-convert');\n",
              "      buttonEl.style.display =\n",
              "        google.colab.kernel.accessAllowed ? 'block' : 'none';\n",
              "\n",
              "      async function convertToInteractive(key) {\n",
              "        const element = document.querySelector('#df-17def9f2-759a-4df0-9bf4-c3119e404e28');\n",
              "        const dataTable =\n",
              "          await google.colab.kernel.invokeFunction('convertToInteractive',\n",
              "                                                    [key], {});\n",
              "        if (!dataTable) return;\n",
              "\n",
              "        const docLinkHtml = 'Like what you see? Visit the ' +\n",
              "          '<a target=\"_blank\" href=https://colab.research.google.com/notebooks/data_table.ipynb>data table notebook</a>'\n",
              "          + ' to learn more about interactive tables.';\n",
              "        element.innerHTML = '';\n",
              "        dataTable['output_type'] = 'display_data';\n",
              "        await google.colab.output.renderOutput(dataTable, element);\n",
              "        const docLink = document.createElement('div');\n",
              "        docLink.innerHTML = docLinkHtml;\n",
              "        element.appendChild(docLink);\n",
              "      }\n",
              "    </script>\n",
              "  </div>\n",
              "\n",
              "\n",
              "<div id=\"df-120b8bb5-d532-47d8-b11e-722fabc833c2\">\n",
              "  <button class=\"colab-df-quickchart\" onclick=\"quickchart('df-120b8bb5-d532-47d8-b11e-722fabc833c2')\"\n",
              "            title=\"Suggest charts\"\n",
              "            style=\"display:none;\">\n",
              "\n",
              "<svg xmlns=\"http://www.w3.org/2000/svg\" height=\"24px\"viewBox=\"0 0 24 24\"\n",
              "     width=\"24px\">\n",
              "    <g>\n",
              "        <path d=\"M19 3H5c-1.1 0-2 .9-2 2v14c0 1.1.9 2 2 2h14c1.1 0 2-.9 2-2V5c0-1.1-.9-2-2-2zM9 17H7v-7h2v7zm4 0h-2V7h2v10zm4 0h-2v-4h2v4z\"/>\n",
              "    </g>\n",
              "</svg>\n",
              "  </button>\n",
              "\n",
              "<style>\n",
              "  .colab-df-quickchart {\n",
              "      --bg-color: #E8F0FE;\n",
              "      --fill-color: #1967D2;\n",
              "      --hover-bg-color: #E2EBFA;\n",
              "      --hover-fill-color: #174EA6;\n",
              "      --disabled-fill-color: #AAA;\n",
              "      --disabled-bg-color: #DDD;\n",
              "  }\n",
              "\n",
              "  [theme=dark] .colab-df-quickchart {\n",
              "      --bg-color: #3B4455;\n",
              "      --fill-color: #D2E3FC;\n",
              "      --hover-bg-color: #434B5C;\n",
              "      --hover-fill-color: #FFFFFF;\n",
              "      --disabled-bg-color: #3B4455;\n",
              "      --disabled-fill-color: #666;\n",
              "  }\n",
              "\n",
              "  .colab-df-quickchart {\n",
              "    background-color: var(--bg-color);\n",
              "    border: none;\n",
              "    border-radius: 50%;\n",
              "    cursor: pointer;\n",
              "    display: none;\n",
              "    fill: var(--fill-color);\n",
              "    height: 32px;\n",
              "    padding: 0;\n",
              "    width: 32px;\n",
              "  }\n",
              "\n",
              "  .colab-df-quickchart:hover {\n",
              "    background-color: var(--hover-bg-color);\n",
              "    box-shadow: 0 1px 2px rgba(60, 64, 67, 0.3), 0 1px 3px 1px rgba(60, 64, 67, 0.15);\n",
              "    fill: var(--button-hover-fill-color);\n",
              "  }\n",
              "\n",
              "  .colab-df-quickchart-complete:disabled,\n",
              "  .colab-df-quickchart-complete:disabled:hover {\n",
              "    background-color: var(--disabled-bg-color);\n",
              "    fill: var(--disabled-fill-color);\n",
              "    box-shadow: none;\n",
              "  }\n",
              "\n",
              "  .colab-df-spinner {\n",
              "    border: 2px solid var(--fill-color);\n",
              "    border-color: transparent;\n",
              "    border-bottom-color: var(--fill-color);\n",
              "    animation:\n",
              "      spin 1s steps(1) infinite;\n",
              "  }\n",
              "\n",
              "  @keyframes spin {\n",
              "    0% {\n",
              "      border-color: transparent;\n",
              "      border-bottom-color: var(--fill-color);\n",
              "      border-left-color: var(--fill-color);\n",
              "    }\n",
              "    20% {\n",
              "      border-color: transparent;\n",
              "      border-left-color: var(--fill-color);\n",
              "      border-top-color: var(--fill-color);\n",
              "    }\n",
              "    30% {\n",
              "      border-color: transparent;\n",
              "      border-left-color: var(--fill-color);\n",
              "      border-top-color: var(--fill-color);\n",
              "      border-right-color: var(--fill-color);\n",
              "    }\n",
              "    40% {\n",
              "      border-color: transparent;\n",
              "      border-right-color: var(--fill-color);\n",
              "      border-top-color: var(--fill-color);\n",
              "    }\n",
              "    60% {\n",
              "      border-color: transparent;\n",
              "      border-right-color: var(--fill-color);\n",
              "    }\n",
              "    80% {\n",
              "      border-color: transparent;\n",
              "      border-right-color: var(--fill-color);\n",
              "      border-bottom-color: var(--fill-color);\n",
              "    }\n",
              "    90% {\n",
              "      border-color: transparent;\n",
              "      border-bottom-color: var(--fill-color);\n",
              "    }\n",
              "  }\n",
              "</style>\n",
              "\n",
              "  <script>\n",
              "    async function quickchart(key) {\n",
              "      const quickchartButtonEl =\n",
              "        document.querySelector('#' + key + ' button');\n",
              "      quickchartButtonEl.disabled = true;  // To prevent multiple clicks.\n",
              "      quickchartButtonEl.classList.add('colab-df-spinner');\n",
              "      try {\n",
              "        const charts = await google.colab.kernel.invokeFunction(\n",
              "            'suggestCharts', [key], {});\n",
              "      } catch (error) {\n",
              "        console.error('Error during call to suggestCharts:', error);\n",
              "      }\n",
              "      quickchartButtonEl.classList.remove('colab-df-spinner');\n",
              "      quickchartButtonEl.classList.add('colab-df-quickchart-complete');\n",
              "    }\n",
              "    (() => {\n",
              "      let quickchartButtonEl =\n",
              "        document.querySelector('#df-120b8bb5-d532-47d8-b11e-722fabc833c2 button');\n",
              "      quickchartButtonEl.style.display =\n",
              "        google.colab.kernel.accessAllowed ? 'block' : 'none';\n",
              "    })();\n",
              "  </script>\n",
              "</div>\n",
              "\n",
              "    </div>\n",
              "  </div>\n"
            ],
            "application/vnd.google.colaboratory.intrinsic+json": {
              "type": "dataframe",
              "summary": "{\n  \"name\": \"pd\",\n  \"rows\": 5,\n  \"fields\": [\n    {\n      \"column\": \"text\",\n      \"properties\": {\n        \"dtype\": \"string\",\n        \"num_unique_values\": 5,\n        \"samples\": [\n          \"evidence global warming overwhelming \\u00e3 \\u00e2 \\u00e2 \\u0153 kerry \\u00e3 \\u00e2 \\u00e2 \\u0153 radio new\\u00e3 zealand\",\n          \"arctic ice melt could trigger uncontrollable climate change global level\",\n          \"damaging part trump climate change order message sends via\"\n        ],\n        \"semantic_type\": \"\",\n        \"description\": \"\"\n      }\n    }\n  ]\n}"
            }
          },
          "metadata": {},
          "execution_count": 27
        }
      ],
      "source": [
        "# Apply the above function on the train and test sets\n",
        "X_train = X_train.apply(tokenizer_lemmetizer)\n",
        "X_test = X_test.apply(tokenizer_lemmetizer)\n",
        "\n",
        "# Take a look at the first five tweets\n",
        "pd.DataFrame(X_train[:5])"
      ]
    },
    {
      "cell_type": "code",
      "execution_count": 28,
      "metadata": {
        "id": "ILtp-n5pE3LC"
      },
      "outputs": [],
      "source": [
        "# Construct the vocabulary of the bag-of-words model\n",
        "count = CountVectorizer(\n",
        "  # Remove stop words\n",
        "  stop_words = 'english',\n",
        "  # Create 1-gram vocabulary (i.e., a single word)\n",
        "  # Note: use (1, 2) to create 2-gram vocabulary\n",
        "  ngram_range = (1, 1),\n",
        "  # Build a vocabulary of 10000 most frequent words\n",
        "  max_features = 10000)"
      ]
    },
    {
      "cell_type": "code",
      "execution_count": 29,
      "metadata": {
        "colab": {
          "base_uri": "https://localhost:8080/"
        },
        "id": "yMXCAjpqGVdm",
        "outputId": "3def05a3-a68e-4191-8ab3-29c705b1325f"
      },
      "outputs": [
        {
          "output_type": "stream",
          "name": "stdout",
          "text": [
            "(39548, 10000)\n",
            "(4395, 10000)\n"
          ]
        }
      ],
      "source": [
        "# Fit and transform the train set into sparse feature vectors\n",
        "X_train_bag = count.fit_transform(X_train)\n",
        "print(X_train_bag.shape)\n",
        "\n",
        "# Transform the test set into sparse feature vectors\n",
        "X_test_bag = count.transform(X_test)\n",
        "print(X_test_bag.shape)"
      ]
    },
    {
      "cell_type": "code",
      "execution_count": 30,
      "metadata": {
        "colab": {
          "base_uri": "https://localhost:8080/"
        },
        "id": "VVXgC1Z2Gk4z",
        "outputId": "f9516636-ce96-434d-b8ed-484d2e495637"
      },
      "outputs": [
        {
          "output_type": "stream",
          "name": "stdout",
          "text": [
            "10000\n",
            "{'rt': 7733, 'trump': 9095, 'administration': 462, 'think': 8880, 'protecting': 7090, 'planet': 6745, 'climate': 1834, 'change': 1691, 'waste': 9575, 'money': 5767, 'evidence': 3192, 'global': 3776, 'warming': 9548, 'overwhelming': 6388, 'kerry': 4985, 'radio': 7242, 'newã': 5965, 'zealand': 9906, 'damaging': 2348, 'order': 6292, 'message': 5626, 'sends': 8028, 'really': 7344, 'need': 5914, 'watch': 9581, 'film': 3441, 'national': 5887, 'security': 7993, 'arctic': 807, 'ice': 4434, 'melt': 5598, 'trigger': 9074, 'uncontrollable': 9186, 'level': 5176, 'potus': 6894, 'joke': 4906, 'declining': 2433, 'education': 2957, 'people': 6598, 'si': 8176, 'dismissing': 2711, 'finding': 3451, '97': 309, 'scientist': 7911, 'like': 5225, 'medical': 5582, 'community': 1976, 'smoking': 8287, 'bad': 999, 'request': 7552, 'government': 3838, 'finish': 3456, 'disaster': 2676, 'building': 1479, 'code': 1909, 'safety': 7780, 'factor': 3317, 'project': 7052, 'otherâ': 6323, 'arab': 797, 'world': 9762, 'predictable': 6928, 'want': 9533, 'maybe': 5557, 'nut': 6109, 'given': 3765, 'sign': 8188, 'enlist': 3084, 'burn': 1501, 'oil': 6217, 'make': 5444, 'live': 5269, 'denial': 2518, 'canadian': 1570, 'working': 9759, 'abroad': 348, 'field': 3428, 'news': 5950, 'canada': 1569, 'leadership': 5118, 'iâ': 4838, 'american': 675, 'real': 7332, 'harm': 4035, 'interesting': 4726, 'study': 8565, 'view': 9411, 'risk': 7685, 'veel': 9371, 'minder': 5685, 'op': 6252, 'zee': 9908, 'confused': 2048, 'way': 9597, 'fight': 3430, 'earth': 2911, 'flat': 3484, 'conspiracy': 2082, 'good': 3814, 'mislead': 5710, 'voter': 9478, 'springst': 8422, 'talk': 8739, 'actual': 430, 'impact': 4531, 'felt': 3410, 'public': 7129, 'treat': 9056, 'rich': 7656, 'country': 2197, 'avoiding': 964, 'helping': 4148, 'worldã': 9773, 'poor': 6853, 'cope': 2156, 'energy': 3067, 'dept': 2550, 'reject': 7469, 'worker': 9758, 'remain': 7494, 'worried': 9775, 'november': 6076, 'shout': 8153, 'earthhour': 2914, 'turn': 9130, 'light': 5219, '30': 206, 'remember': 7500, 'animal': 709, 'agriculture': 543, 'main': 5429, 'cause': 1635, 'vegan': 9373, 'stop': 8517, 'beforetheflood': 1131, 'university': 9251, 'beforeyouvote': 1133, 'postdoc': 6883, 'position': 6876, 'specie': 8380, 'interaction': 4723, 'repubs': 7551, 'tell': 8796, 'trillion': 9077, 'ton': 8974, 'iceberg': 4435, 'broke': 1452, 'dismisses': 2710, 'advisory': 484, 'panel': 6459, 'exxon': 3299, 'exact': 3203, 'graph': 3865, 'showing': 8162, '1980': 99, 'ignored': 4479, 'watertable': 9590, 'share': 8108, 'idea': 4450, 'bring': 1440, 'ground': 3903, 'water': 9585, 'reduce': 7409, 'relationship': 7478, 'carbon': 1593, 'fossil': 3569, 'fuel': 3649, 'burning': 1504, 'amp': 680, 'understood': 9203, '100': 18, 'year': 9865, 'ago': 531, 'science': 7899, 'wrong': 9817, 'fundamental': 3661, 'underlying': 9194, 'clear': 1820, 'look': 5322, 'town': 9002, 'thank': 8837, 'enjoying': 3082, 'quick': 7207, 'trip': 9078, 'brown': 1460, 'county': 2198, 'state': 8466, 'park': 6492, '75': 286, 'degree': 2473, 'day': 2384, 'point': 6806, 'kid': 4997, 'frosty': 3631, 'snowman': 8304, 'televised': 8795, 'debate': 2396, 'hacked': 3952, 'clinton': 1870, 'campaign': 1564, 'email': 3004, 'pollution': 6844, 'conservative': 2071, 'believe': 1160, 'scariest': 7871, 'type': 9147, 'honor': 4282, 'let': 5169, 'jim': 4886, '100k': 23, 'train': 9026, 'ðÿš': 9953, 'ride': 7666, 'trumptrain': 9103, 'disagreeing': 2666, 'sky': 8241, 'blue': 1329, 'wet': 9640, 'human': 4362, 'breathe': 1416, 'le': 5114, 'baby': 988, 'food': 3531, 'adopt': 471, 'lil': 5230, 'asian': 861, 'life': 5211, 'court': 2202, 'fault': 3377, 'federal': 3399, 'agency': 519, 'faulty': 3378, 'analysis': 685, 'mining': 5692, 'coal': 1899, 'bc': 1096, 'dumbass': 2876, 'bitch': 1274, 'thing': 8878, 'unison': 9240, 'member': 5603, 'today': 8961, 'weekend': 9622, '2018': 142, 'gain': 3691, 'skill': 8235, 'apply': 773, 'join': 4901, '10': 17, 'week': 9621, 'sea': 7960, 'rise': 7682, 'accelerated': 368, '50': 245, 'percent': 6605, 'past': 6521, 'decade': 2410, 'lnp': 5285, 'industry': 4624, 'bison': 1271, 'south': 8361, 'dakota': 2342, 'teach': 8773, 'fighting': 3432, 'budget': 1473, 'envisions': 3115, 'barely': 1051, 'deal': 2390, 'artificialintelligence': 854, 'ruin': 7741, 'blockchain': 1313, 'woman': 9741, 'save': 7832, 'ai': 554, 'raised': 7260, 'nz': 6131, 'election': 2981, 'opposition': 6279, 'party': 6510, 'called': 1553, 'key': 4988, 'issue': 4822, 'fuck': 3643, 'yeah': 9864, 'defying': 2469, 'tweeting': 9140, 'lost': 5342, 'future': 3675, 'long': 5318, 'term': 8810, 'early': 2910, 'career': 1602, 'researcher': 7561, 'poster': 6885, 'epa': 3122, 'staff': 8435, 'trained': 9027, 'leak': 5123, 'ensure': 3089, 'protect': 7088, 'environment': 3108, 'picture': 6703, 'surviving': 8668, 'bangladesh': 1033, 'support': 8637, 'expedition': 3246, 'climatechange': 1839, 'cop21': 2152, 'came': 1560, 'dinosaur': 2646, 'killed': 5001, 'man': 5472, 'met': 5629, 'office': 6201, 'warns': 9560, 'express': 3279, 'uk': 9166, 'bond': 1352, 'developing': 2601, 'got': 3830, 'denier': 2524, 'blaming': 1293, 'sun': 8623, 'say': 7843, 'america': 674, 'leader': 5116, 'doesnã': 2771, 'killing': 5003, 'hibernating': 4178, 'bear': 1105, 'dangerous': 2358, 'ya': 9850, 'nightmare': 5991, 'th': 8835, 'michael': 5648, 'black': 1286, 'white': 9668, 'helped': 4146, 'wacko': 9497, 'coming': 1954, 'age': 516, 'weâ': 9642, 'ok': 6221, 'heading': 4100, 'awful': 974, 'shade': 8093, 'lip': 5246, 'stain': 8441, 'dude': 2873, 'start': 8455, 'follow': 3525, 'twitter': 9144, 'understand': 9199, 'international': 4733, 'trade': 9015, 'question': 7200, 'weed': 9620, 'hate': 4064, 'paying': 6547, 'tax': 8760, 'big': 1219, 'ol': 6224, 'hoã': 4335, 'information': 4642, 'scott': 7927, 'pruitt': 7115, 'website': 9617, 'nasa': 5882, 'best': 1191, 'bet': 1192, 'itâ': 4833, 'prepare': 6945, 'throw': 8912, 'elected': 2979, 'prioritize': 7002, 'investing': 4768, 'ðÿ': 9950, 'case': 1617, 'thinking': 8883, 'accept': 373, 'obvious': 6170, '20': 122, 'million': 5678, 'face': 3309, 'severe': 8076, 'famine': 3348, 'combination': 1945, 'conflict': 2042, 'interviewer': 4742, 'melania': 5595, 'hello': 4143, 'kind': 5005, 'strong': 8553, 'great': 3876, 'cã': 2332, 'gender': 3721, 'หร': 9993, 'love': 5352, 'leo': 5158, 'used': 9319, 'speech': 8385, 'instead': 4693, 'hey': 4171, 'finally': 3446, 'oscar': 6319, 'netherlands': 5939, 'hypothetical': 4421, 'drag': 2826, 'economy': 2943, 'opportunity': 6273, 'crime': 2253, 'stupidity': 8573, 'display': 2718, 'video': 9408, '133': 47, 'charles': 1707, 'uganda': 9160, 'firm': 3465, 'wasting': 9579, 'billion': 1234, 'ignoring': 4481, 'iea': 4468, 'otoh': 6324, 'decide': 2418, 'address': 450, 'probably': 7018, 'end': 3053, 'giving': 3766, 'atmosphere': 906, 'away': 972, 'mar': 5502, 'apparently': 763, 'bart': 1058, 'irony': 4799, 'trace': 9009, 'hyping': 4414, 'responsive': 7591, 'valid': 9348, 'theory': 8861, 'political': 6824, 'violence': 9427, 'lol': 5308, 'care': 1600, 'interior': 4730, 'secretary': 7983, 'pick': 6699, 'hoax': 4238, 'catastrophic': 1627, 'elaborate': 2976, 'race': 7230, 'curb': 2305, 'city': 1793, 'outpace': 6350, 'parisagreement': 6488, 'c40': 1533, 'cities4climate': 1790, 'predict': 6927, '3rd': 228, 'following': 3528, 'discussed': 2691, 'right': 7673, 'choose': 1758, 'new': 5946, 'effect': 2961, 'society': 8317, 'vulnerability': 9488, 'check': 1719, 'comparing': 1982, '1998': 111, '2017': 140, 'illustrates': 4502, 'runaway': 7749, '2017â': 141, 'curious': 2311, 'disappearance': 2670, 'brexit': 1427, 'berlin': 1185, 'andrew': 695, 'simms': 8201, 'ivotedbecause': 4837, 'equality': 3128, 'comprehensive': 2002, 'immigration': 4523, 'reform': 7427, 'pro': 7013, 'choice': 1753, 'fascinating': 3365, 'completely': 1995, 'avoided': 963, 'corrupt': 2175, 'suing': 8616, 'company': 1978, 'worse': 9779, 'childish': 1742, 'loving': 5358, 'plain': 6742, 'textbook': 8829, 'free': 3603, '21': 160, 'cloudy': 1885, 'feedback': 3402, 'tech': 8783, 'urge': 9308, 'threaten': 8900, 'wildlife': 9689, 'wild': 9686, 'place': 6739, 'reverse': 7638, 'progress': 7050, 'travel': 9049, 'tackle': 8723, 'httã': 4343, 'president': 6960, 'elect': 2978, 'going': 3806, 'mr': 5817, 'tã': 9153, 'sued': 8603, 'bank': 1035, 'precious': 6922, 'resource': 7579, 'including': 4586, 'air': 565, 'fact': 3314, 'politics': 6831, 'discussion': 2693, 'act': 416, 'technology': 8790, 'mankind': 5488, 'expert': 3253, 'paris': 6486, 'agreement': 535, 'enters': 3096, 'force': 3542, 'turnbull': 9131, 'selling': 8017, 'australia': 940, 'short': 8146, 'shorten': 8148, 'guardian': 3921, 'funding': 3667, 'propaganda': 7069, 'donã': 2795, 'silly': 8198, 'natural': 5893, 'defense': 2451, 'council': 2186, 'windmill': 9699, 'greatest': 3879, 'threat': 8899, 'bald': 1020, 'golden': 3808, 'eagle': 2904, 'medium': 5586, 'claim': 1801, 'fictional': 3424, 'meet': 5587, 'leading': 5119, 'poverty': 6897, 'online': 6244, 'represent': 7543, 'smart': 8273, 'initiative': 4654, 'peru': 6646, 'blessing': 1304, 'curse': 2315, 'duterte': 2890, 'yung': 9900, 'ko': 5028, 'unanimous': 9177, 'vote': 9475, 'stopping': 8520, 'boost': 1361, '19': 74, 'create': 2230, 'job': 4894, 'possible': 6879, 'cooperation': 2150, 'collapse': 1921, 'presidency': 6959, 'reality': 7339, 'tv': 9137, 'walk': 9520, 'hope': 4293, 'actually': 432, 'chance': 1688, 'hell': 4140, 'freeze': 3606, 'hereâ': 4161, 'nah': 5869, 'donâ': 2794, 'groundhog': 3906, 'shadow': 8094, 'cow': 2208, 'emit': 3022, 'lot': 5344, 'methane': 5637, 'entire': 3097, 'huge': 4355, 'india': 4609, 'die': 2624, 'husband': 4396, 'liberal': 5196, 'maga': 5414, 'retweet': 7620, 'poll': 6832, 'representative': 7545, 'accurate': 394, 'limited': 5233, 'listen': 5252, 'fossiã': 3571, 'urbanization': 9307, 'google': 3821, 'timelapse': 8942, '32': 212, 'enjoy': 3081, 'weather': 9611, 'product': 7035, 'dying': 2897, 'al': 587, 'franken': 3594, 'unchecked': 9184, 'stupendously': 8570, 'expensive': 3248, 'win': 9697, 'indigenous': 4616, 'activist': 425, 'xiuhtezcatl': 9843, 'martinez': 5529, 'demand': 2499, 'action': 420, 'hurricanematthew': 4390, 'diplomat': 2650, 'summit': 8621, 'concerned': 2015, 'stance': 8446, 'dem': 2498, 'senator': 8025, 'congress': 2056, 'chief': 1740, 'anti': 740, 'lgbt': 5185, 'ready': 7328, 'admit': 466, 'winter': 9706, 'lasted': 5084, 'thanks': 8839, 'tweet': 9138, 'leaving': 5131, 'accord': 387, 'god': 3801, 'control': 2124, 'story': 8529, 'furthering': 3672, 'goal': 3800, 'icymi': 4446, 'debated': 2397, 'los': 5336, 'angeles': 704, 'sue': 8602, 'major': 5441, 'role': 7708, 'wâ': 9836, 'singing': 8211, 'addressing': 452, 'health': 4105, 'moral': 5786, 'republican': 7550, 'developed': 2599, 'denies': 2525, 'draw': 2836, 'link': 5242, 'feminist': 3414, 'voted': 9476, 'solution': 8329, 'page': 6425, 'scientifically': 7910, 'proven': 7103, 'error': 3149, 'nope': 6040, 'wildfire': 9688, 'tree': 9061, 'loss': 5341, 'saw': 7842, 'decline': 2431, 'santa': 7812, 'cruz': 2282, 'thanksgiving': 8840, 'established': 3161, 'activity': 426, 'speak': 8374, 'happening': 4013, 'innovative': 4664, 'scottish': 7928, 'help': 4145, 'africa': 505, 'sexist': 8082, 'iã': 4839, 'creating': 2233, 'tank': 8746, 'post': 6881, 'tory': 8989, 'calling': 1555, 'denying': 2533, 'homophobic': 4272, 'terrorist': 8820, 'bigot': 1225, 'ally': 645, 'scary': 7872, 'dang': 2356, 'darn': 2365, 'know': 5022, 'rising': 7684, 'hoosier': 4291, 'ha': 3946, 'lower': 5360, 'educate': 2955, 'girl': 3763, 'increase': 4596, 'renewable': 7517, 'plant': 6756, 'maintain': 5436, 'tropical': 9085, 'forest': 3550, 'obama': 6141, 'policy': 6821, 'daily': 2339, 'mail': 5428, 'rogue': 7707, 'account': 389, 'spring': 8421, 'donald': 2782, 'washington': 9569, 'survival': 8665, 'tool': 8981, 'fourth': 3578, 'revolution': 7646, 'macron': 5406, 'delivers': 2491, 'english': 3078, 'speaks': 8377, 'cut': 2318, 'wef18': 9627, 'warmingâ': 9549, 'quoting': 7223, 'high': 4184, 'school': 7886, 'late': 5087, 'ëœâ': 9946, 'yr': 9899, 'boomer': 1359, 'kill': 5000, 'thursday': 8919, 'devoted': 2606, 'site': 8219, 'malcolm': 5459, 'robert': 7695, 'asked': 864, 'csiro': 2285, 'stated': 8467, 'penis': 6588, 'seriously': 8056, 'clean': 1813, 'beautiful': 1112, 'healthy': 4108, 'old': 6225, 'bullshit': 1488, 'tired': 8951, 'heã': 4173, 'yes': 9875, 'supporting': 8640, 'fun': 3657, 'giant': 3759, 'king': 5010, 'crab': 2217, 'latest': 5090, 'warning': 9559, 'financial': 3449, 'time': 8941, 'caused': 1636, 'deforestation': 2463, 'charcoal': 1702, 'invention': 4759, 'bâ': 1530, 'presenting': 6955, 'multi': 5831, 'local': 5295, 'research': 7560, 'migration': 5665, 'marshall': 5527, 'island': 4813, 'socialmedia': 8315, 'launch': 5098, 'bunch': 1494, 'cold': 1914, 'talking': 8741, 'lucky': 5373, 'statement': 8468, 'sexy': 8085, 'sex': 8080, '25': 177, 'popular': 6862, 'slogan': 8261, 'globalwarming': 3786, 'better': 1197, 'asking': 866, 'tho': 8889, 'cuz': 2321, 'rw': 7760, 'nutter': 6116, 'abbott': 326, 'sculpture': 7952, 'issac': 4821, 'cordal': 2162, 'œpoliticians': 9967, 'discussing': 2692, 'continues': 2108, 'expect': 3241, 'large': 5078, 'century': 1669, 'induced': 4621, 'wave': 9596, 'hit': 4224, 'wash': 9566, 'occurs': 6180, 'carolina': 1611, 'blame': 1291, 'nation': 5886, 'benefit': 1178, 'wanted': 9534, 'nyc': 6124, 'harder': 4029, 'healthcare': 4106, 'inspiration': 4682, 'creative': 2238, 'power': 6899, 'onâ': 6248, 'died': 2625, 'ch': 1675, 'emergency': 3018, 'launched': 5099, 'convince': 2135, 'failure': 3327, 'planetary': 6747, 'hard': 4026, 'gun': 3935, 'insurance': 4701, 'bankruptcy': 1039, 'nuclear': 6096, 'war': 9539, 'comment': 1957, 'saying': 7845, 'moon': 5781, 'landing': 5070, 'complicated': 1998, 'needed': 5915, 'edited': 2949, 'brink': 1443, '95': 307, 'cent': 1663, 'tipping': 8949, 'wise': 9714, 'urgently': 9312, 'noaa': 6013, 'refutes': 7441, 'notion': 6067, 'hiatus': 4177, 'rate': 7302, 'dear': 2393, 'sir': 8216, 'basic': 1068, 'path': 6527, 'half': 3975, 'joking': 4908, 'covering': 2206, 'journalist': 4923, 'load': 5287, 'use': 9318, 'fall': 3337, 'twice': 9141, 'fast': 3369, 'thought': 8894, 'contain': 2095, 'available': 954, 'bbc': 1090, 'wood': 9751, 'scheme': 7882, 'concise': 2018, 'info': 4638, 'infrastructure': 4645, 'investment': 4769, 'concern': 2014, 'linked': 5243, 'depression': 2549, 'anxiety': 745, 'looking': 5324, 'captain': 1590, 'ho': 4236, 'fair': 3328, 'correctly': 2172, 'pushing': 7169, 'scam': 7858, 'ta': 8719, 'classic': 1810, 'ohio': 6215, 'storm': 8527, 'flood': 3499, 'overnight': 6378, 'business': 1512, 'startup': 8460, 'success': 8592, 'motivation': 5804, 'rejoin': 7473, 'fortunately': 3564, 'rupert': 7754, 'murdoch': 5845, 'myth': 5863, 'personally': 6639, 'havent': 4076, 'affected': 496, 'loses': 5339, 'uninformed': 9233, 'opinion': 6267, 'watching': 9584, 'segment': 8003, 'rio2016': 7678, 'ceremony': 1671, 'reminded': 7504, 'currently': 2313, 'glacier': 3769, 'gone': 3813, 'nerve': 5935, 'doubt': 2809, 'set': 8067, 'barack': 1044, 'measure': 5575, 'tuesday': 9120, 'albertans': 602, 'excuse': 3223, 'hm': 4231, 'nat': 5884, 'regulator': 7462, 'farm': 3359, 'draft': 2825, 'bernie': 1187, 'scientific': 7909, 'closed': 1877, 'cease': 1651, 'martin': 5528, 'wolf': 9740, 'presidential': 6963, 'unfolded': 9220, 'focus': 3519, 'dean': 2392, 'williams': 9694, 'bit': 1273, 'left': 5138, 'add': 445, 'voice': 9463, 'ambitious': 671, 'pariah': 6484, 'economist': 2942, 'hot': 4319, 'decision': 2424, 'pull': 7140, 'reflects': 7425, 'selfish': 8013, 'sighted': 8187, 'ship': 8130, 'tf': 8831, 'population': 6863, 'shit': 8133, 'dâ': 2901, 'important': 4558, 'warmest': 9546, 'record': 7394, 'taken': 8735, '2010': 133, 'closely': 1878, 'tied': 8933, 'intense': 4715, 'oâ': 6409, 'austerity': 938, 'come': 1948, 'recorded': 7395, 'quickly': 7210, 'common': 1968, 'drier': 2844, 'coast': 1901, 'west': 9638, 'speaking': 8376, 'tonight': 8977, 'killer': 5002, 'episode': 3126, '9c': 313, 'drop': 2855, 'environmental': 3109, 'review': 7641, 'bloomberg': 1322, 'miami': 5646, '3c': 225, 'leave': 5130, '83': 295, 'continue': 2106, 'pls': 6788, 'brain': 1393, 'soon': 8345, 'getting': 3754, 'worst': 9785, 'potentially': 6893, 'breaking': 1410, 'number': 6101, 'undermines': 9196, 'able': 331, 'dammit': 2349, 'kentut': 4981, 'sapi': 7815, 'termasuk': 8811, 'penyebab': 6596, 'utama': 9329, 'karena': 4961, 'mengeluarkan': 5609, 'gas': 3706, 'panas': 6455, 'yang': 9858, 'bisa': 1269, 'merusak': 5623, 'udara': 9158, 'pentagon': 6594, 'strategy': 8536, 'document': 2761, 'include': 4583, 'official': 6204, 'reuters': 7625, 'unprecedented': 9263, 'biz': 1282, 'itã': 4834, 'implication': 4550, 'indus': 4622, 'basin': 1070, 'bob': 1336, 'soft': 8319, 'dream': 2838, 'running': 7751, 'ellie': 2999, 'solving': 8334, 'epidemic': 3125, 'especially': 3154, 'freezing': 3607, 'outside': 6359, 'eu': 3174, 'smarter': 8275, 'consumer': 2091, 'combat': 1942, 'climatechangeâ': 1843, 'extreme': 3295, 'conversation': 2132, 'melting': 5601, 'greenland': 3887, 'anymore': 748, 'revives': 7644, 'era': 3137, 'anthrax': 736, 'outbreak': 6337, 'siberia': 8178, 'inquisitr': 4668, 'grass': 3869, 'putting': 7172, 'fake': 3332, 'lie': 5208, 'marriage': 5524, 'halloween': 3979, 'wan': 9530, 'na': 5866, 'scared': 7867, 'doc': 2758, 'cnn': 1894, 'airing': 567, 'ad': 434, 'gop': 3823, 'try': 9111, 'taking': 8736, 'concrete': 2023, 'pres': 6951, 'respect': 7581, 'sorry': 8351, 'upset': 9303, 'cooling': 2147, 'ask': 863, 'crisis': 2257, 'read': 7325, 'aka': 581, 'freaking': 3600, 'nearly': 5907, 'alaskan': 598, 'village': 9418, 'relocate': 7491, 'montreal': 5777, 'gazette': 3715, 'historic': 4219, 'flooding': 3501, 'quebec': 7193, 'push': 7167, 'racism': 7234, 'grand': 3854, 'dragon': 2828, 'kkk': 5015, 'democrat': 2505, 'ahead': 551, 'game': 3697, 'preparing': 6949, 'ht': 4340, 'truth': 9110, 'suffer': 8604, 'perpetuating': 6630, 'france': 3590, 'unstoppable': 9279, 'americaã': 677, 'october': 6189, 'sweating': 8689, 'hopefully': 4296, 'reversing': 7640, 'machine': 5402, 'advocacy': 485, 'group': 3909, 'confuse': 2047, 'existence': 3229, 'adviser': 482, 'temperature': 8802, 'showed': 8160, 'signal': 8189, 'hottest': 4325, 'sâ': 8717, 'tracking': 9013, '11': 33, 'image': 4506, 'religious': 7490, 'freedom': 3604, 'sanity': 7811, 'racial': 7232, 'harmony': 4039, 'terrifying': 8816, 'nighã': 5993, 'sdg': 7955, 'experiencing': 3251, 'significant': 8193, 'china': 1748, 'explaining': 3258, 'history': 4222, 'underscore': 9198, 'didnt': 2620, 'godã': 3802, 'discus': 2690, 'fiji': 3436, 'work': 9756, 'dumb': 2875, 'disgusting': 2698, '1970': 95, '1990': 106, 'hiv': 4228, 'spot': 8413, 'denialists': 2521, 'french': 3608, 'hollande': 4253, 'pledge': 6780, 'growing': 3911, 'agai': 513, 'planned': 6753, 'parenthood': 6482, 'matter': 5548, 'disabled': 2664, 'largest': 5081, 'reindeer': 7467, 'victim': 9403, 'quite': 7216, 'dramatic': 2832, 'written': 9816, 'commitment': 1963, 'economic': 2939, 'growth': 3914, 'penguin': 6586, 'guess': 3923, 'military': 5673, 'african': 506, 'afdb': 493, 'insight': 4677, 'stand': 8447, 'hold': 4247, 'polluter': 6840, 'gt': 3916, 'permafrost': 6621, 'frozen': 3633, 'thawing': 8848, 'faster': 3370, 'accelerating': 370, 'figueres': 3433, 'mainstream': 5434, 'writes': 9814, 'arizona': 825, 'davos': 2380, 'modi': 5758, 'defining': 2460, 'challenge': 1682, 'prove': 7101, 'berniesanders': 1189, 'author': 943, 'single': 8212, 'law': 5103, '70': 279, 'february': 3397, 'overheated': 6375, 'model': 5752, 'restoring': 7598, 'noforestnofuture': 6021, 'incredible': 4600, 'snow': 8298, 'team': 8776, 'department': 2535, 'employee': 3036, 'attended': 919, 'conference': 2034, 'resist': 7572, 'nye': 6126, 'slam': 8243, 'skeptic': 8230, 'list': 5250, 'forever': 3552, 'social': 8311, 'bankrupt': 1038, 'canâ': 1580, 'nato': 5892, 'mull': 5830, 'worldnews': 9765, 'matt': 5547, 'digital': 2637, 'sport': 8412, 'hired': 4212, 'private': 7008, 'jet': 4872, 'poem': 6803, 'saâ': 7849, '2016': 139, 'united': 9244, 'belief': 1159, 'chinese': 1750, 'tackling': 8725, 'exclusive': 3222, 'higher': 4185, 'green': 3883, 'checked': 1720, 'fed': 3398, 'sk': 8227, 'plan': 6743, 'approval': 786, 'karl': 4962, 'treaty': 9060, 'dead': 2387, '2080': 155, 'combating': 1943, 'depends': 2539, 'gon': 3812, '60': 265, 'worry': 9776, 'worsening': 9782, 'frequent': 3610, 'emmanuel': 3026, 'drive': 2849, 'honour': 4285, 'pact': 6421, 'gather': 3709, 'pace': 6414, 'constantly': 2083, 'reflect': 7422, 'finnish': 3461, 'lose': 5337, 'globe': 3790, 'dismantle': 2704, 'agenda': 520, 'european': 3178, 'interested': 4725, 'hrc': 4337, 'proposes': 7081, 'installing': 4690, 'solar': 8322, 'hoaxã': 4241, 'literally': 5260, 'cricket': 2251, 'golf': 3810, 'ed': 2945, 'la': 5045, 'pulling': 7142, 'beautifully': 1113, 'blow': 1325, 'nycâ': 6125, 'lawsuit': 5107, 'worth': 9787, 'reacts': 7324, 'cautiously': 1639, 'rip': 7679, 'channel': 1697, 'founder': 3577, 'john': 4897, 'coleman': 1917, 'dy': 2896, 'hoaxâ': 4240, 'sadly': 7776, 'reef': 7414, 'globalist': 3781, 'frequently': 3611, 'headline': 4101, 'contrary': 2115, 'design': 2566, 'emoji': 3027, 'biggest': 1223, 'result': 7602, 'little': 5267, 'staying': 8483, 'wiã': 9734, 'ocean': 6182, 'chart': 1710, 'disagrees': 2668, 'co2': 1897, 'primary': 6992, 'contributor': 2122, 'report': 7538, 'geography': 3742, 'student': 8563, 'cultural': 2301, 'apocalypse': 756, 'extremely': 3296, 'began': 1135, 'christian': 1767, 'creation': 2234, 'ignorant': 4477, 'inter': 4722, 'generational': 3729, 'theft': 8853, 'murder': 5841, 'auspol': 936, 'qt': 7181, 'insurer': 4702, 'count': 2189, 'cost': 2179, 'harvey': 4057, 'welcome': 9633, 'deny': 2532, 'men': 5607, 'brag': 1392, 'rape': 7291, 'notmypresident': 6070, 'avoid': 962, 'useful': 9320, 'setting': 8070, 'mp': 5816, 'amid': 678, 'march': 5504, 'heat': 4120, 'googlealerts': 3822, 'version': 9388, 'james': 4850, 'explains': 3259, 'seen': 8002, 'bluehand': 1330, 'spread': 8419, 'characterized': 1701, 'sec': 7977, 'ross': 7723, 'stick': 8507, 'service': 8062, 'st': 8429, 'anne': 713, 'followed': 3526, 'rally': 7264, 'belfast': 1155, 'climatejustice': 1850, 'knew': 5018, 'funded': 3665, '27': 185, 'invest': 4762, 'plug': 6789, 'slowing': 8265, 'lift': 5216, 'lmao': 5280, 'plastic': 6762, 'bottle': 1378, 'menace': 5608, 'head': 4097, 'administrator': 463, 'gravity': 3874, 'absolutely': 354, 'problem': 7022, 'sta': 8430, 'uncharted': 9183, 'territory': 8817, 'unlike': 9256, 'red': 7403, 'night': 5990, 'afternoon': 509, 'easy': 2925, 'rid': 7662, 'uh': 9164, 'reason': 7348, 'gogreen': 3804, 'photo': 6683, 'fringe': 3623, 'lawmaker': 5104, 'rejecting': 7471, 'mitigating': 5730, 'footage': 3537, 'abnormal': 333, 'proof': 7068, 'nom': 6024, 'wh': 9644, 'enviro': 3106, 'quality': 7185, 'said': 7783, 'paganism': 6424, 'secular': 7990, 'elite': 2996, 'perpetrated': 6627, 'banned': 1040, 'phrase': 6690, 'emission': 3021, 'reduction': 7413, 'governor': 3840, 'took': 8980, 'yesterday': 9876, 'accepts': 378, 'recycling': 7402, 'bin': 1240, 'excellent': 3213, 'graphic': 3866, 'explain': 3255, 'renewables': 7519, 'hurricane': 4387, 'deadly': 2389, 'mann': 5490, 'oppose': 6274, 'withdrawal': 9721, 'farmer': 3360, 'suffering': 8607, 'ministry': 5696, 'undp': 9210, 'dataviz': 2373, 'actonclimate': 428, 'bedfellow': 1121, 'lobbyist': 5293, 'nomination': 6028, 'gov': 3832, 'closer': 1879, 'titanic': 8953, 'drinking': 2848, 'champagne': 1685, 'crash': 2225, 'ur': 9305, 'mcm': 5567, 'žðÿ': 9985, 'deluged': 2495, 'highway': 4193, 'mention': 5611, 'resilience': 7569, 'washingtonpost': 9570, 'wondering': 9747, 'polar': 6814, 'vortex': 9474, 'shifting': 8127, 'extending': 3284, 'marco': 5509, 'tbh': 8766, 'insightful': 4678, 'providing': 7107, 'detailed': 2586, 'breakdown': 1407, 'category': 1630, 'region': 7449, 'admin': 461, 'jared': 4856, 'asks': 867, 'wear': 9609, 'supposed': 8642, 'mild': 5669, '14': 51, 'lake': 5062, 'area': 809, 'stay': 8482, 'womensmarch': 9743, 'whyimarch': 9674, 'reporter': 7541, 'djt': 2753, 'earful': 2907, 'learning': 5128, 'headed': 4099, 'regarding': 7444, 'supported': 8638, 'rick': 7660, 'perry': 6631, 'madness': 5410, 'angry': 708, 'stress': 8544, 'mouse': 5809, 'sleepiâ': 8253, 'rebuke': 7364, 'drumpf': 2865, 'ge': 3717, 'gate': 3708, 'gave': 3713, 'chan': 1687, 'confirms': 2041, 'heard': 4111, 'trumpâ': 9105, 'union': 9237, 'hear': 4110, 'idiotic': 4462, 'entirely': 3098, 'cheer': 1724, 'deletes': 2482, 'reference': 7417, 'unless': 9255, 'climatemarch': 1851, 'ambassador': 668, 'resigns': 7568, 'death': 2394, '110': 34, 'factual': 3320, 'terror': 8818, 'lack': 5050, 'laugh': 5094, 'person': 6636, 'send': 8026, 'mark': 5517, 'carney': 1610, 'wef': 9624, 'told': 8966, 'target': 8753, 'dnr': 2757, 'stevens': 8503, 'journal': 4921, 'oct': 6188, '22': 164, 'event': 3185, 'includes': 4585, 'greg': 3892, 'predicting': 6930, 'alberta': 601, 'sad': 7774, 'adverse': 479, 'increasingly': 4599, 'acting': 418, 'anyâ': 750, 'surely': 8650, 'rocket': 7703, 'sent': 8038, 'space': 8367, 'pump': 7144, 'label': 5047, 'sending': 8027, '50m': 249, 'child': 1741, 'classroom': 1812, 'fleeing': 3491, 'recent': 7374, 'appreciate': 780, 'blizzard': 1309, 'orchid': 6291, 'battle': 1084, 'snowfall': 8301, 'ðÿœ': 9951, 'acknowledge': 410, 'wake': 9509, 'gw': 3944, 'privacy': 7007, 'po': 6797, 'cherry': 1734, 'blossom': 1324, 'dc': 2385, 'snowstorm': 8305, 'tomorrow': 8973, 'prob': 7015, 'feel': 3405, 'evil': 3194, 'making': 5451, 'signature': 8191, 'dad': 2335, 'pb': 6551, 'newshour': 5953, 'imagine': 4509, 'trying': 9112, 'started': 8456, 'icy': 4445, 'swim': 8697, 'antarctica': 731, 'later': 5089, 'lead': 5115, '0bama': 16, '2001': 125, 'direct': 2655, 'competition': 1987, 'chicago': 1737, 'cl': 1800, 'writer': 9813, 'dont': 2792, 'wwii': 9831, 'replace': 7532, 'hitler': 4225, 'xi': 9841, 'jinping': 4889, 'aim': 560, 'globalization': 3783, 'diet': 2628, 'pa': 6412, 'fear': 3389, 'mongering': 5768, 'feed': 3401, 'scholar': 7884, 'describes': 2559, 'displacement': 2716, 'alaska': 597, 'eastern': 2924, 'trailer': 9025, 'gore': 3827, 'luck': 5371, 'retreat': 7614, 'open': 6256, 'letter': 5171, 'caller': 1554, 'florida': 3505, 'burst': 1506, 'tilt': 8939, 'powerful': 6902, 'thriller': 8907, 'movie': 5813, 'plot': 6786, '1500': 57, 'plane': 6744, 'combatting': 1944, 'topic': 8983, 'causing': 1637, 'boldly': 1344, 'precisely': 6924, 'trouble': 9086, 'teenager': 8793, 'educated': 2956, 'subject': 8578, 'honestly': 4278, 'eye': 3303, 'opening': 6259, 'documentary': 2762, 'true': 9092, 'portrait': 6870, 'impose': 4559, 'tn': 8957, 'loser': 5338, 'butterfly': 1520, 'protection': 7091, 'sell': 8015, 'land': 5068, 'profit': 7044, 'gst': 3915, 'course': 2201, 'katy': 4970, 'pretend': 6969, 'meteorologist': 5634, 'alive': 623, 'temp': 8799, 'christmas': 1770, 'raise': 7259, 'awareness': 971, 'feeling': 3406, 'outsider': 6360, 'nice': 5976, 'toã': 9006, 'allow': 640, 'mother': 5800, 'nature': 5895, 'mad': 5407, 'fucked': 3644, 'minute': 5703, 'binge': 1242, 'data': 2370, 'fund': 3660, 'futuã': 3678, 'sit': 8218, 'lecture': 5132, 'california': 1551, 'herald': 4155, 'heritage': 4163, 'concept': 2011, 'created': 2231, 'manufacturing': 5496, 'non': 6030, 'competitiã': 1989, 'soooo': 8348, 'fwiw': 3679, 'agrees': 538, 'necessary': 5911, 'europe': 3177, 'sure': 8649, 'final': 3445, 'revelation': 7632, 'contributes': 2119, 'parliament': 6494, 'han': 3993, 'como': 1977, 'el': 2975, 'shareholder': 8110, 'finance': 3447, 'morning': 5790, 'broken': 1453, 'earthday': 2912, 'house': 4328, 'dropping': 2857, 'kathleen': 4967, 'hartnett': 4053, 'consideration': 2076, 'eâ': 3306, 'moore': 5783, 'signed': 8192, 'snowed': 8300, 'piece': 6706, 'suggests': 8614, 'prepares': 6948, 'executive': 3225, 'msm': 5822, 'duped': 2887, 'manipulated': 5484, 'bold': 1342, 'remains': 7495, 'ppl': 6905, 'map': 5498, 'prepared': 6946, 'blackrock': 1289, 'promise': 7058, 'pressure': 6967, 'board': 1334, 'word': 9754, 'folk': 3524, 'intervene': 4739, 'lens': 5157, 'development': 2602, 'guy': 3943, 'donaldtrump': 2783, 'attention': 923, 'gâ': 3945, 'insult': 4700, 'irma': 4795, 'climatesilence': 1858, 'thats': 8844, 'definition': 2462, 'difference': 2631, '1000': 19, 'culture': 2302, 'vega': 9372, 'cab': 1536, 'driver': 2851, 'hâ': 4424, 'music': 5850, 'beyoncé': 1202, 'weaker': 9605, 'muslim': 5854, 'invasion': 4755, 'nose': 6052, 'young': 9887, 'pope': 6858, 'francis': 3591, 'donated': 2785, 'hillary': 4200, 'uniquely': 9239, 'epic': 3124, 'task': 8756, 'sexual': 8083, 'assault': 874, 'fraud': 3597, 'small': 8270, 'stuff': 8567, 'fresh': 3612, 'scarcity': 7865, 'climateaction': 1835, 'dealing': 2391, 'costly': 2181, 'toll': 8969, 'fox': 3579, 'tucker': 9119, 'carlson': 1608, 'schooled': 7887, 'uniteblue': 9243, 'nile': 5998, 'amazon': 667, 'threatens': 8903, 'hydropower': 4408, 'beer': 1129, 'hat': 4062, 'dollar': 2776, 'tweeted': 9139, 'genuinely': 3736, 'overfishingã': 6373, 'rex': 7648, 'tillerson': 8938, 'allegedly': 631, 'alias': 617, 'congrats': 2054, 'outlook': 6348, 'indian': 4611, 'chapter': 1699, 'unravel': 9268, 'effort': 2969, 'forecast': 3545, '23rd': 173, 'york': 9883, 'aâ': 982, 'seasonal': 7969, 'season': 7968, 'jerry': 4867, 'ben': 1172, 'carson': 1615, 'govt': 3841, 'seminar': 8020, 'cartoon': 1616, 'covered': 2205, 'cover': 2203, 'dicaprio': 2614, 'messenger': 5627, 'peace': 6557, 'actor': 429, 'adaptation': 439, 'mitigation': 5731, 'book': 1357, 'self': 8011, 'prophecy': 7074, 'committing': 1967, 'convention': 2130, 'goodnight': 3819, 'shifted': 8126, 'httâ': 4342, 'tobacco': 8960, 'asbestos': 858, 'radiation': 7239, 'pcbs': 6553, 'certain': 1672, 'trap': 9046, 'test': 8823, 'ea': 2903, 'ancient': 692, 'disease': 2694, 'dems': 2512, 'aggressively': 527, 'advice': 480, 'heart': 4114, 'unite': 9242, 'terrorism': 8819, 'greenpeace': 3890, 'fã': 3682, 'keeping': 4973, 'investor': 4770, 'ski': 8234, 'resort': 7578, 'wonder': 9745, 'adapt': 438, 'swift': 8696, 'advance': 476, 'sound': 8357, 'article': 851, 'syria': 8712, 'analogy': 684, 'weight': 9630, 'ca': 1535, 'nominee': 6029, 'publish': 7133, 'informed': 4644, 'exciting': 3221, 'mitigate': 5729, 'structure': 8559, 'current': 2312, 'expansion': 3240, 'greenhouse': 3885, 'friend': 3618, 'abandoned': 323, 'reminder': 7505, 'stage': 8438, 'condemn': 2025, 'maria': 5513, 'imf': 4514, 'pretty': 6971, 'terrified': 8815, 'church': 1778, 'exacerbates': 3201, 'refugee': 7434, 'invented': 4758, '2030': 151, 'reeling': 7415, 'tribune': 9070, 'ted': 8791, 'religion': 7489, 'tcot': 8768, 'pjnet': 6737, 'voting': 9479, 'candidate': 1578, 'theã': 8875, 'oh': 6213, 'brother': 1458, 'nonsense': 6036, 'price': 6983, 'kim': 5004, 'stanley': 8451, 'robinson': 7697, '2140': 162, 'glorious': 3792, 'experiment': 3252, 'verge': 9383, 'ki': 4993, 'navy': 5896, 'abc': 327, 'shes': 8123, 'overfishing': 6372, 'response': 7587, 'resolution': 7576, 'respond': 7583, 'regulation': 7461, 'dirt': 2661, 'tourism': 8998, 'cyprus': 2329, 'likely': 5228, 'dense': 2529, 'pun': 7147, 'related': 7475, 'named': 5875, 'trumptransition': 9104, 'presidentelecttrump': 6962, 'coral': 2160, 'devastating': 2596, 'crazy': 2228, 'priority': 7005, 'family': 3347, 'breitbart': 1422, 'using': 9324, '40': 229, 'deficit': 2455, 'double': 2806, 'nuke': 6100, 'slower': 8264, 'gutting': 3942, 'coastline': 1903, 'second': 7980, 'home': 4262, 'art': 846, 'underwater': 9204, 'hungry': 4378, 'fail': 3323, 'approach': 782, 'worthy': 9788, 'urgency': 9310, 'iconic': 4443, 'olympic': 6230, 'training': 9028, 'facility': 3312, 'shuts': 8173, 'slope': 8262, '28': 187, 'hair': 3971, 'skin': 8237, 'turning': 9133, 'orange': 6288, 'thomas': 8890, 'essay': 3156, 'weapon': 9608, 'archive': 806, 'foreign': 3548, 'affair': 494, 'philip': 6672, 'lighting': 5222, 'ceo': 1670, 'eric': 3143, 'engaging': 3073, 'wef16': 9625, 'bbcqt': 1093, 'press': 6965, 'korea': 5035, 'counteract': 2192, 'foolish': 3535, 'snowball': 8299, 'senate': 8024, 'cyclone': 2327, 'ripping': 7681, 'queensland': 7195, 'rare': 7299, 'criticizes': 2266, 'exit': 3234, 'floridian': 3506, 'suddenly': 8601, 'environmentalist': 3111, 'proponent': 7076, 'ni': 5974, 'electricity': 2988, 'worsens': 9783, 'et': 3167, 'relevant': 7484, 'toâ': 9005, 'obtained': 6169, 'secretive': 7984, 'meeting': 5588, 'sponsored': 8410, 'brought': 1459, 'fix': 3475, 'enterprise': 3095, 'innovation': 4662, 'cdnpoli': 1649, 'cpcldr': 2215, 'compare': 1980, 'believing': 1164, 'attending': 921, 'concert': 2017, 'heaven': 4127, 'combined': 1947, 'destroys': 2581, 'thâ': 8924, 'removed': 7512, 'pakistan': 6436, 'ratifies': 7305, 'mood': 5779, 'silver': 8199, 'bulletâ': 1485, 'suck': 8596, 'halt': 3980, 'ruled': 7745, 'commission': 1961, 'recommends': 7391, 'tap': 8749, 'step': 8495, 'backwards': 995, 'ignorance': 4476, 'ban': 1029, 'contribute': 2117, 'adequate': 454, 'access': 379, 'minister': 5694, 'went': 9636, 'disguised': 2696, 'psychology': 7122, 'worrying': 9777, 'icing': 4442, 'sugar': 8610, 'dust': 2888, 'cake': 1542, 'scene': 7875, 'desert': 2561, 'bloody': 1320, 'sandstorm': 7806, 'thunderclap': 8917, 'approving': 790, 'keystone': 4990, 'xl': 9845, 'considered': 2077, 'range': 7281, 'ignore': 4478, 'judicial': 4934, 'antarctic': 730, 'shelf': 8118, 'fate': 3374, '15': 55, '000': 1, 'priest': 6989, '2015': 138, 'san': 7801, 'francisco': 3592, 'climatecounts': 1845, 'tip': 8947, 'basically': 1069, 'prof': 7039, 'interactive': 4724, 'keynote': 4989, 'idiot': 4461, 'wtf': 9823, 'opposing': 6277, 'lgbtq': 5186, 'banning': 1041, 'defunding': 2466, 'corruption': 2176, 'seek': 7998, 'temper': 8800, 'overseas': 6382, 'slush': 8267, 'finland': 3459, 'russian': 7759, 'doubter': 2811, 'ought': 6328, 'hailed': 3968, 'hero': 4164, 'mental': 5610, 'realize': 7340, 'otter': 6326, 'plz': 6792, 'govts': 3842, 'sleeping': 8252, 'british': 1447, 'petroleum': 6661, '26': 183, 'fucking': 3648, 'pas': 6511, 'cancelled': 1576, 'chair': 1679, 'smith': 8284, 'survey': 8663, 'kinda': 5006, 'close': 1876, 'retweeted': 7621, 'watched': 9583, 'seal': 7963, 'chad': 1677, 'vulnerable': 9489, 'dim': 2639, 'cap': 1581, 'mid': 5655, 'humanity': 4364, 'tooth': 8982, 'fairy': 3330, 'economics': 2941, '2006': 129, 'meant': 5574, 'raising': 7261, 'rebellion': 7357, 'exxonmobil': 3301, 'bipartisan': 1259, 'urging': 9313, 'tâ': 9152, 'tried': 9073, 'bury': 1507, 'frightening': 3621, 'confident': 2036, 'strategic': 8535, 'intel': 4709, 'analyst': 686, 'scenario': 7874, 'editorial': 2952, 'lt': 5369, 'debating': 2401, 'expresshatred': 3281, 'cli': 1827, 'comm': 1955, 'challenging': 1684, 'massive': 5540, 'canceled': 1574, 'tu': 9117, 'quiz': 7219, 'transition': 9038, 'nbcnews': 5900, 'blanketing': 1295, 'condemns': 2027, 'general': 3723, 'leonardo': 5160, 'acceptance': 375, 'centre': 1666, 'vicious': 9401, 'cycle': 2325, 'nobel': 6016, 'shocking': 8138, 'unilateralism': 9231, 'tacking': 8722, 'ukip': 9168, 'annual': 721, 'cripple': 2255, 'recruit': 7399, 'naomi': 5878, 'klein': 5016, 'activism': 424, 'rest': 7592, 'protest': 7095, 'vancouver': 9353, 'considering': 2078, 'retreating': 7615, 'teen': 8792, 'wayne': 9598, 'tracker': 9012, 'damn': 2350, 'chris': 1765, 'wallace': 9526, 'viewer': 9413, 'encyclical': 3052, 'cardinal': 1599, 'scienti': 7908, 'flash': 3482, 'putin': 7171, 'responsible': 7589, 'exists': 3233, 'crippling': 2256, 'disproportionately': 2719, 'hurt': 4393, 'gopdebate': 3824, 'citizen': 1792, 'assembly': 875, 'gm': 3797, 'pm': 6794, 'obstruction': 6167, 'recycle': 7401, 'trumpã': 9106, 'limiting': 5234, 'far': 3356, 'politician': 6826, 'vehicle': 9378, 'improve': 4564, 'hardest': 4030, 'apocalyptic': 757, 'near': 5906, 'feedly': 3404, 'strip': 8549, 'essential': 3157, 'planning': 6755, 'ag': 511, 'slave': 8249, 'immigrant': 4522, 'mike': 5666, 'penny': 6591, 'nonpartisan': 6033, 'fanatic': 3352, 'dragged': 2827, 'total': 8990, 'earlier': 2908, 'sa': 7765, 'cape': 1583, 'reading': 7327, 'htt': 4341, 'ratification': 7303, 'process': 7026, 'beef': 1126, 'production': 7036, 'william': 9693, 'happer': 4016, 'princeton': 6997, 'physic': 6691, 'professor': 7042, 'outweigh': 6364, 'solve': 8331, 'pwc': 7174, 'fastest': 3371, 'cloud': 1884, 'credible': 2245, 'imagination': 4508, 'cite': 1787, 'daca': 2334, 'starting': 8458, 'journalism': 4922, 'coun': 2185, 'ig': 4470, 'snap': 8292, 'location': 5298, 'blm': 1310, 'wha': 9645, 'regs': 7456, 'spooky': 8411, 'ghost': 3758, 'shred': 8165, 'net': 5937, 'horrified': 4306, 'coverage': 2204, 'deserves': 2565, 'btw': 1467, 'agw': 548, 'cling': 1869, 'feature': 3393, 'centrica': 1667, 'thinktank': 8885, 'responsibility': 7588, 'attend': 917, 'keepitintheground': 4974, 'clima': 1832, 'remove': 7511, 'geoengineering': 3738, 'turned': 9132, 'form': 3557, 'dogma': 2773, 'settled': 8072, 'obviously': 6171, 'org': 6298, 'summer': 8620, 'alâ': 664, 'playing': 6772, 'wow': 9796, 'character': 1700, 'thatâ': 8845, 'lectured': 5133, 'ivanka': 4835, 'pâ': 7175, 'scramble': 7932, 'worked': 9757, 'largely': 5079, 'actoncli': 427, 'funders': 3666, 'islamophobia': 4812, 'network': 5941, 'performance': 6611, 'quote': 7222, '250': 178, 'stock': 8510, 'bye': 1526, 'diplomacy': 2649, 'electionnight': 2983, 'cable': 1539, 'selection': 8010, 'exec': 3224, 'seattle': 7972, 'declare': 2427, 'parking': 6493, 'debatenight': 2398, 'explained': 3256, 'rosling': 7722, 'jeb': 4862, 'bush': 1509, 'sceptical': 7877, 'globalists': 3782, 'jordan': 4916, 'proud': 7099, 'alarmist': 596, 'parent': 6481, 'stake': 8442, 'enormously': 3086, 'deserve': 2563, 'treating': 9058, 'ugly': 9163, 'nigga': 5989, 'doesnâ': 2770, 'disappear': 2669, 'jacob': 4845, 'pt': 7123, 'vine': 9421, 'generation': 3728, 'rent': 7522, 'debt': 2403, 'facing': 3313, 'balk': 1023, 'kaine': 4954, '1982': 102, 'lied': 5209, 'answer': 726, 'acid': 406, 'deadline': 2388, 'nigeria': 5986, 'shot': 8151, 'geographicã': 3741, 'youtube': 9894, 'aid': 556, 'multinationals': 5833, 'preventing': 6975, 'polluting': 6842, 'andy': 697, 'jones': 4914, 'successfully': 8594, 'tan': 8744, 'heatwaves': 4126, 'bright': 1436, 'fascist': 3367, '90': 301, 'occured': 6175, 'ended': 3057, 'reached': 7319, 'container': 2097, 'bonn': 1354, 'pipeline': 6722, 'forward': 3567, 'program': 7048, 'opposite': 6278, 'hoped': 4294, 'lmfao': 5283, 'mean': 5570, 'yâ': 9902, 'blindly': 1307, 'coâ': 2212, 'spectacular': 8383, 'awesome': 973, 'crucial': 2274, 'sander': 7805, 'income': 4588, 'inequality': 4627, '2020': 145, 'aspiration': 870, 'paper': 6466, 'received': 7372, 'emailed': 3005, 'hypocritesã': 4418, 'snowflake': 8302, 'blamed': 1292, 'ptsd': 7125, 'epaâ': 3123, 'necessarily': 5910, 'thingâ': 8879, 'coastal': 1902, 'bird': 1261, 'northern': 6048, 'visualization': 9447, 'invisible': 4772, 'grow': 3910, 'underway': 9205, 'festival': 3416, 'swap': 8684, 'seed': 7996, 'roll': 7709, 'ridiculous': 7668, 'teaching': 8775, 'controversial': 2127, 'wing': 9702, 'censor': 1659, 'fao': 3355, 'agricultural': 542, 'sector': 7988, 'center': 1664, 'dump': 2880, 'lawson': 5106, 'derail': 2555, 'zero': 9909, 'chesapeake': 1735, 'bay': 1088, 'phony': 6682, 'instantly': 4692, 'believer': 1162, 'quit': 7215, 'driving': 2853, 'flying': 3514, 'usual': 9325, 'seven': 8074, 'megatrends': 5592, 'beat': 1110, 'champion': 1686, 'barrier': 1054, 'warn': 9557, 'greatbarrierreef': 3877, 'standing': 8449, 'angela': 703, 'merkel': 5622, 'rock': 7701, 'search': 7966, 'oyster': 6406, 'thousand': 8896, 'threatened': 8901, 'councilâ': 2187, 'skepticism': 8232, 'œðÿ': 9980, 'globalgoals': 3778, 'finna': 3460, 'opposed': 6275, 'distraction': 2735, 'litmus': 5264, 'storing': 8526, 'excess': 3217, 'month': 5776, 'cop23': 2155, 'kick': 4994, 'hosted': 4315, '67': 274, 'spark': 8371, 'criticism': 2263, 'preparedness': 6947, 'saving': 7840, 'bleached': 1299, 'anemone': 700, 'crack': 2218, 'western': 9639, 'fingerprint': 3455, 'sobering': 8310, 'leaked': 5124, 'ny': 6122, 'nationofchange': 5889, 'mayor': 5559, 'encourage': 3048, 'play': 6767, 'stronger': 8554, 'framework': 3588, 'psa': 7118, 'fool': 3533, 'chile': 1744, 'wine': 9701, 'hai': 3964, 'se': 7959, 'tire': 8950, 'ke': 4971, 'hain': 3970, 'consequence': 2069, 'profound': 7046, '33': 214, 'clearly': 1823, 'sniff': 8294, 'manage': 5473, 'reviewed': 7642, 'alarming': 592, 'suppress': 8644, 'engagement': 3072, 'buy': 1522, 'idaho': 4448, 'scrub': 7948, 'standard': 8448, 'viaâ': 9396, 'silent': 8197, 'pretending': 6970, 'mystery': 5862, 'answered': 727, 'da': 2333, 'mal': 5452, 'brace': 1391, 'bitterly': 1281, 'shift': 8125, 'crop': 2271, 'yield': 9879, 'ue': 9159, 'rainfall': 7255, 'increased': 4597, 'variability': 9359, 'excited': 3220, 'exploring': 3271, 'viz': 9454, 'assessment': 877, 'overall': 6368, 'struggle': 8560, 'survive': 8666, 'according': 388, 'jury': 4946, 'trust': 9107, 'insane': 4669, 'deranged': 2556, 'stupid': 8571, 'gene': 3722, 'select': 8008, 'listed': 5251, 'predicted': 6929, 'happened': 4012, 'prediction': 6931, '150': 56, 'symphony': 8709, 'rodent': 7705, 'changing': 1696, 'ap': 752, 'learn': 5126, 'oveâ': 6391, 'farming': 3362, 'practice': 6909, 'limit': 5232, 'mapping': 5501, 'southeast': 8362, 'asia': 860, 'active': 422, 'campaigner': 1565, 'snorkeling': 8297, 'focused': 3520, 'kylie': 5042, 'increasing': 4598, 'bug': 1476, 'blown': 1328, 'southern': 8363, 'whale': 9647, 'halting': 3982, 'corporation': 2168, 'individual': 4618, 'imvotingbecause': 4570, 'downside': 2820, 'listening': 5254, 'justin': 4951, 'trudeau': 9091, 'build': 1478, 'ndp': 5904, 'moronic': 5795, 'series': 8054, 'oppression': 6280, 'beginning': 1138, 'supremacy': 8647, 'backed': 989, 'bang': 1032, 'adjust': 458, '2050': 154, 'argues': 819, 'dr': 2824, 'jay': 4857, 'josh': 4919, 'frydenberg': 3637, 'based': 1062, 'recognize': 7385, 'discovered': 2685, 'affect': 495, 'retirement': 7612, 'aerosol': 489, 'logging': 5303, 'newly': 5948, 'congo': 2053, 'peatlands': 6567, 'accelerate': 367, 'bhp': 1209, 'association': 885, 'trick': 9071, 'colder': 1915, 'inconvenient': 4592, 'institution': 4697, 'capacity': 1582, 'scale': 7855, 'appear': 765, 'rescue': 7559, 'sequel': 8049, 'villain': 9420, 'horrible': 4303, 'aca': 363, 'voldemort': 9469, 'write': 9812, 'bleaching': 1300, 'habitat': 3950, 'hawksbill': 4087, 'taught': 8759, 'continent': 2103, 'forgotten': 3556, 'george': 3747, 'herdsman': 4159, 'clash': 1808, 'cult': 2298, 'meme': 5604, 'telling': 8798, 'marchforscience': 5507, 'evolution': 3195, 'numinipis': 6106, 'ang': 701, 'circle': 1784, 'pati': 6530, 'talaga': 8737, 'complex': 1996, 'example': 3211, 'cc': 1645, 'catastrophe': 1626, 'border': 1365, 'meltdown': 5599, 'au': 931, 'italian': 4827, 'committed': 1965, 'ward': 9540, 'anthropogenic': 738, 'healing': 4104, 'smile': 8283, 'beijing': 1148, 'creationists': 2237, 'earthers': 2913, 'vaxxers': 9368, 'missed': 5719, 'absolute': 353, 'mor': 5785, 'ozone': 6408, 'sandy': 7808, 'yorkers': 9885, 'perfect': 6609, 'retort': 7613, 'requiring': 7557, 'bullet': 1483, 'ttip': 9116, 'bomb': 1350, 'blowing': 1327, 'webpage': 9616, 'nears': 5908, 'confirmation': 2039, 'language': 5075, 'practical': 6907, 'translation': 9040, 'observed': 6158, '1950': 85, 'fully': 3655, 'cynical': 2328, 'pr': 6906, 'tony': 8979, 'addition': 448, 'expanding': 3238, 'worldwide': 9771, 'shaped': 8106, 'continued': 2107, 'fly': 3513, 'zone': 9916, 'agree': 532, 'marching': 5508, 'stooge': 8516, 'installed': 4689, 'suppression': 8645, 'honest': 4277, 'abt': 360, 'interference': 4728, 'breathtakingly': 1419, 'surprising': 8657, 'supporter': 8639, 'tongue': 8976, 'mashable': 5534, 'breakingnews': 1411, 'phase': 6666, 'ii': 4483, 'idol': 4467, 'portugal': 6871, '57': 256, 'fuelled': 3652, 'strike': 8547, 'fm': 3515, 'scotland': 7925, 'sequestration': 8050, 'starter': 8457, 'diesel': 2627, 'electric': 2986, 'hybrid': 4401, 'akin': 584, 'market': 5520, 'misleading': 5711, 'fabricated': 3308, 'mass': 5537, '23': 170, 'street': 8540, 'warm': 9543, 'condition': 2028, 'seeing': 7997, 'wapo': 9537, 'sweeping': 8693, 'competitive': 1988, 'baseline': 1064, 'allowing': 642, 'river': 7686, 'piracy': 6723, 'amnesty': 679, 'dreamer': 2839, 'tpp': 9007, 'œwe': 9973, 'theyâ': 8873, 'confirm': 2038, 'zach': 9904, 'tapper': 8751, 'statistical': 8476, 'debunked': 2405, 'tha': 8836, 'hmmm': 4233, 'politicized': 6828, 'substantial': 8586, 'central': 1665, '5â': 263, 'threatening': 8902, 'turtle': 9135, 'miss': 5718, 'waiting': 9508, 'flooded': 3500, 'phone': 6681, 'hyper': 4411, 'catholic': 1631, 'aggressive': 526, 'wanting': 9535, 'dispute': 2723, 'trans': 9029, 'exist': 3227, 'curbing': 2307, 'shop': 8142, 'cop22ã': 2154, '地球温暖化会議': 9998, 'wait': 9506, 'led': 5136, 'inaction': 4575, 'listened': 5253, 'interview': 4741, 'honestâ': 4280, 'commentary': 1958, 'mini': 5687, 'german': 3750, 'statue': 8479, 'contributing': 2120, 'failed': 3324, 'isi': 4807, 'whining': 9662, 'ahhh': 553, 'œglobal': 9959, 'œclimate': 9958, 'changeâ': 1693, 'warmiâ': 9553, 'physician': 6693, 'connection': 2063, 'poorer': 6854, 'que': 7192, 'vai': 9346, 'para': 6469, 'planeta': 6746, 'shooting': 8141, 'argument': 821, 'bite': 1279, 'drought': 2858, 'climateã': 1861, 'harming': 4037, 'patient': 6531, 'algae': 613, 'bloom': 1321, 'arabian': 799, 'relief': 7486, 'normal': 6044, 'eo': 3120, 'exacerbate': 3199, 'challenged': 1683, 'happen': 4011, '44': 234, '166': 62, 'justice': 4948, 'rahm': 7246, 'emanuel': 3007, 'deleted': 2481, 'supremacist': 8646, 'globally': 3784, 'car': 1592, 'itstimetochange': 4831, 'industrial': 4623, 'grade': 3848, 'optimism': 6282, 'momentum': 5762, 'robust': 7700, 'unsg': 9277, 'remark': 7496, 'displaced': 2715, 'cop22': 2153, 'norway': 6050, 'australian': 941, 'sydney': 8706, 'refuse': 7436, 'grant': 3861, 'envdefensefund': 3104, 'required': 7554, 'nâ': 6134, 'sandwich': 7807, 'run': 7748, 'ham': 3983, 'assume': 886, 'tear': 8781, 'egypt': 2972, 'treasure': 9055, 'racist': 7235, 'xenophobic': 9840, 'swamp': 8683, 'outlaw': 6343, 'mercury': 5617, 'hitting': 4227, '43': 233, 'primate': 6993, 'commit': 1962, 'eco': 2934, 'conscious': 2067, 'spreading': 8420, 'dishonest': 2700, 'controlled': 2125, 'watson': 9593, 'middle': 5656, 'finger': 3454, 'em': 3003, 'despite': 2575, 'pledged': 6781, 'victorian': 9405, 'requires': 7556, 'fellow': 3409, 'tampering': 8743, 'everyday': 3189, 'alice': 618, 'bell': 1166, 'toronto': 8985, 'exposed': 3277, 'legislation': 5149, 'develop': 2598, 'thankfully': 8838, 'willing': 9695, 'falsely': 3343, 'drove': 2859, 'cleveland': 1824, 'window': 9700, 'imo': 4528, 'publishing': 7136, 'busy': 1517, 'april': 793, 'aside': 862, 'cash': 1618, 'dramatically': 2833, 'disappointing': 2675, 'break': 1406, 'parisaccord': 6487, 'immediate': 4518, 'alt': 653, 'learnt': 5129, 'score': 7922, 'irrelevant': 4802, 'hand': 3994, 'defend': 2445, 'sudan': 8599, 'sick': 8181, 'islamic': 4810, 'slowly': 8266, '950': 308, 'bln': 1311, 'wealth': 9606, 'usa': 9314, 'engaged': 3071, 'virtually': 9434, 'minimum': 5691, 'wage': 9502, 'pay': 6544, 'equity': 3134, 'majority': 5442, 'smaller': 8271, 'doomsdayclock': 2800, 'seabird': 7961, 'exâ': 3302, 'sciencedaily': 7900, 'reduces': 7411, 'ability': 330, 'allowed': 641, 'release': 7481, 'concludes': 2021, 'maddow': 5409, 'posting': 6886, 'pic': 6698, 'venice': 9380, 'pot': 6889, 'shut': 8171, 'crap': 2224, 'hotter': 4324, 'mexico': 5641, 'wakeupamerica': 9511, 'thrive': 8908, 'gmo': 3798, 'crowd': 2273, 'perspective': 6641, '300': 207, 'hunger': 4377, 'forced': 3543, 'partnership': 6509, 'victory': 9406, 'movement': 5812, 'invited': 4774, 'wealthy': 9607, 'nexus': 5966, 'pregnant': 6937, 'impossible': 4561, 'bigger': 1222, 'changed': 1692, 'conserve': 2072, 'tide': 8931, 'mount': 5806, 'liability': 5188, 'compensation': 1985, 'chosen': 1763, 'underestimated': 9191, 'questioning': 7204, 'nowph': 6079, 'buzz': 1524, 'hashtag': 4058, 'moonbeam': 5782, 'vow': 9480, 'satellite': 7823, 'ignores': 4480, 'dispatch': 2714, 'plus': 6790, 'added': 446, 'existing': 3232, 'worsened': 9781, 'stone': 8514, 'iceland': 4440, 'breakthrough': 1413, 'acknowledges': 413, 'kelly': 4976, 'badger': 1001, 'spokesman': 8408, 'honey': 4281, 'bee': 1125, 'colony': 1932, 'pesticide': 6654, '80': 291, '35': 217, 'climatechangeisreal': 1841, 'totally': 8992, 'heavily': 4130, 'scotus': 7930, 'abortion': 341, 'bringing': 1441, 'yo': 9882, 'date': 2374, 'hosting': 4318, 'polâ': 6846, 'woe': 9737, 'forâ': 3568, 'uphold': 9297, 'tonne': 8978, 'shark': 8112, 'prevent': 6973, 'wish': 9715, 'gandhi': 3699, 'graduate': 3850, 'horrendous': 4302, 'missing': 5721, 'puzzle': 7173, 'understanding': 9200, 'involved': 4777, 'removing': 7513, 'section': 7987, 'tuned': 9124, 'arâ': 856, 'weak': 9601, 'airpocalypse': 570, 'appearance': 766, 'scheduled': 7881, 'embracing': 3015, 'thereâ': 8865, 'winner': 9704, 'heating': 4124, 'byâ': 1528, 'vague': 9345, 'longer': 5319, 'antarcticaã': 732, 'hostile': 4316, 'delay': 2476, 'fiddle': 3425, 'gitmo': 3764, 'visit': 9441, 'havana': 4075, 'iran': 4790, 'russia': 7758, 'gotten': 3831, 'infamous': 4629, 'deâ': 2607, 'octopus': 6190, 'garage': 3702, 'changeã': 1694, 'canary': 1571, 'hacking': 3954, 'infectious': 4630, 'promised': 7059, 'negate': 5918, 'posed': 6874, '5ã': 264, 'tenure': 8809, 'mobil': 5745, 'wed': 9618, 'feb': 3396, 'london': 5310, 'bbcworld': 1094, 'lady': 5054, 'gaga': 3689, 'artist': 855, '100m': 24, 'globalism': 3780, 'taxing': 8762, 'numbered': 6102, 'committee': 1966, 'abolition': 338, 'militant': 5672, 'orthodoxy': 6313, 'universe': 9250, 'tomi': 8972, 'favorite': 3383, '2014': 137, 'agreed': 533, 'desperate': 2573, 'trial': 9067, 'alligator': 639, 'repeat': 7526, 'authority': 946, 'inside': 4675, 'suffered': 8605, 'funny': 3669, 'ignoâ': 4482, 'houston': 4331, 'hour': 4327, 'gay': 3714, 'legal': 5144, 'cheeto': 1728, 'charge': 1703, 'baltimore': 1028, 'december': 2414, 'stephen': 8496, 'colbert': 1913, 'skewer': 8233, '6000': 267, 'alarm': 590, 'halifax': 3977, 'forum': 3566, 'jake': 4847, 'smack': 8269, 'spend': 8389, 'slow': 8263, 'figure': 3434, 'embarrassing': 3010, 'dairy': 2341, 'œthis': 9971, 'arenâ': 812, 'torpedo': 8986, 'fb': 3386, 'fit': 3472, 'solved': 8332, 'cdc': 1648, 'cancel': 1573, 'sentiment': 8040, 'portfolio': 6868, 'skeptical': 8231, 'supply': 8636, 'chain': 1678, 'importance': 4557, 'begun': 1140, 'systematically': 8715, 'overturn': 6385, 'average': 956, 'celsius': 1658, 'meteorological': 5633, 'checking': 1721, 'demdebate': 2502, 'optimistic': 6284, '99': 311, 'beli': 1158, 'jersey': 4868, 'invests': 4771, 'trumpmorgan': 9099, 'dialogue': 2613, 'climatefacts': 1846, 'debatewithbernie': 2400, 'feelthebern': 3407, 'roasted': 7693, 'toasted': 8959, 'fried': 3616, 'grilled': 3896, 'christ': 1766, 'g7': 3685, 'squeeze': 8427, 'sicily': 8180, 'bible': 1214, 'mind': 5683, 'puppy': 7157, 'allen': 634, 'britain': 1446, 'hated': 4065, 'del': 2475, 'predicts': 6933, 'confirmed': 2040, 'simple': 8202, 'ending': 3058, 'blast': 1297, 'duty': 2891, 'realizes': 7342, 'estate': 3163, 'mantra': 5494, 'farce': 3358, 'usfa': 9323, 'patriot': 6536, 'awaits': 967, 'yep': 9874, 'credibility': 2244, 'ear': 2906, 'profitable': 7045, 'existential': 3231, 'almalki': 647, 'outlier': 6345, 'edition': 2950, 'born': 1370, 'laurence': 5102, 'tubiana': 9118, 'reported': 7539, 'literal': 5259, 'dark': 2364, 'agesâ': 524, 'clothes': 1882, 'cotton': 2183, 'connectivity': 2064, 'source': 8360, 'welfare': 9634, 'stamp': 8445, 'obamacare': 6142, 'taxpayer': 8763, 'serve': 8059, 'embrace': 3013, 'secu': 7989, 'convinced': 2136, 'torres': 8987, 'ffs': 3421, 'ipa': 4785, 'faculty': 3321, 'qanda': 7177, 'sunday': 8626, 'allegation': 629, 'wailing': 9505, 'begin': 1137, 'value': 9351, 'influence': 4633, 'actionã': 421, 'kenya': 4982, 'promote': 7061, 'low': 5359, 'argued': 818, 'handle': 4001, 'removal': 7510, 'viable': 9395, 'cooked': 2143, 'presentation': 6953, 'whistle': 9666, 'blower': 1326, 'damage': 2346, 'civilization': 1797, 'easily': 2922, 'tar': 8752, 'sand': 7804, 'entering': 3094, 'supercomputer': 8630, 'analyzing': 689, 'engadget': 3069, 'til': 8936, '2nd': 199, 'med': 5581, 'reporting': 7542, 'sparked': 8372, 'hereã': 4162, 'en': 3043, 'prosecutor': 7084, 'math': 5545, 'sham': 8100, 'scaramucci': 7864, 'wall': 9525, 'lovely': 5355, 'blog': 1316, 'curbed': 2306, 'breeding': 1421, '3000': 208, 'govegan': 3834, 'warmed': 9544, 'female': 3412, 'extinction': 3291, 'wasâ': 9580, 'altered': 656, 'produce': 7031, '65': 272, 'nitrous': 6003, 'oxide': 6403, 'potential': 6892, '296': 190, 'greater': 3878, 'thaâ': 8849, 'didnâ': 2621, 'ac': 362, 'bought': 1379, 'olympics': 6231, 'rio': 7677, 'jealous': 4860, 'east': 2923, 'mn': 5740, 'expected': 3243, 'glad': 3770, 'revenue': 7634, 'urban': 9306, 'bike': 1229, 'rider': 7667, 'reducing': 7412, 'footprint': 3539, 'thi': 8876, 'conservs': 2074, 'arent': 811, 'htã': 4345, 'simply': 8203, 'betrays': 1195, 'independent': 4607, 'strange': 8533, 'hill': 4199, 'globalwarning': 3788, 'professional': 7041, 'pacific': 6417, 'argue': 817, 'cool': 2145, 'scottpruitt': 7929, 'alternativefacts': 660, 'theresistance': 8864, 'adding': 447, 'sister': 8217, 'denialist': 2520, 'daniel': 2360, 'dunia': 2884, 'naik': 5870, 'complete': 1994, 'police': 6820, 'brutality': 1465, 'insistence': 4680, 'prejudice': 6939, 'rolling': 7712, 'approved': 788, 'principle': 6998, 'directed': 2656, 'provincial': 7109, 'congressional': 2057, 'nevada': 5944, 'rep': 7523, 'nv': 6118, '02': 6, 'downplay': 2816, 'happens': 4015, 'electoral': 2984, 'college': 1928, 'notice': 6063, 'denied': 2523, 'dioxide': 2648, 'song': 8342, 'oldest': 6227, 'stroke': 8552, 'heated': 4121, 'ka': 4953, 'mo': 5742, 'lang': 5073, 'alters': 661, 'rule': 7744, 'sperm': 8393, 'biodiversity': 1246, 'genius': 3732, 'memory': 5606, 'popeindc': 6860, 'meat': 5579, 'appears': 767, 'thread': 8898, 'eater': 2927, 'enlightened': 3083, 'grazing': 3875, 'philosophy': 6679, 'thisâ': 8887, 'irish': 4794, 'offer': 6198, 'exxonknew': 3300, 'scandal': 7861, 'director': 2659, 'spending': 8390, 'consider': 2075, 'vice': 9399, 'conversion': 2133, 'therapy': 8862, 'soil': 8321, 'differently': 2633, 'eurekalert': 3175, 'vax': 9367, 'chemtrails': 1733, 'joined': 4902, '200': 123, 'protesting': 7097, 'coffee': 1910, 'lover': 5356, 'drying': 2868, 'seemingly': 8001, 'shame': 8101, 'buried': 1499, 'charlie': 1708, 'clark': 1806, 'doomed': 2798, 'regardless': 7445, 'vox': 9483, 'scandinavia': 7862, 'hack': 3951, 'theyre': 8872, 'univerã': 9252, 'son': 8341, 'destroying': 2580, 'foxnews': 3580, 'effective': 2964, '12': 39, 'directly': 2658, 'climatereality': 1855, 'moving': 5814, 'iied': 4484, 'revealed': 7629, 'hypothesis': 4420, 'wo': 9736, 'hire': 4211, 'begs': 1139, 'weatherã': 9613, 'accused': 398, 'obstructing': 6166, 'clever': 1825, 'require': 7553, 'starving': 8464, 'optimist': 6283, 'host': 4314, 'star': 8452, 'gak': 3693, 'isnâ': 4816, 'creator': 2239, 'baseless': 1063, 'uncle': 9185, 'sam': 7797, 'env': 3103, 'lincoln': 5237, 'slavery': 8250, 'arm': 827, 'lunatic': 5380, 'prime': 6994, 'narendra': 5879, 'kevin': 4987, 'mf': 5644, 'homosexuality': 4274, 'irresponsible': 4803, 'eliminates': 2993, 'scrubbed': 7949, 'intervention': 4740, 'g7summit': 3686, 'smashmouth': 8279, 'portuguese': 6872, '747': 285, 'payer': 6545, 'hypocrite': 4417, 'muã': 5858, 'touch': 8993, 'employment': 3038, 'dnc': 2755, 'badlands': 1002, 'vladimir': 9458, 'ëœthereã': 9945, 'bã': 1531, 'urgent': 9311, 'switch': 8702, 'imminent': 4524, 'grandma': 3859, 'highest': 4187, 'doã': 2823, 'pakistanwantschange': 6438, 'theâ': 8874, 'mock': 5749, 'fo': 3517, 'declares': 2429, 'shill': 8128, 'sc': 7854, 'admits': 467, 'accessible': 380, 'im': 4504, 'prioritized': 7003, 'pika': 6710, 'indicator': 4615, 'fathom': 3376, 'colorado': 1934, 'lbgt': 5113, 'ballot': 1026, 'oregon': 6297, 'hike': 4196, 'disputed': 2724, 'carrying': 1614, 'exponentially': 3274, 'unable': 9175, 'earliest': 2909, 'aware': 970, 'physical': 6692, 'recognised': 7383, 'election2016': 2982, 'teacher': 8774, 'grasp': 3868, 'lacking': 5051, 'atã': 930, 'hilarious': 4197, 'referenced': 7418, 'ridley': 7670, 'fracking': 3584, 'betweã': 1199, 'collaboration': 1919, 'regeneration': 7446, 'eh': 2973, 'spanish': 8368, 'different': 2632, 'contribution': 2121, 'phenomenon': 6669, 'owe': 6393, 'claimed': 1802, 'ronald': 7716, 'reagan': 7331, 'oklahoma': 6223, 'attorney': 925, 'censoring': 1661, 'reveal': 7628, 'strongly': 8557, 'indicates': 4613, 'thatã': 8846, '1968': 94, 'loud': 5345, 'shutting': 8174, 'mouth': 5810, 'flashback': 3483, 'friday': 3615, 'fart': 3363, 'affecting': 497, 'abraham': 347, 'thesuperhuman': 8871, 'endless': 3059, 'regularly': 7458, 'organize': 6302, 'nola': 6023, 'hail': 3967, 'opchemtrails': 6254, 'weird': 9631, 'dicaprioã': 2615, 'reckoning': 7381, 'tradeoff': 9016, '2000': 124, 'sin': 8206, 'cha': 1676, 'june': 4942, 'disastrous': 2677, 'negative': 5919, 'sleep': 8251, 'sailing': 7785, 'till': 8937, 'shoreline': 8144, 'david': 2378, 'henderson': 4153, 'boston': 1374, 'card': 1598, 'falling': 3340, 'leadersdebate': 5117, 'forecasting': 3546, 'purdue': 7160, 'politicize': 6827, 'singh': 8210, 'danger': 2357, 'analyzes': 688, 'trend': 9064, 'fri': 3614, '322': 213, 'frã': 3640, 'liam': 5190, 'tale': 8738, 'equating': 3130, 'atlanta': 902, 'uninhabitable': 9234, 'cook': 2142, 'wreak': 9804, 'sooner': 8346, 'realtime': 7345, 'greed': 3881, 'sahara': 7781, 'eden': 2946, 'sweden': 8690, 'gut': 3939, 'bigotry': 1227, 'hotbed': 4320, 'cozy': 2211, 'secstate': 7986, 'toxic': 9003, 'dirty': 2662, 'permanent': 6622, 'frâ': 3639, 'issued': 4823, 'flourishing': 3508, '3d': 226, 'quartz': 7190, 'youth': 9893, 'ºðÿ': 9922, 'impacting': 4533, 'maine': 5430, 'explore': 3268, 'lyme': 5391, 'highly': 4192, 'advanced': 477, 'instrument': 4699, 'endangered': 3055, 'wide': 9678, 'ranging': 7284, 'facebook': 3310, 'destruction': 2584, 'quiet': 7211, 'railway': 7252, 'continually': 2105, 'exactly': 3204, 'unpleasant': 9262, 'yellow': 9873, 'refused': 7437, 'jacket': 4843, 'sen': 8023, 'responds': 7586, 'faith': 3331, 'sb': 7850, 'hoâ': 4334, '1981': 101, 'pivotal': 6733, 'moment': 5761, 'sotu': 8355, 'huh': 4358, 'islamaphobia': 4809, 'renewableenergy': 7518, 'solves': 8333, 'huffpost': 4353, 'reddit': 7405, 'resident': 7566, 'runway': 7753, 'organisation': 6300, 'leftist': 5139, 'traditional': 9019, 'class': 1809, 'base': 1061, 'dislike': 2702, 'soros': 8350, 'fired': 3463, 'alien': 619, 'dropped': 2856, 'january': 4853, '1977': 97, 'snowing': 8303, 'blew': 1305, 'announcement': 717, 'levy': 5181, 'tolerant': 8968, 'pussy': 7170, 'grabbing': 3846, 'endorsed': 3061, 'humanitarian': 4363, 'correction': 2171, 'announce': 715, 'motion': 5802, 'believed': 1161, 'imã': 4572, 'pengen': 6585, 'itu': 4832, 'jgn': 4878, 'lahan': 5058, 'random': 7279, 'shared': 8109, 'feeding': 3403, 'pseudoscience': 7119, 'sewage': 8079, 'treatment': 9059, 'screwed': 7944, 'line': 5239, 'grim': 3898, 'destroy': 2578, 'unprepared': 9265, 'whiplash': 9663, 'charity': 1705, 'outline': 6346, 'managing': 5477, 'modern': 5757, 'imwithher': 4571, 'breakneck': 1412, 'speed': 8386, 'taiwan': 8732, 'apologize': 758, 'club': 1888, 'involve': 4776, 'chemistry': 1732, 'fundamentally': 3664, 'physicist': 6694, 'adapting': 441, '37': 221, 'sarcasm': 7819, 'gary': 3705, 'antidote': 742, 'johnson': 4899, 'room': 7719, '800': 292, 'disagree': 2665, 'proactive': 7014, 'sake': 7786, 'evening': 3184, 'newscast': 5951, 'spent': 8392, '125': 42, 'min': 5682, 'academy': 365, 'connects': 2065, 'severity': 8078, 'fusion': 3674, 'fostering': 3573, 'undo': 9206, 'fâ': 3681, 'detroit': 2592, 'track': 9011, 'deep': 2438, 'boom': 1358, 'sustainability': 8673, 'table': 8720, 'achieving': 404, 'rhetoric': 7653, 'orã': 6317, 'agent': 523, 'implementing': 4549, 'poison': 6810, 'diabetes': 2611, 'harry': 4048, 'chorus': 1761, 'branch': 1396, 'reach': 7318, 'hysteria': 4422, 'questioned': 7202, 'undone': 9208, 'lefty': 5140, 'pressing': 6966, 'sharing': 8111, 'avert': 957, 'player': 6770, 'rollback': 7710, 'microsoft': 5653, 'macro': 5405, 'identity': 4456, 'defeat': 2442, 'swedish': 8691, 'polite': 6823, 'boy': 1387, 'engineering': 3076, 'conservation': 2070, 'highlight': 4189, 'starvation': 8461, 'landscape': 5072, 'warmer': 9545, '24': 174, 'sunny': 8627, 'intro': 4747, 'pov': 6896, 'pioneered': 6720, 'expose': 3276, 'hid': 4180, 'opponent': 6271, 'muh': 5828, 'achievable': 400, 'drowning': 2862, 'megacities': 5590, 'hollywood': 4255, 'plenty': 6784, 'petition': 6659, 'acceptable': 374, 'legit': 5152, 'groundhogday': 3907, 'tradition': 9018, 'lobby': 5290, 'deputy': 2552, 'preserving': 6958, 'mercer': 5616, 'billionaire': 1235, 'megadonors': 5591, 'ramp': 7271, 'blocking': 1315, 'calculation': 1546, 'correct': 2169, 'province': 7108, 'climatic': 1862, 'jesus': 4871, 'return': 7616, 'jew': 4874, 'israel': 4819, 'beis': 1151, 'guessing': 3924, 'gen': 3720, 'homophobia': 4271, 'owning': 6398, 'surprise': 8655, 'declaration': 2426, 'playbook': 6768, 'contains': 2098, 'nc': 5902, 'attack': 911, 'nicely': 5977, 'eam': 2905, 'spell': 8387, 'unemployment': 9211, 'driveway': 2852, 'systemic': 8716, 'businessinsider': 1513, 'prepping': 6950, 'looming': 5327, 'islam': 4808, 'liberalism': 5197, 'disorder': 2713, '190': 75, 'promising': 7060, 'joe': 4895, 'kiribati': 5011, 'edge': 2947, 'respected': 7582, 'broadcast': 1450, 'lowest': 5363, '2011': 134, 'arthur': 849, 'g20': 3684, 'effectively': 2965, 'murphy': 5846, 'affordable': 500, 'criminal': 2254, 'trumpriot': 9101, 'staffer': 8437, 'brazile': 1403, 'incompetent': 4591, 'ridden': 7663, 'moron': 5794, 'œto': 9972, 'dire': 2654, 'eroding': 3145, 'replacing': 7536, 'abruptly': 350, 'updated': 9294, 'toe': 8964, 'af': 491, 'kindly': 5009, 'didnã': 2622, 'invent': 4757, 'belch': 1153, 'nsw': 6090, 'shown': 8163, 'attends': 922, 'split': 8403, 'unfolding': 9221, 'weigh': 9628, 'deception': 2416, 'silence': 8196, 'catch': 1628, 'shell': 8119, '1991': 108, 'neglected': 5921, 'heed': 4133, 'lonely': 5317, 'doctor': 2759, 'thermostat': 8869, 'breach': 1404, 'ru': 7735, 'guest': 3925, 'managed': 5474, 'heâ': 4172, '9th': 316, 'android': 696, 'scifi': 7914, '99c': 312, 'libs': 5203, 'haunt': 4072, 'pumpkin': 7146, 'vision': 9440, 'okay': 6222, 'nailed': 5872, 'consensus': 2068, 'amazing': 666, 'officially': 6205, 'everybody': 3188, 'margaret': 5510, 'thatcher': 8843, 'consumption': 2093, 'thriving': 8909, 'sunburn': 8624, 'jamaica': 4849, 'beach': 1102, 'vanishing': 9357, 'render': 7514, 'planeã': 6751, 'stunning': 8568, 'disrupting': 2728, 'route': 7728, 'north': 6046, '5c': 259, 'swing': 8699, 'fish': 3467, 'brigade': 1435, 'legacy': 5143, 'weakened': 9603, 'podcast': 6801, 'peta': 6657, 'salt': 7794, 'bae': 1005, 'astounds': 893, 'realã': 7346, 'nodapl': 6019, 'hateful': 4066, 'curing': 2310, 'thermometer': 8868, 'examining': 3210, 'withdraw': 9720, 'outpacing': 6351, 'convincing': 2137, 'alternative': 659, 'explanation': 3260, 'joint': 4904, 'hyperspectral': 4413, 'observe': 6157, 'acted': 417, 'shovel': 8157, 'contained': 2096, 'photographer': 6685, 'uproar': 9301, 'contradicts': 2113, 'bowl': 1385, 'mi': 5645, '2100': 161, 'eat': 2926, 'egg': 2970, 'kinder': 5007, '18': 67, 'internet': 4734, 'acidity': 409, '05': 11, 'texas': 8827, 'horror': 4308, 'chelsea': 1729, 'positive': 6877, 'glo': 3774, 'note': 6059, 'fan': 3350, 'interpretation': 4735, 'chilling': 1746, 'um': 9172, 'failing': 3325, 'litigation': 5263, 'pass': 6512, 'answering': 728, 'rerouted': 7558, 'confront': 2043, 'losã': 5343, 'shrinking': 8169, 'sinking': 8215, 'oslo': 6320, 'appointee': 776, 'mattis': 5550, 'wrote': 9819, 'stability': 8431, 'microbe': 5651, 'particularly': 6504, 'friendly': 3619, 'holding': 4248, 'mob': 5744, 'defies': 2457, 'approves': 789, 'thehill': 8855, 'schwarzenegger': 7891, 'rain': 7253, 'learned': 5127, 'skilled': 8236, 'haarp': 3947, 'recruiting': 7400, 'antonio': 744, 'guterres': 3940, '500m': 248, '170': 64, 'dominant': 2779, 'democracy': 2504, 'dive': 2741, 'reminding': 7506, 'fragility': 3586, 'memo': 5605, 'numerous': 6105, 'introduced': 4749, 'accidental': 383, 'statistic': 8475, 'perfectly': 6610, 'capture': 1591, '1910': 78, '1960': 91, 'ratio': 7308, 'apple': 769, 'user': 9322, 'hannah': 4006, 'decided': 2419, 'hartley': 4052, 'letterman': 5172, 'vp': 9486, 'shock': 8135, 'fixed': 3476, 'guide': 3927, 'demforce': 2503, 'sceptic': 7876, 'fee': 3400, 'dividend': 2750, 'oops': 6251, 'reveals': 7631, 'nytimes': 6129, 'donor': 2791, 'belong': 1168, 'catalyst': 1625, 'accountable': 391, 'mt': 5824, 'brian': 1428, 'stelter': 8493, 'destroyed': 2579, 'bastard': 1074, 'approve': 787, 'ab': 321, 'tower': 9001, 'symbol': 8707, 'hog': 4246, 'comparable': 1979, 'pattern': 6537, '17': 63, 'aditya': 457, 'bahadur': 1010, 'scepticism': 7878, 'scare': 7866, 'tactic': 8726, 'bearer': 1107, 'noah': 6014, 'morocco': 5793, 'knowledge': 5025, 'doug': 2813, 'edmeades': 2953, 'bro': 1448, 'snowy': 8306, 'ik': 4488, 'ditch': 2740, 'nvm': 6119, '52': 251, 'hum': 4360, 'allah': 625, 'linking': 5244, 'suicide': 8615, 'mentioning': 5613, 'bolt': 1348, 'cream': 2229, 'safeguard': 7778, 'balance': 1018, 'sdgs': 7957, 'aligns': 622, 'involvedâ': 4778, 'separate': 8044, 'various': 9363, 'piss': 6725, 'va': 9339, 'vet': 9391, 'embassy': 3012, 'hometown': 4268, 'utah': 9328, 'garden': 3704, '400': 230, 'audience': 932, 'worsen': 9780, 'troubling': 9087, 'favor': 3382, 'alright': 652, 'cure': 2308, 'nowreading': 6080, 'closing': 1881, 'manmade': 5489, 'manipulation': 5486, 'domestic': 2777, 'capital': 1584, 'sanitation': 7810, 'larsen': 5083, 'incident': 4581, 'weekly': 9623, 'passed': 6514, 'irreversible': 4804, 'stole': 8512, 'faking': 3336, 'bride': 1430, '13': 45, 'pledging': 6782, '140': 52, 'determined': 2589, 'temâ': 8806, 'turnout': 9134, 'bengal': 1180, 'click': 1828, 'youâ': 9895, 'seâ': 8088, 'accepted': 376, 'archbishop': 803, 'rubio': 7737, 'guilt': 3930, 'sleeve': 8254, 'ecosystem': 2944, 'reader': 7326, 'partisan': 6505, 'shortage': 8147, 'misogynistic': 5715, 'asshole': 879, 'bein': 1149, 'dup': 2885, 'condemned': 2026, 'style': 8575, 'proportion': 7077, 'understands': 9201, 'expand': 3237, 'vital': 9451, 'follower': 3527, 'conditioner': 2030, 'super': 8629, 'replacement': 7534, 'sense': 8033, 'proceeds': 7025, 'theorist': 8860, '53': 252, 'scicomm': 7896, 'literacy': 5258, 'mixed': 5735, 'â½': 9932, 'intended': 4714, 'attitude': 924, 'acknowledging': 414, 'lâ': 5394, 'vermont': 9387, 'transforming': 9035, 'logic': 5304, 'isâ': 4825, 'column': 1939, 'corporate': 2167, 'denialism': 2519, 'special': 8378, 'courage': 2200, 'ethanol': 3169, 'empowered': 3040, 'immune': 4526, 'losing': 5340, 'laughed': 5096, 'bp': 1390, 'publicly': 7132, 'backing': 992, 'uncertainty': 9182, 'wicked': 9677, 'fewer': 3419, 'text': 8828, 'aboutâ': 344, 'ano': 723, 'ng': 5970, 'å½': 9938, 'provoking': 7112, 'forget': 3554, 'usda': 9317, 'dyk': 2898, 'influencing': 4636, 'salmonella': 7792, 'precipitation': 6923, 'imaginary': 4507, 'studying': 8566, 'michigan': 5649, 'anonymous': 724, 'advisor': 483, 'productive': 7037, 'floor': 3503, 'penalty': 6582, 'lifetime': 5214, 'supreme': 8648, 'â³ã': 9926, 'provides': 7106, 'insists': 4681, 'orleans': 6311, '039': 9, 'gravest': 3873, 'katrina': 4969, 'differ': 2630, 'communicating': 1972, 'workshop': 9761, 'previously': 6980, 'premier': 6941, '01': 5, '73': 283, 'rn': 7689, 'nordic': 6042, 'frantically': 3596, 'copy': 2159, 'lest': 5168, 'vanish': 9355, 'shine': 8129, 'emailsã': 3006, 'saiga': 7784, 'connected': 2061, 'regional': 7450, 'shipping': 8131, 'opened': 6257, 'ethic': 3170, 'swiss': 8701, 'fav': 3380, 'despair': 2572, 'described': 2558, 'worldâ': 9772, 'warâ': 9565, 'areâ': 813, 'tit': 8952, '1957': 87, 'cigarette': 1783, 'cancer': 1577, 'unlikely': 9257, 'whatsapp': 9650, 'conserving': 2073, 'togo': 8965, 'journos': 4925, 'tour': 8997, 'câ': 2331, 'technological': 8789, 'rush': 7757, 'proposed': 7080, 'mission': 5722, 'maintaining': 5437, 'specifically': 8382, 'refute': 7439, 'mistake': 5724, 'lesson': 5167, 'maher': 5427, 'paâ': 6550, 'misunderstand': 5725, 'pier': 6707, 'morgan': 5789, 'analyzed': 687, '36': 219, 'concluded': 2020, 'categorical': 1629, 'surge': 8653, 'editor': 2951, 'writing': 9815, 'witch': 9718, 'primarily': 6991, 'crush': 2280, 'zealot': 9907, 'faltering': 3344, 'justâ': 4952, 'delayed': 2477, 'karma': 4963, 'sincerely': 8207, 'whats': 9649, 'billiontreetsunami': 1236, 'counter': 2191, 'reforestation': 7426, 'onair': 6239, 'horizon': 4299, 'afforestation': 501, 'kardashian': 4959, 'sã': 8718, 'indicate': 4612, 'yelled': 9871, 'planted': 6758, 'dry': 2867, 'violent': 9428, 'demography': 2507, 'posing': 6875, 'dumber': 2877, 'hypocritical': 4419, 'insert': 4674, 'societal': 8316, 'wacky': 9498, 'libera': 5195, '2012': 135, 'comprehend': 2001, 'struggling': 8561, 'witâ': 9732, 'shameful': 8103, 'survived': 8667, 'caribbean': 1604, 'paul': 6538, '1800': 69, 'missile': 5720, 'contempt': 2099, 'rolled': 7711, 'theresa': 8863, 'pose': 6873, 'intelligence': 4711, 'disappearing': 2672, 'legislature': 5151, 'startling': 8459, 'omission': 6237, 'dingin': 2643, 'dari': 2363, 'di': 2610, 'volcano': 9468, 'herder': 4157, 'announced': 716, 'row': 7729, 'fam': 3345, 'deeply': 2439, 'published': 7134, 'disproved': 2721, 'mom': 5760, 'hoe': 4245, 'ji': 4880, 'yah': 9853, 'granted': 3862, 'chomsky': 1757, 'nyt': 6128, 'closest': 1880, 'midnight': 5657, '64': 271, 'protester': 7096, 'meaningful': 5572, 'huffington': 4350, 'content': 2100, 'cute': 2319, 'floating': 3498, 'loaded': 5288, 'attempt': 913, 'nationalism': 5888, 'libya': 5206, 'hudson': 4349, 'valley': 9349, 'beating': 1111, 'cuckaloosâ': 2292, 'england': 3077, 'web': 9614, 'factory': 3319, 'declaring': 2430, 'whilst': 9660, 'appoints': 779, '31': 210, 'germany': 3751, 'â¼ã': 9931, 'â¼': 9930, 'absorb': 356, '48': 239, 'lb': 5112, 'academic': 364, 'controversy': 2128, 'surrounding': 8660, 'bret': 1423, 'depiction': 2540, 'delingpole': 2487, 'unaware': 9178, 'thã': 8925, 'hawking': 4086, 'ambition': 670, 'cutting': 2320, 'cleaner': 1815, 'hoping': 4298, 'magazine': 5415, 'trumpnã': 9100, 'idk': 4464, 'declineâ': 2432, 'bonkers': 1353, 'bi': 1210, 'omg': 6235, 'grape': 3864, 'geographic': 3740, 'yearsproject': 9867, 'celebrate': 1653, 'breathing': 1417, 'envt': 3117, 'inspired': 4684, 'throne': 8911, 'secretly': 7985, 'archaeology': 802, 'ipsos': 4787, 'afford': 498, 'functionality': 3659, 'pause': 6540, 'geostorm': 3749, 'endorse': 3060, 'kerstin': 4986, 'langenberger': 5074, 'guardianeco': 3922, 'abandon': 322, 'zoe': 9914, 'hearing': 4112, 'vineyard': 9422, 'hypocrisy': 4416, 'historical': 4220, 'upper': 9300, 'midwestern': 5660, 'occuring': 6176, 'a4': 317, 'equation': 3131, 'davy': 2382, 'vollum': 9471, 'situation': 8222, 'remind': 7503, 'happeningã': 4014, 'prince': 6996, 'telegraph': 8794, 'recession': 7376, 'ratified': 7304, 'specific': 8381, 'adorable': 474, 'decrease': 2435, 'inâ': 4781, 'oxford': 6402, 'elitist': 2997, 'commander': 1956, 'consumerism': 2092, 'tairp': 8731, '1b': 114, 'rein': 7466, 'magnate': 5421, 'novel': 6074, 'behalf': 1141, 'aint': 563, 'dutch': 2889, 'wind': 9698, 'vi': 9394, 'discrimination': 2689, 'definitely': 2461, 'oxygen': 6404, 'fallen': 3339, 'marine': 5515, 'asap': 857, 'withã': 9728, 'resulted': 7604, 'possibly': 6880, 'p2': 6411, 'adopted': 472, 'jonathan': 4913, 'prize': 7011, 'outnumber': 6349, 'efficiency': 2966, 'cited': 1788, 'delilah': 2486, 'shitty': 8134, 'jump': 4940, 'fakenews': 3334, 'sudden': 8600, 'repealing': 7525, 'cabinet': 1538, 'fashion': 3368, 'fur': 3670, 'asset': 878, 'adoftheday': 470, 'stirring': 8509, 'earthquake': 2916, 'tsunami': 9115, 'nee': 5913, 'suggested': 8612, 'instability': 4687, '4corners': 241, 'actuallivingscientist': 431, 'justified': 4949, 'brings': 1442, 'judge': 4932, 'ne': 5905, 'alleviate': 636, '1st': 120, 'laureate': 5101, 'pdf': 6554, 'pound': 6895, 'unrest': 9273, 'overpopulation': 6379, 'graham': 3852, 'pity': 6731, 'persist': 6634, 'neil': 5928, 'degrasse': 2472, 'tyson': 9150, 'recover': 7397, 'reid': 7465, 'joining': 4903, 'foundation': 3575, 'ordered': 6293, 'cooperate': 2149, 'investigation': 4767, 'unexpected': 9215, 'fishery': 3470, 'surveillance': 8662, 'bias': 1212, 'outcome': 6338, 'exposure': 3278, 'hazard': 4091, 'jazeera': 4858, 'aljazeera': 624, 'recipient': 7378, 'chinaã': 1749, 'snob': 8296, 'rigged': 7672, 'dncleak': 2756, 'robot': 7698, 'critical': 2259, 'venus': 9382, 'cultivates': 2300, 'nurture': 6108, 'abandoning': 324, 'bigdata': 1220, 'datascience': 2372, 'iot': 4783, 'costing': 2180, 'wwf': 9830, 'richest': 7659, 'succumb': 8595, 'fury': 3673, 'studied': 8564, 'wwe': 9829, 'iamaclimatechangedenier': 4428, 'geopolitical': 3745, 'econ': 2938, 'nigeriaâ': 5988, 'rural': 7755, 'dw': 2893, 'documenting': 2763, 'unparalleled': 9261, 'beauty': 1114, 'flew': 3493, 'switzerland': 8705, 'ironic': 4798, '47': 237, 'electing': 2980, 'payment': 6548, 'vast': 9364, 'overwhelm': 6387, 'frustrating': 3635, 'aspect': 869, 'inherent': 4649, 'haveâ': 4079, 'personal': 6637, 'economically': 2940, 'diego': 2626, 'preach': 6918, 'outrageous': 6355, 'harmful': 4036, 'minneapolis': 5697, 'sci': 7892, '2021': 147, 'drastic': 2834, 'somalia': 8336, 'layer': 5110, 'stormy': 8528, 'highlighted': 4190, 'lamar': 5063, 'negotiation': 5923, 'owner': 6396, 'ongoing': 6242, 'creates': 2232, 'arrived': 838, 'architect': 804, 'aia': 555, 'kofi': 5031, 'annan': 712, 'treated': 9057, 'tuition': 9121, 'lowkey': 5364, 'complaining': 1992, 'â¹': 9928, 'murray': 5847, 'cnbc': 1892, 'lizard': 5278, 'bed': 1120, 'founded': 3576, 'paramilitary': 6475, 'pet': 6656, 'reserve': 7564, 'tropic': 9084, 'stall': 8444, 'cooking': 2144, 'lp': 5365, 'greennewdeal': 3888, 'â¾': 9933, 'obsoletã': 6163, 'pantomime': 6464, 'integrity': 4708, 'projected': 7053, 'flourish': 3507, 'iq': 4789, 'polled': 6833, 'hi': 4176, 'cleanpowerplan': 1818, 'holy': 4259, 'shirt': 8132, 'bean': 1104, 'chevron': 1736, 'nutrition': 6112, 'arnold': 831, 'shoot': 8140, 'selfie': 8012, 'cat': 1623, 'livestock': 5274, 'savethereef': 7839, 'emitted': 3024, 'traffic': 9020, 'chaos': 1698, 'journey': 4924, 'bath': 1078, 'gu': 3917, 'focusing': 3521, 'father': 3375, 'spraying': 8418, 'bucket': 1470, 'compared': 1981, 'rampant': 7273, 'credit': 2246, 'blanket': 1294, 'relation': 7477, 'louisiana': 5349, 'yankee': 9859, 'session': 8066, 'oligarch': 6229, 'scot': 7924, 'bitcoin': 1277, 'rebuild': 7362, 'betsy': 1196, 'devos': 2605, 'whoa': 9670, 'defiance': 2452, 'living': 5277, 'wth': 9824, 'doin': 2774, 'anybody': 747, 'oba': 6140, 'pivot': 6732, 'naming': 5876, 'notâ': 6071, 'nicaragua': 5975, 'heathrow': 4123, 'consultation': 2087, 'noise': 6022, 'cleaning': 1816, 'max': 5554, 'fl': 3479, 'arses': 843, '25th': 181, 'hub': 4347, 'tearing': 8782, 'apart': 754, 'warmingã': 9550, 'illustration': 4503, 'hã': 4425, 'sort': 8352, 'useless': 9321, 'horrific': 4305, '11pm': 38, 'thigh': 8877, 'hiring': 4213, 'pulled': 7141, 'comey': 1951, 'doom': 2797, 'choke': 1754, 'unconvinced': 9187, 'photoshop': 6688, 'tiny': 8946, 'extent': 3288, 'gaining': 3692, 'included': 4584, 'realise': 7334, 'lawyer': 5108, 'abstract': 358, 'incarceration': 4578, 'fascism': 3366, 'summary': 8619, 'millionaire': 5679, 'lung': 5382, 'chronic': 1772, 'lisa': 5247, 'jackson': 4844, 'accelerator': 372, 'noted': 6060, 'wearing': 9610, 'happy': 4020, '30pm': 209, 'spiral': 8399, 'prehistoric': 6938, 'dog': 2772, 'evolved': 3196, 'hunting': 4381, 'invasive': 4756, 'native': 5891, 'aldubkeytoforever': 605, 'defeating': 2443, 'serf': 8052, 'wildcardâ': 9687, 'instituteâ': 4696, 'selfishness': 8014, 'imply': 4554, 'alarmism': 595, 'cattle': 1632, 'inner': 4659, 'confusing': 2050, 'injustice': 4656, 'equal': 3127, 'tier': 8934, 'nonsensical': 6037, 'stats': 8478, 'semi': 8019, 'arid': 822, 'abrupt': 349, 'coalition': 1900, 'apathy': 755, 'oust': 6335, 'pin': 6714, 'secret': 7981, 'mushroom': 5849, 'cop': 2151, 'absent': 352, 'disheartening': 2699, 'property': 7073, 'rangeland': 7282, 'ghg': 3756, 'trolling': 9082, 'signing': 8195, 'surrounded': 8659, 'seeking': 7999, 'vault': 9366, 'mechanism': 5580, 'known': 5027, 'exploding': 3264, 'boss': 1373, 'paint': 6430, 'thomson': 8892, 'lay': 5109, 'satire': 7824, 'dozen': 2821, 'clarke': 1807, 'mathiesen': 5546, 'travelled': 9052, 'tasmania': 8757, 'ignoranc': 4475, 'stopped': 8519, 'eats': 2929, 'correlation': 2174, 'additional': 449, 'adherent': 456, 'revisit': 7643, 'secnewsbot': 7979, 'hacker': 3953, 'seat': 7970, 'horrifying': 4307, 'truck': 9090, 'raping': 7295, 'false': 3342, 'culprit': 2297, 'dg': 2609, 'tidak': 8930, 'yg': 9878, 'akan': 582, 'yale': 9855, 'shaping': 8107, 'dashed': 2368, 'progressive': 7051, 'hiding': 4183, 'murdered': 5842, '2009': 132, 'waleed': 9518, 'aly': 663, 'lovelock': 5354, 'onion': 6243, 'displacing': 2717, 'recognizes': 7387, 'agâ': 549, 'restriction': 7601, 'producing': 7034, 'buying': 1523, 'ireland': 4793, 'seaã': 7975, 'boosting': 1363, 'sb46': 7853, 'technical': 8786, 'briefing': 1433, 'alp': 651, 'tremendous': 9063, 'bag': 1008, 'dress': 2840, 'agri': 539, 'certainly': 1673, 'walking': 9524, 'agu': 547, '2200': 165, 'cleanliness': 1817, 'frm': 3625, 'serving': 8064, 'servicesbymsg': 8063, 'ruining': 7743, 'bullsh': 1487, 'jong': 4915, 'il': 4490, 'remembered': 7501, 'depletion': 2544, 'chill': 1745, 'agroforestry': 545, 'wi': 9676, 'manufactured': 5495, 'crackdown': 2219, 'pc': 6552, 'zombie': 9915, 'fyi': 3680, 'unacceptable': 9176, 'redistribution': 7407, 'organized': 6303, 'illuminati': 4498, 'insanity': 4670, 'doubling': 2808, 'stave': 8481, 'oã': 6410, 'replaced': 7533, 'drill': 2845, 'alliance': 638, 'peak': 6560, 'body': 1337, 'pole': 6818, 'wors': 9778, 'geo': 3737, 'mainly': 5433, 'grip': 3899, 'colonialism': 1931, 'washing': 9568, 'storage': 8523, 'bless': 1302, 'lord': 5334, 'implies': 4551, 'racing': 7233, 'associate': 883, '42': 232, 'calm': 1556, 'yall': 9856, 'wikileaks': 9683, 'illusion': 4499, 'fishing': 3471, 'chose': 1762, 'aã': 983, 'yahoo': 9854, 'update': 9293, 'wor': 9753, 'philippine': 6674, 'guaranteed': 3919, 'yea': 9863, 'scream': 7938, 'crystal': 2283, 'slap': 8245, 'establishment': 3162, 'outcry': 6339, 'nm': 6012, 'prevented': 6974, 'clueless': 1890, 'scrape': 7935, 'method': 5638, 'saveenergy': 7834, 'newâ': 5964, 'safe': 7777, 'bos': 1372, 'contradicting': 2112, 'cleantech': 1819, 'eliminate': 2991, 'excessive': 3218, 'grader': 3849, 'pony': 6849, 'californian': 1552, 'direction': 2657, 'chemical': 1731, 'visiting': 9443, 'celebrity': 1655, 'nationwide': 5890, 'expecting': 3244, 'dresslikeawoman': 2841, 'caribou': 1605, 'extensive': 3287, 'treasonous': 9054, 'vídeo': 9495, 'tampa': 8742, 'stopadani': 8518, 'block': 1312, 'mobile': 5746, 'disappeared': 2671, 'multiplier': 5835, 'heartbreaking': 4115, 'pollute': 6838, 'insect': 4671, 'decent': 2415, 'northwest': 6049, 'authoritarian': 945, 'conman': 2059, 'sob': 8309, 'attacking': 912, 'flee': 3490, 'armed': 828, 'accusation': 396, '139': 50, 'atheist': 900, 'fine': 3452, 'loosing': 5333, 'gulf': 3932, 'fr': 3582, 'screw': 7943, 'impetus': 4544, 'weatherman': 9612, 'radical': 7240, 'platform': 6765, 'bridge': 1431, 'divide': 2748, 'financing': 3450, 'corp': 2166, 'scrapping': 7937, 'aviation': 961, 'intend': 4713, 'exaggerated': 3206, 'stealing': 8488, 'unborn': 9180, 'crackpot': 2220, 'maurice': 5553, 'newman': 5949, 'demanding': 2500, 'bloke': 1317, 'arguing': 820, 'walker': 9523, 'waging': 9503, 'rumored': 7747, 'goodbye': 3816, 'rob': 7694, 'walrus': 9529, 'ensures': 3090, 'pricing': 6986, 'isã': 4826, 'bezos': 1203, 'launching': 5100, 'andâ': 698, 'rapper': 7296, 'deutsche': 2593, 'welle': 9635, 'unit': 9241, 'hooray': 4290, 'nbn': 5901, 'ruined': 7742, 'existent': 3230, 'doubled': 2807, 'mess': 5625, 'handel': 3997, 'knowing': 5023, 'observer': 6159, 'pie': 6705, 'hole': 4249, 'peng': 6584, 'binghamton': 1243, 'overcome': 6369, 'den': 2515, 'somebody': 8337, 'liar': 5191, 'lying': 5390, 'civil': 1795, 'laughing': 5097, 'trump2016': 9096, 'framing': 3589, '地球温暖化は': 9997, '二酸化炭素の排出と直接の関係があると言われている': 9995, 'script': 7947, 'featured': 3394, 'amanda': 665, 'dried': 2843, 'sweltering': 8695, 'realised': 7335, 'locally': 5297, 'aarey': 319, 'claiming': 1803, 'contributed': 2118, 'cough': 2184, 'hurting': 4394, 'zimbabwe': 9912, 'household': 4329, 'drink': 2847, 'dismiss': 2708, 'billnye': 1237, 'donna': 2789, 'match': 5542, 'nazi': 5898, 'doesnt': 2769, 'straight': 8530, 'refuting': 7442, 'integrating': 4707, 'pake': 6435, 'buku': 1481, 'kita': 5014, 'dengan': 2516, 'asâ': 898, 'imago': 4512, 'ravaged': 7312, 'pollutingpruitt': 6843, 'donates': 2786, 'honored': 4283, 'patriarch': 6533, 'bartholomew': 1059, 'grows': 3913, 'fruit': 3634, 'withdrawing': 9722, 'spoiler': 8405, 'dictator': 2619, 'waddle': 9499, 'registration': 7453, 'flag': 3481, 'naysayer': 5897, 'garbage': 3703, 'fest': 3415, 'tlot': 8956, 'promoting': 7065, 'isnt': 4815, 'advantage': 478, 'aussie': 937, 'erosion': 3146, 'tfw': 8833, 'hoot': 4292, 'obese': 6147, 'messing': 5628, 'normally': 6045, 'lethal': 5170, 'interrupt': 4736, 'electrical': 2987, 'grid': 3893, 'fails': 3326, 'gif': 3760, 'taehyung': 8727, 'saved': 7833, 'watered': 9587, 'birthday': 1266, 'mile': 5670, 'rocky': 7704, 'trail': 9024, 'leaf': 5121, 'poised': 6809, 'matthew': 5549, 'pig': 6709, 'cub': 2290, 'veganism': 9374, 'confronted': 2044, 'bogus': 1338, 'gasket': 3707, 'unimpeachable': 9232, 'fell': 3408, 'visited': 9442, 'lagos': 5057, 'monday': 5766, 'ah': 550, 'ðÿœž': 9952, 'speaker': 8375, 'irrefutable': 4801, 'rethink': 7608, 'enables': 3045, 'dance': 2355, 'luckily': 5372, 'tricking': 9072, 'morningjoe': 5791, 'å½ã': 9939, 'â²': 9924, 'proposal': 7078, 'hansen': 4008, 'richard': 7657, 'iii': 4485, 'download': 2815, 'log': 5301, 'buck': 1469, 'smell': 8281, 'monitor': 5769, 'vegetation': 9377, 'filed': 3438, 'nominated': 6026, 'dam': 2345, 'clive': 1873, 'palmer': 6449, 'labor': 5048, 'kasich': 4964, 'admitted': 468, 'attribute': 926, 'sold': 8324, 'himalaya': 4203, 'reversal': 7637, 'rapid': 7293, 'spite': 8402, 'ofâ': 6211, 'om': 6232, 'ook': 6250, 'swindle': 8698, 'te': 8771, 'helen': 4138, 'luxury': 5387, 'tribal': 9068, 'mediterranean': 5585, 'inhabitat': 4648, 'cbc': 1643, 'chocolate': 1752, 'ass': 871, 'invite': 4773, 'picnic': 6702, 'whidbey': 9659, 'pile': 6711, 'door': 2801, 'soar': 8308, 'cau': 1633, 'returned': 7617, 'foe': 3522, 'contest': 2101, 'package': 6419, 'misinformation': 5708, 'counsel': 2188, 'organic': 6299, 'maryland': 5533, 'kung': 5039, 'sayo': 7846, 'pinag': 6715, 'bago': 1009, 'yan': 9857, 'dala': 2343, 'malanding': 5455, 'panahon': 6454, 'ikaw': 4489, 'ba': 985, 'phd': 6667, 'taxation': 8761, 'defending': 2449, 'highlighting': 4191, 'sept': 8047, 'receive': 7371, 'researching': 7562, 'li': 5187, 'perception': 6607, 'miracle': 5704, 'heavier': 4128, 'smog': 8285, 'ar': 796, 'technica': 8785, 'relating': 7476, 'punch': 7148, 'dangerously': 2359, 'manitoba': 5487, 'âžœâ': 9936, 'imvoting4jillbecause': 4569, 'truly': 9093, 'dedicated': 2437, 'posted': 6884, 'resistance': 7573, 'explodes': 3263, 'gag': 3688, 'hardly': 4031, 'reaching': 7320, 'grab': 3845, 'hunter': 4380, 'subtly': 8589, 'smallholder': 8272, 'twin': 9142, 'locked': 5300, 'bho': 1208, 'arrives': 839, 'climâ': 1868, 'stream': 8538, 'fisher': 3468, 'freshwater': 3613, 'absorbing': 357, 'atmospheric': 907, 'acidifying': 408, 'groundbreaking': 3904, 'discovery': 2686, 'instructed': 4698, 'beg': 1134, 'thinkprogress': 8884, 'cambridge': 1559, 'port': 6866, 'cheaper': 1716, 'scie': 7897, 'influential': 4637, 'maker': 5449, 'comâ': 2006, 'wipe': 9707, 'wasteful': 9577, 'explosion': 3272, 'climatâ': 1864, 'joseph': 4918, 'mountain': 5807, 'sat': 7821, 'quietly': 7212, 'designing': 2569, 'plague': 6741, 'purge': 7162, 'milwaukee': 5680, 'sentinel': 8041, 'sorta': 8353, 'finished': 3457, 'fought': 3574, 'ralph': 7266, 'changeðÿ': 1695, 'stoprush': 8521, 'brilliant': 1438, 'fi': 3422, 'transform': 9032, 'hilton': 4202, 'warned': 9558, '2005': 128, 'uttered': 9333, 'homework': 4269, 'ethical': 3171, 'earthtomarrakech': 2917, 'ate': 899, 'breakfast': 1409, 'msg': 5818, 'plantation': 6757, 'traveling': 9051, 'slide': 8256, 'manhattan': 5480, '2008': 131, 'fakeã': 3335, 'wikipedia': 9684, '74': 284, 'bathroom': 1079, 'sale': 7788, 'huâ': 4398, 'proceed': 7024, 'chooses': 1759, 'defunds': 2467, 'housing': 4330, 'feared': 3390, 'delete': 2480, 'stuck': 8562, 'producer': 7033, 'bass': 1072, 'void': 9464, 'persuade': 6642, 'reuterspolitics': 7626, 'battling': 1086, 'denounces': 2528, 'cross': 2272, 'mangrove': 5479, 'marsh': 5526, 'worldwetlandsday': 9770, '46': 236, 'representing': 7546, 'urged': 9309, '20m': 157, 'vatican': 9365, 'band': 1031, 'malnutrition': 5466, 'saturday': 7825, 'uc': 9155, 'berkeley': 1184, 'gathered': 3710, 'erased': 3141, 'handed': 3995, 'basis': 1071, 'ideological': 4457, 'yourâ': 9891, 'ravaging': 7313, 'foot': 3536, 'ball': 1024, 'usually': 9326, 'stadium': 8434, 'bakit': 1017, 'parang': 6477, 'intimate': 4744, 'encounter': 3047, 'polarbear': 6815, 'koala': 5029, 'driven': 2850, 'incrementalism': 4603, 'premise': 6942, 'swallow': 8681, 'conclusion': 2022, 'implement': 4546, 'monster': 5774, 'postponement': 6888, 'dis': 2663, 'showdown': 8159, 'hunt': 4379, 'picked': 6700, 'pruit': 7114, 'refuge': 7433, 'palau': 6442, 'frontline': 3628, 'debatable': 2395, 'humor': 4372, 'ranked': 7286, 'nwo': 6120, 'eliminated': 2992, 'similar': 8200, 'held': 4137, 'manager': 5476, 'shocked': 8136, 'museum': 5848, 'yup': 9901, 'prairie': 6910, 'pizzagate': 6735, 'ukraine': 9169, 'tht': 8915, 'ladybird': 5055, '500': 246, 'mocked': 5750, 'newsweek': 5959, 'shale': 8098, 'bcuz': 1099, 'newsletter': 5955, 'availability': 953, 'permit': 6624, 'theeconomist': 8851, 'hardened': 4028, 'sustainable': 8674, 'drowned': 2861, 'sami': 7798, 'debunk': 2404, 'livelihood': 5271, 'liked': 5226, 'intellectual': 4710, 'idc': 4449, 'stfu': 8506, 'unesco': 9214, 'showcase': 8158, 'becau': 1117, 'aprilfools': 794, 'pissed': 6726, 'senior': 8030, 'prayer': 6915, 'teaming': 8779, 'nra': 6086, 'file': 3437, 'harass': 4022, 'relocating': 7492, 'jean': 4861, 'caught': 1634, 'apology': 759, 'ctl': 2287, 'avg': 959, 'planting': 6759, 'abate': 325, 'winning': 9705, 'lifestyle': 5213, 'dismal': 2703, 'jeff': 4863, 'immelt': 4520, 'œthe': 9969, 'poorest': 6855, 'nothiâ': 6062, 'faked': 3333, 'lived': 5270, 'consume': 2089, 'scarier': 7870, 'destroyã': 2582, 'precision': 6925, 'patagonia': 6524, 'sweater': 8688, 'occur': 6174, 'naturally': 5894, 'checkmate': 1722, 'emerging': 3020, 'examine': 3207, 'fiddled': 3426, 'index': 4608, '105': 27, 'yoâ': 9897, 'vivienne': 9453, 'stood': 8515, 'par': 6468, 'shall': 8099, 'strive': 8551, 'minimize': 5689, 'int': 4703, 'advocate': 486, 'cheese': 1726, 'donate': 2784, 'orgs': 6306, 'vol': 9465, 'dat': 2369, 'doe': 2768, 'terrestrial': 8812, 'biosphere': 1257, 'counteracting': 2193, 'creaâ': 2242, 'clearest': 1822, 'coachella': 1898, 'koch': 5030, 'underground': 9193, 'cataclysmic': 1624, 'applicable': 770, 'cbs': 1644, '175': 65, 'packed': 6420, 'smoke': 8286, 'tea': 8772, 'hmm': 4232, 'midwest': 5659, 'aga': 512, 'partner': 6507, 'seawall': 7973, 'backfire': 990, 'supermoon': 8632, 'nikki': 5997, 'haley': 3974, '360video': 220, 'oman': 6233, 'institute': 4695, 'labour': 5049, 'cooler': 2146, 'absurd': 359, 'fantasy': 3354, 'immediately': 4519, 'athlete': 901, 'miner': 5686, 'dir': 2653, 'unfair': 9217, 'sounding': 8359, 'hydrological': 4406, 'tragic': 9023, 'engage': 3070, 'simultaneously': 8205, 'minster': 5701, 'ex': 3198, 'sucker': 8597, 'opposes': 6276, 'mulvaney': 5836, 'compelling': 1984, 'discredited': 2688, 'visually': 9450, 'colorful': 1935, 'cave': 1640, 'shed': 8115, 'democratic': 2506, 'barber': 1046, 'qld': 7179, 'hon': 4275, 'steven': 8502, '16': 58, 'straightforward': 8531, 'consistent': 2080, 'obsession': 6162, 'prevents': 6977, 'overwhelmingly': 6389, 'incl': 4582, 'migrating': 5664, 'quest': 7199, 'pasture': 6522, 'herd': 4156, 'diff': 2629, 'opchempba': 6253, 'considers': 2079, 'vietnam': 9409, 'spirit': 8400, 'guided': 3928, 'clip': 1872, 'attenborough': 916, 'ontario': 6247, 'spare': 8370, 'cambioclimatico': 1557, 'largo': 5082, 'certainty': 1674, 'geological': 3744, 'tie': 8932, 'warmists': 9552, 'calendar': 1547, 'astronaut': 894, 'coat': 1904, 'fuckin': 3647, 'achieve': 401, 'c40awards': 1534, 'prez': 6981, 'globalwarmingã': 3787, 'freak': 3598, 'handedly': 3996, 'reversed': 7639, 'busines': 1511, 'complain': 1991, 'transformed': 9034, 'communication': 1973, 'wiâ': 9733, '2degreespanahonna': 198, 'grist': 3900, 'color': 1933, 'che': 1714, 'passing': 6516, 'threshold': 8904, 'senseless': 8034, 'bureaucrat': 1497, 'revenge': 7633, 'suit': 8617, 'testing': 8825, 'inhofe': 4650, 'buddy': 1472, 'equally': 3129, 'phoenix': 6680, 'grounded': 3905, 'flight': 3494, 'karen': 4960, 'didyouknow': 2623, 'rand': 7277, 'prison': 7006, 'wa': 9496, 'wisconsin': 9712, 'vâ': 9491, 'presidente': 6961, 'exploded': 3262, 'staged': 8439, 'nfl': 5969, 'fixing': 3477, 'hopeful': 4295, 'realistic': 7338, 'adaptive': 443, 'cyber': 2324, 'technique': 8788, 'frequency': 3609, 'heavy': 4131, 'osama': 6318, 'laden': 5053, 'ec': 2931, 'climaâ': 1866, 'tryna': 9113, 'marxist': 5531, 'officer': 6202, 'expressed': 3280, 'nigel': 5985, 'midst': 5658, 'runner': 7750, 'vying': 9490, 'râ': 7763, '1980s': 100, 'biased': 1213, 'emerged': 3017, 'empirical': 3034, 'neighborhood': 5926, 'flower': 3510, 'daughter': 2376, 'deni': 2517, 'renowned': 7521, 'rees': 7416, 'postponed': 6887, 'recently': 7375, 'taylor': 8764, 'stark': 8454, 'reduced': 7410, 'paradox': 6472, 'healthier': 4107, 'independence': 4606, 'eventually': 3186, 'shoe': 8139, 'migrate': 5663, 'nicholas': 5978, 'stern': 8500, 'ëœis': 9944, 'fearedã': 3391, 'requirement': 7555, 'rejected': 7470, 'novembeã': 6077, 'hiã': 4229, 'crid': 2252, 'repeatedly': 7528, 'enable': 3044, 'smash': 8278, '4th': 243, 'anniversary': 714, 'wrap': 9802, 'mainland': 5432, 'harsh': 4049, 'observable': 6155, 'pancake': 6456, 'maple': 5499, 'syrup': 8714, 'newtok': 5962, 'woefully': 9738, 'hall': 3978, 'spotlight': 8414, 'virginia': 9432, 'football': 3538, 'holland': 4252, 'core': 2163, 'ipcc': 4786, 'pestilence': 6655, 'agroecology': 544, 'fatal': 3373, 'provide': 7104, 'unique': 9238, 'tx': 9145, 'burnt': 1505, 'chicken': 1739, 'santorum': 7814, 'hush': 4397, 'frame': 3587, 'alumnus': 662, 'disclose': 2681, 'iditarod': 4463, 'alter': 655, 'censored': 1660, 'blackout': 1288, 'innovationhubpakistan': 4663, 'layyahyouth': 5111, 'thompson': 8891, 'bust': 1516, 'appeal': 764, 'resilient': 7571, 'adaption': 442, 'pursuing': 7165, 'adhere': 455, 'sitting': 8221, 'proudly': 7100, 'intelligent': 4712, 'superpower': 8633, 'obamafarewell': 6143, 'dependence': 2537, 'td': 8770, 'root': 7720, 'registered': 7452, 'elder': 2977, 'climat': 1833, 'quello': 7197, 'protocol': 7098, 'makeourplanetgreatagain': 5447, 'cia': 1782, 'gee': 3719, 'idiocy': 4460, 'painful': 6428, 'mesh': 5624, 'inuit': 4752, 'congressman': 2058, 'boo': 1355, 'provided': 7105, 'senã': 8042, 'columnist': 1940, 'nasty': 5883, 'globa': 3775, 'dumptrump': 2883, 'brunt': 1462, 'gmos': 3799, 'chairman': 1681, 'realized': 7341, 'petty': 6662, 'database': 2371, 'poc': 6798, 'rudolph': 7740, 'habitable': 3949, 'talked': 8740, 'rapidly': 7294, 'outâ': 6366, 'concedes': 2008, 'crude': 2275, 'spoke': 8406, 'jesse': 4869, 'watters': 9595, 'mon': 5763, 'airline': 568, 'hospital': 4313, 'turbulence': 9127, 'associated': 884, 'marcher': 5506, 'อง': 9994, 'criticise': 2261, 'bigoted': 1226, 'deã': 2608, 'julia': 4938, 'louis': 5347, 'dreyfus': 2842, 'bus': 1508, 'antigua': 743, 'r4today': 7226, 'hurrican': 4386, 'bitter': 1280, 'anthropocene': 737, 'gauge': 3712, 'concussion': 2024, 'ஒர': 9991, 'ரம': 9992, 'award': 969, 'badly': 1004, 'deliver': 2488, 'lancet': 5067, 'indiameansbusiness': 4610, 'lse': 5367, 'measuring': 5578, 'literature': 5262, 'legitimate': 5153, 'lecturing': 5135, 'salvador': 7796, 'climatehour': 1849, 'hemisphere': 4150, 'collect': 1924, '001': 3, 'pentagonã': 6595, 'internal': 4732, 'external': 3289, 'obligation': 6151, 'wasted': 9576, 'energ': 3066, 'wsj': 9821, 'screwing': 7945, 'inevitable': 4628, 'lwtzewalk2015': 5388, '375b': 222, 'nutcase': 6110, '180': 68, 'publishes': 7135, 'pointless': 6808, 'crusade': 2279, 'timeâ': 8944, 'servant': 8058, 'sunshine': 8628, 'rainbow': 7254, 'pakistani': 6437, 'recipe': 7377, 'suv': 8677, 'donnie': 2790, 'hawa': 4082, 'particular': 6503, 'suspect': 8670, 'equivalent': 3135, 'pollster': 6836, '08': 14, 'pushed': 7168, 'palin': 6446, 'biden': 1218, 'bushfires': 1510, 'comic': 1953, 'surpassed': 8654, 'operate': 6262, 'ourã': 6334, 'prep': 6943, 'illegal': 4493, 'junk': 4943, 'barry': 1057, 'organization': 6301, 'mud': 5826, 'pond': 6848, 'eruption': 3150, 'yearâ': 9868, '234': 171, 'hopeless': 4297, 'creationism': 2235, 'civilisation': 1796, 'cameron': 1562, 'vaccine': 9342, 'soul': 8356, 'bencarsonwikipedia': 1173, 'depressing': 2548, 'easier': 2920, 'hang': 4004, 'irrational': 4800, 'offs': 6206, 'debunks': 2407, 'libcrib': 5193, 'uni': 9227, '89': 300, 'gap': 3701, 'bcpoli': 1098, 'reaffirm': 7330, 'surprised': 8656, 'syrian': 8713, 'iranian': 4791, 'chaâ': 1713, 'capitalist': 1587, 'idly': 4466, 'wonâ': 9749, 'quickest': 7209, 'capitalism': 1585, 'emphasis': 3031, 'colossal': 1936, 'keepparis': 4975, 'hurricaneirma': 4389, 'jose': 4917, 'offensive': 6197, 'hel': 4136, '2c': 195, 'invading': 4754, 'worm': 9774, 'undermining': 9197, 'distract': 2734, 'fitness': 3473, 'quot': 7221, 'neã': 5968, 'deliberately': 2485, 'zika': 9911, 'virus': 9436, 'dystopian': 2900, 'dinner': 2644, 'imagined': 4510, 'impacted': 4532, 'œthere': 9970, 'shape': 8105, 'newspaper': 5957, 'hfc': 4174, 'virtual': 9433, 'simulation': 8204, 'denmark': 2526, 'depend': 2536, 'sitec': 8220, 'priced': 6984, 'kaput': 4958, 'confusion': 2051, 'insensitive': 4673, 'addressed': 451, 'icts': 4444, 'energyefficiency': 3068, '51': 250, 'van': 9352, 'der': 2553, 'planetã': 6750, 'oecd': 6194, 'weirdly': 9632, 'striking': 8548, 'cast': 1620, 'hd': 4096, '182': 70, 'migrant': 5662, 'sustain': 8672, 'infographic': 4639, 'inch': 4580, 'chat': 1712, 'dare': 2362, 'unfollow': 9222, 'lg': 5184, 'aisle': 575, 'hide': 4182, 'touted': 9000, 'psychological': 7121, 'covfefe': 2207, 'musical': 5851, 'bangladeshi': 1034, 'hugely': 4356, 'dahil': 2338, 'ako': 586, 'shouting': 8154, 'allahu': 626, 'akbar': 583, 'behead': 1145, 'affordability': 499, 'clintonã': 1871, 'millennial': 5675, 'hockey': 4244, 'corner': 2165, 'mâ': 5864, 'pain': 6427, 'adjusting': 459, 'niño': 6007, 'trading': 9017, 'muzzling': 5857, 'present': 6952, 'orbiting': 6290, 'camera': 1561, 'awaited': 965, 'stripped': 8550, 'statewide': 8471, 'guideline': 3929, 'teâ': 8830, 'reply': 7537, 'uv': 9335, 'bioenergy': 1247, 'radically': 7241, 'trâ': 9114, 'ecological': 2935, 'function': 3658, 'rejection': 7472, 'released': 7482, 'brand': 1397, 'unbelievable': 9179, 'wut': 9825, 'gopers': 3825, 'lock': 5299, 'msgtreeplantationdrive': 5821, 'bts': 1466, 'cured': 2309, 'impeached': 4537, 'wig': 9682, 'annually': 722, 'extinct': 3290, 'crank': 2223, 'wakeupsheeple': 9512, 'shrug': 8170, 'snag': 8289, 'bashing': 1067, 'wouldâ': 9793, 'homeland': 4264, 'som': 8335, 'forged': 3553, 'pleased': 6778, 'anderson': 693, 'sentence': 8039, 'utterly': 9334, 'visible': 9439, 'aerial': 488, 'intensification': 4716, 'mosquito': 5798, 'macdebate': 5401, 'sweat': 8687, 'dumbest': 2878, 'elimination': 2995, 'blasio': 1296, 'divests': 2747, 'pension': 6593, '101': 26, 'corrected': 2170, 'spouted': 8415, 'himã': 4204, 'puerto': 7138, 'rico': 7661, 'taste': 8758, 'wil': 9685, 'anxious': 746, 'scammer': 7859, 'harvest': 4056, 'flow': 3509, 'appointed': 775, 'myron': 5860, 'ebell': 2930, 'georgia': 3748, '1958': 88, '62': 268, 'lapse': 5077, 'married': 5525, 'swallowed': 8682, 'keystonexl': 4991, 'filthy': 3444, 'careful': 1603, 'bat': 1076, '92': 304, 'oneness': 6240, 'dalai': 2344, 'lamaâ': 5064, 'succeed': 8591, 'unfortunate': 9223, 'agric': 541, 'dec': 2409, 'visi': 9438, 'viral': 9430, 'tfb': 8832, 'degã': 2474, 'cheek': 1723, '82': 294, 'sumn': 8622, 'rã': 7764, 'admire': 464, 'feminism': 3413, 'triple': 9079, 'ska': 8228, 'inte': 4704, 'glãƒâ': 3796, 'mma': 5739, 'vem': 9379, 'ãƒâ': 9937, 'anser': 725, 'att': 910, 'homosexualitet': 4273, 'sjukdom': 8226, 'och': 6187, 'inverse': 4761, 'inauguration': 4577, 'regret': 7455, 'print': 6999, 'elon': 3000, 'musk': 5853, 'neoliberalism': 5931, 'conned': 2066, 'owned': 6395, 'minded': 5684, 'lifeâ': 5215, 'communicate': 1971, 'strengthening': 8543, 'comedy': 1950, 'gold': 3807, 'preferred': 6936, 'referring': 7420, 'escape': 3152, 'apparent': 762, 'tabloid': 8721, 'bleak': 1301, 'viaã': 9397, 'unfortunately': 9224, 'exploitation': 3266, 'niro': 6001, 'temporary': 8805, 'cuomo': 2303, 'spar': 8369, 'exchange': 3219, 'insider': 4676, 'hillaryclinton': 4201, 'sooooo': 8349, 'reframe': 7430, 'balanced': 1019, 'size': 8224, 'knowledgeable': 5026, 'conâ': 2140, 'vanished': 9356, 'rant': 7289, 'cheat': 1717, 'bullying': 1491, 'rea': 7317, 'biofuels': 1248, 'mirage': 5705, 'daddy': 2336, 'sink': 8214, 'delusional': 2497, 'clicked': 1829, 'conclude': 2019, 'deleting': 2483, 'unity': 9248, 'socialism': 8312, 'sgp': 8091, 'forcing': 3544, 'peruvian': 6647, 'aye': 980, 'bussin': 1515, 'latin': 5091, 'snake': 8291, 'cliff': 1830, 'context': 2102, 'dna': 2754, 'undoubtedly': 9209, 'thoughtful': 8895, 'perâ': 6650, 'todd': 8963, 'npr': 6085, 'experience': 3249, '76': 287, 'tangible': 8745, '3novices': 227, 'option': 6285, 'sweep': 8692, 'cwparis': 2323, 'copenhagen': 2157, 'leadiã': 5120, 'marrakesh': 5523, 'conf': 2033, 'material': 5544, 'qvc': 7224, 'dependent': 2538, 'newest': 5947, 'peopleâ': 6601, 'theme': 8858, 'conway': 2139, 'anchor': 690, 'ck': 1799, 'declared': 2428, 'bom': 1349, 'peach': 6559, 'grown': 3912, 'henry': 4154, 'automobile': 951, 'misinformed': 5709, 'popefrancis': 6859, 'celeb': 1652, 'ideologue': 4458, 'odd': 6191, 'baffle': 1006, 'align': 620, 'determine': 2588, 'personality': 6638, 'element': 2989, 'mix': 5734, 'steel': 8489, 'namjoon': 5877, 'delusion': 2496, 'protein': 7094, 'climateâ': 1860, '4m': 242, 'suggest': 8611, 'originated': 6309, 'rap': 7290, 'enemy': 3065, 'consulting': 2088, 'inviting': 4775, 'procrastinate': 7029, 'dominica': 2780, 'intensity': 4720, 'hurric': 4384, 'couple': 2199, 'smh': 8282, 'brilliantly': 1439, 'troll': 9081, 'longest': 5320, 'inclusive': 4587, 'comrade': 2005, 'fueled': 3650, 'settlement': 8073, 'dep': 2534, 'washed': 9567, 'fantastic': 3353, 'hotel': 4321, 'explored': 3269, 'pure': 7161, 'altering': 657, 'blunt': 1332, 'sacrifice': 7772, 'ga': 3687, 'receiving': 7373, '2degrees': 197, 'politically': 6825, 'notanothernigerian': 6056, 'bubble': 1468, 'wiping': 9709, 'leodicaprio': 5159, 'planner': 6754, 'pioneering': 6721, 'wont': 9748, '04': 10, 'helm': 4144, 'audio': 933, 'stokes': 8511, 'period': 6614, 'exacerbated': 3200, 'steep': 8490, 'reasonable': 7349, 'heel': 4134, 'coincidence': 1912, 'signaling': 8190, 'mega': 5589, '29': 189, 'annoying': 720, 'uncoupling': 9188, 'lengthy': 5155, 'someday': 8338, 'brookingsinst': 1456, 'wyko_news': 9833, 'ageing': 518, 'automation': 950, 'formed': 3560, 'provision': 7111, 'sanctuary': 7803, '2022': 148, '700': 280, 'cruelty': 2277, 'africaã': 507, 'backward': 994, 'imperative': 4541, 'saudi': 7829, 'outrage': 6353, 'mentioned': 5612, 'mã': 5865, 'hawaii': 4083, 'coldest': 1916, 'airtime': 574, 'spin': 8397, 'yacht': 9851, 'ri': 7654, 'sono': 8343, 'unveiled': 9287, '91': 303, 'vowing': 9482, 'figured': 3435, '09': 15, 'doomsday': 2799, '41': 231, 'correlated': 2173, 'aesthetic': 490, 'lobster': 5294, 'surroundings': 8661, 'panic': 6461, 'laudato': 5093, 'reâ': 7650, 'scorching': 7921, 'raining': 7257, 'lisbon': 5248, 'malnourished': 5465, 'terrible': 8813, 'composting': 2000, 'voodoo': 9473, 'acknowledged': 411, 'unreal': 9270, 'pan': 6453, 'teaparty': 8780, 'monckton': 5765, 'pachauri': 6415, 'lifeblood': 5212, 'sized': 8225, 'delegation': 2479, 'yearã': 9869, 'choosing': 1760, 'vegetarian': 9376, 'proclaimed': 7028, 'misogynist': 5714, 'homophobe': 4270, 'humankind': 4365, 'rebel': 7356, 'tgdn': 8834, 'biskupski': 1270, 'obstruct': 6165, 'probability': 7016, 'asteroid': 890, 'crafting': 2222, 'blacklist': 1287, 'japan': 4854, 'sediment': 7995, 'fe': 3388, 'title': 8954, 'belt': 1170, 'alongside': 648, '6th': 277, 'gentleman': 3734, 'leni': 5156, 'magnus': 5425, 'devastate': 2594, 'binding': 1241, 'islamist': 4811, 'lynch': 5393, '2004': 127, 'alert': 609, 'citing': 1791, 'distance': 2733, 'tornado': 8984, '100days': 22, 'impeachtrump': 4538, 'seychelles': 8087, '115': 35, 'operative': 6264, 'prosecuting': 7083, 'ccot': 1647, 'negara': 5917, 'paling': 6447, 'adalah': 435, 'maldives': 5460, 'tenggelam': 8807, 'pada': 6422, 'hari': 4034, 'jomã': 4910, 'bout': 1383, 'stolen': 8513, '2020dontbelate': 146, 'justify': 4950, 'continuing': 2109, 'adb': 444, 'ring': 7676, 'huffpo': 4352, 'rendering': 7515, 'dan': 2353, 'monument': 5778, 'marker': 5519, '900': 302, 'redford': 7406, 'hamilton': 3985, 'spectator': 8384, 'litre': 5265, 'hint': 4208, 'mirror': 5707, 'havenâ': 4077, 'motivated': 5803, 'stepping': 8498, 'adopting': 473, 'fiction': 3423, 'cruise': 2278, 'slammed': 8244, 'gameofthrones': 3698, 'dope': 2802, '94': 306, 'converting': 2134, 'reusable': 7624, 'sharp': 8113, 'architecture': 805, 'interiordesign': 4731, 'deco': 2434, 'inquiry': 4667, 'improved': 4565, 'nude': 6098, 'woke': 9739, 'sheer': 8116, 'fabled': 3307, 'passage': 6513, 'heresy': 4160, 'pathetic': 6528, 'embarrassment': 3011, 'jan': 4851, 'kathy': 4968, 'jetnil': 4873, 'impassioned': 4535, 'seth': 8069, 'meyers': 5642, 'unga': 9225, 'disney': 2712, 'significantly': 8194, 'server': 8061, 'denver': 2531, 'destructive': 2585, 'concerning': 2016, 'wuwt': 9826, '88': 299, 'thursdaythoughts': 8920, 'define': 2458, 'dig': 2635, 'describing': 2560, 'evidently': 3193, 'gove': 3833, 'curriculum': 2314, 'ermagerd': 3144, 'thre': 8897, 'rad': 7237, 'obstructive': 6168, 'enter': 3092, '5th': 261, '7th': 290, 'ideology': 4459, 'countering': 2194, 'mode': 5751, 'shri': 8166, 'grateful': 3871, 'clarity': 1805, 'minnesota': 5698, 'rebuttal': 7366, 'forth': 3563, 'wp': 9800, 'apa': 753, 'makin': 5450, 'efek': 2960, 'benjamin': 1182, 'equator': 3132, 'donthecon': 2793, 'magic': 5418, 'worldenvironmentday': 9763, 'greening': 3886, 'americaâ': 676, 'darwin': 2367, 'management': 5475, 'unfao': 9218, 'naive': 5873, 'fisherman': 3469, '59': 258, 'appalling': 761, 'stepped': 8497, 'ye': 9862, 'honduras': 4276, '1996': 110, 'inã': 4782, 'fahrenheit': 3322, 'biafra': 1211, 'agreeing': 534, 'sneak': 8293, 'peek': 6573, 'whatsoever': 9651, 'pointing': 6807, 'frost': 3630, 'montana': 5775, 'scarf': 7869, 'qualified': 7184, 'outdated': 6340, 'disprove': 2720, 'box': 1386, 'aide': 557, 'margin': 5511, 'ecology': 2937, 'brief': 1432, 'introduce': 4748, 'dual': 2872, 'letting': 5173, 'governing': 3837, 'mansion': 5492, 'leã': 5182, '85': 297, 'fuckery': 3646, 'tom': 8970, 'friedman': 3617, 'heartland': 4119, 'iccc': 4433, 'punxsutawney': 7154, 'phil': 6670, 'regime': 7448, 'veteran': 9392, 'unnatural': 9259, 'neutrality': 5943, 'milk': 5674, 'birther': 1267, 'illness': 4497, 'defence': 2444, 'favourite': 3385, 'played': 6769, 'skunk': 8240, '2013': 136, 'staffed': 8436, 'serial': 8053, 'burden': 1496, 'irmahurricane2017': 4796, 'moreâ': 5788, 'weaken': 9602, 'programme': 7049, 'envoy': 3116, 'objective': 6150, 'thx': 8923, 'sauce': 7827, 'supervillain': 8634, 'gift': 3761, 'threw': 8905, 'thereã': 8866, 'creationist': 2236, 'ugh': 9161, 'overlook': 6376, 'curtail': 2316, 'rating': 7307, 'comparison': 1983, 'maximum': 5555, 'afraid': 504, 'hostility': 4317, 'workplace': 9760, 'controlling': 2126, 'confuses': 2049, 'anger': 705, 'airpollution': 571, 'inform': 4641, 'incoming': 4589, 'cheap': 1715, 'estimate': 3164, 'gdp': 3716, 'loan': 5289, 'havoc': 4080, 'involving': 4780, 'flint': 3495, 'rev': 7627, 'refers': 7421, 'larger': 5080, 'obstacle': 6164, 'overview': 6386, 'takeaway': 8734, 'symposium': 8710, 'globalnews': 3785, 'dismantled': 2705, 'bollock': 1346, 'jill': 4885, 'stein': 8492, 'noam': 6015, 'steve': 8501, 'bannon': 1042, 'pine': 6716, 'app': 760, 'akkadian': 585, 'empire': 3033, '93': 305, 'everglades': 3187, 'hurricaneã': 4391, 'earthhouruk': 2915, 'propagandist': 7070, 'nrdc': 6087, 'statoil': 8477, 'cleanenergy': 1814, 'rank': 7285, 'fort': 3562, 'mcmurray': 5568, 'harassment': 4024, 'barackobama': 1045, 'streaming': 8539, 'discover': 2684, 'habit': 3948, 'retweeting': 7622, 'odds': 6192, 'minority': 5700, '2a': 192, '¾à': 9923, 'ªà': 9917, '¹à': 9920, '²à': 9918, 'šà': 9981, 'dismantling': 2707, 'preaching': 6921, 'plate': 6764, 'paid': 6426, 'barrow': 1056, 'brit': 1445, 'slash': 8246, 'node': 6020, 'atop': 909, 'tick': 8928, 'ramification': 7270, 'artificial': 853, 'readying': 7329, 'troop': 9083, 'waâ': 9599, 'register': 7451, 'guard': 3920, 'pictureâ': 6704, 'slip': 8260, 'stable': 8432, 'disbanded': 2678, 'reaction': 7322, 'je': 4859, 'shoutout': 8155, 'ramaphosa': 7268, 'drowns': 2863, 'plea': 6775, 'msnbc': 5823, 'ummm': 9174, 'pop': 6857, 'pol': 6813, 'harris': 4046, 'waking': 9513, 'built': 1480, 'selected': 8009, 'transiã': 9039, 'voyage': 9485, 'warmth': 9555, 'malawi': 5457, 'explores': 3270, 'difficult': 2634, 'modeling': 5753, 'attendee': 920, 'abouâ': 345, 'collusion': 1929, 'wouldnt': 9791, 'bid': 1217, 'implementation': 4547, 'poisoning': 6811, 'châ': 1779, 'outright': 6358, 'censorship': 1662, 'intimidation': 4745, 'inventor': 4760, 'indication': 4614, 'famous': 3349, 'hammered': 3988, 'secure': 7991, 'inspiring': 4686, 'pandey': 6458, 'lloyd': 5279, 'divest': 2745, 'scrap': 7934, 'creature': 2240, 'targeted': 8754, 'compromise': 2003, 'ethiopia': 3172, 'glâ': 3795, 'creeping': 2248, 'acia': 405, 'cliâ': 1874, 'photography': 6687, 'glassy': 3772, 'eyed': 3305, 'cultist': 2299, 'jewish': 4876, 'mafia': 5412, 'rwanda': 7761, 'salad': 7787, 'behold': 1147, 'jupiter': 4945, 'inability': 4573, 'schneiderman': 7883, 'probe': 7020, 'het': 4168, 'hun': 4374, 'davos2018': 2381, 'globalisation': 3779, 'pining': 6717, 'vic': 9398, 'strengthen': 8542, 'ev': 3179, 'connecting': 2062, 'dot': 2804, 'fifth': 3429, 'leveling': 5177, 'nbc': 5899, 'cosproject': 2178, 'marklevin': 5521, 'tcotâ': 8769, 'tapped': 8750, 'defy': 2468, 'severely': 8077, 'entered': 3093, 'password': 6520, 'profile': 7043, 'kate': 4965, 'mackenzie': 5403, 'comeback': 1949, 'mit': 5726, 'credential': 2243, 'amreading': 682, 'conventional': 2131, 'royal': 7732, 'dwarfing': 2895, 'sundance': 8625, 'typical': 9149, 'lousy': 5351, 'critic': 2258, 'erratic': 3148, 'limo': 5235, 'fema': 3411, 'semua': 8022, 'playwright': 6774, 'tempered': 8803, 'rage': 7243, 'id': 4447, 'riâ': 7688, 'fiorina': 3462, 'owns': 6399, 'boiling': 1340, 'highes': 4186, 'obsessed': 6161, 'permission': 6623, 'livemint': 5272, 'yell': 9870, 'buffoon': 1475, 'wouldnâ': 9792, 'round': 7725, 'holyrood': 4260, 'exiting': 3235, 'conditioned': 2029, 'sierra': 8184, 'avian': 960, 'flu': 3512, 'accurately': 395, 'ngl': 5971, 'climatevoter': 1859, 'recognized': 7386, 'reflecting': 7423, 'reformã': 7429, 'prã': 7117, 'disclosure': 2682, 'announces': 718, 'manipulate': 5483, 'youã': 9896, 'miranda': 5706, 'bdcnews': 1101, 'fooled': 3534, 'backyard': 996, 'kit': 5013, 'være': 9493, 'ja': 4840, '600': 266, 'paterson': 6526, 'accepting': 377, 'naked': 5874, 'prefer': 6935, 'soy': 8366, 'outlining': 6347, 'madagascar': 5408, 'shrink': 8168, 'cnet': 1893, 'argentina': 814, 'proved': 7102, 'device': 2603, 'designed': 2567, 'deceived': 2413, 'pundit': 7150, 'parsing': 6497, 'loose': 5332, 'dummy': 2879, 'irrigation': 4805, 'hahaha': 3959, 'battering': 1082, 'brazil': 1402, 'occurâ': 6181, 'alley': 637, 'kyle': 5041, 'road': 7691, 'remote': 7508, 'œi': 9960, 'parallel': 6474, 'ableg': 332, 'defra': 2464, 'dawn': 2383, 'retaliated': 7607, '84': 296, 'contrast': 2116, 'onshore': 6246, 'collectively': 1927, 'timing': 8945, 'dã': 2902, 'appointing': 777, 'ramsey': 7275, '45': 235, '2019': 143, 'हद': 9990, 'carbondioxide': 1594, 'harrington': 4045, 'pocket': 6799, 'resultant': 7603, 'introducing': 4751, 'concede': 2007, 'singlehandedly': 8213, 'cabal': 1537, 'extend': 3282, 'dana': 2354, 'nuccitelli': 6095, 'linear': 5240, 'withâ': 9727, 'counting': 2196, 'cull': 2296, '20th': 158, 'opwhales': 6287, 'hr': 4336, 'queen': 7194, 'hurricaneharvey': 4388, 'risen': 7683, 'envir': 3105, 'degradation': 2471, 'esp': 3153, 'visitor': 9444, 'buhari': 1477, 'peoã': 6602, 'grassroots': 3870, 'sh': 8092, 'metal': 5630, 'womenâ': 9744, 'volcanic': 9467, 'wyd': 9832, 'communist': 1975, 'shellknew': 8121, 'emerges': 3019, 'observation': 6156, 'looked': 5323, 'holocene': 4257, 'c02': 1532, 'cuffing': 2294, 'earthtoparis': 2918, 'sustained': 8676, 'incompatible': 4590, 'original': 6308, 'metaphor': 5631, 'sixth': 8223, 'attributing': 928, 'applause': 768, 'milestone': 5671, '202': 144, '564': 255, '4700': 238, 'guru': 3938, 'throwing': 8913, 'effected': 2962, 'smartest': 8276, 'diwali': 2752, 'hindu': 4207, 'depleted': 2542, 'âž': 9935, 'damned': 2351, 'dent': 2530, 'regulating': 7460, 'disappears': 2673, 'fanart': 3351, 'lad': 5052, 'letâ': 5175, 'sdg13': 7956, 'hypnotizing': 4415, 'animation': 711, 'vile': 9417, 'undeniable': 9190, '79': 289, 'survivor': 8669, 'psychiatrist': 7120, 'efficiently': 2968, 'thrown': 8914, 'stagnant': 8440, 'haã': 4094, 'substantive': 8587, 'integrated': 4706, 'iams': 4429, 'hamont': 3990, '22nd': 169, 'raging': 7244, 'diverse': 2742, 'walkable': 9521, 'wasteland': 9578, 'wire': 9710, 'lrt': 5366, 'sarah': 7818, 'sight': 8186, 'grilling': 3897, 'spends': 8391, 'peer': 6575, 'flawed': 3488, 'dea': 2386, 'universal': 9249, 'medicine': 5584, 'scichat': 7895, 'buâ': 1525, 'moody': 5780, 'fleet': 3492, 'inspires': 4685, 'climatechangehoax': 1840, 'vodka': 9462, 'sheet': 8117, 'intforestday': 4743, 'pilipinasdebates2016': 6712, 'owen': 6394, 'harrowing': 4047, 'youre': 9889, 'trash': 9048, 'cnnbrk': 1895, 'oilâ': 6220, 'foâ': 3581, 'aimed': 561, '500k': 247, '21st': 163, 'orwell': 6314, 'impending': 4540, 'prospect': 7085, 'gathering': 3711, 'contrarian': 2114, 'flaw': 3487, 'enormous': 3085, 'commonwealth': 1969, 'lame': 5066, 'yã': 9903, 'eating': 2928, 'blood': 1319, 'regressive': 7454, 'foodsecurity': 3532, 'peril': 6613, 'disruption': 2729, 'division': 2751, 'dick': 2617, 'kanye': 4957, 'solidarity': 8328, 'colleague': 1923, 'recommend': 7388, 'hater': 4067, 'drown': 2860, 'tripled': 9080, 'spike': 8395, 'lee': 5137, 'tbt': 8767, 'possibility': 6878, 'chã': 1780, 'frightened': 3620, 'forgot': 3555, 'cell': 1657, 'italy': 4828, 'enhanced': 3080, 'boon': 1360, 'dt': 2870, 'ainâ': 564, 'geographyteacher': 3743, 'moana': 5743, 'accelerates': 369, 'yosemite': 9886, 'punishing': 7152, 'tariff': 8755, 'huffpostpol': 4354, 'kn': 5017, 'drone': 2854, 'restoration': 7595, 'gaia': 3690, 'environmentalism': 3110, 'noon': 6039, 'amy': 683, 'est': 3159, 'noâ': 6082, 'savage': 7830, 'brighton': 1437, 'percentage': 6606, 'demonic': 2509, '68': 275, 'harpersindex': 4043, '352': 218, 'allâ': 646, 'purpose': 7164, 'terâ': 8821, 'nino': 5999, 'dice': 2616, 'futurism': 3676, 'intensify': 4719, 'wired': 9711, 'whack': 9646, 'reboot': 7358, 'whatâ': 9652, 'instinct': 4694, 'react': 7321, 'solid': 8327, 'extremist': 3298, 'multiple': 5834, 'divert': 2744, 'biologically': 1251, 'male': 5461, 'sheâ': 8124, 'salesman': 7789, 'crushing': 2281, 'trumprussia': 9102, 'bored': 1367, 'astounding': 892, 'visa': 9437, 'islander': 4814, 'rockefeller': 7702, 'seafood': 7962, 'marrakech': 5522, 'responded': 7584, 'whitehouse': 9669, 'filled': 3439, 'grandchilã': 3856, 'watchdog': 9582, 'vlad': 9457, 'sponsor': 8409, 'drawing': 2837, 'ourâ': 6333, 'ma': 5397, 'malala': 5454, 'hindi': 4206, 'tayo': 8765, 'pero': 6626, 'elephant': 2990, 'orbit': 6289, 'belive': 1165, 'å¾â': 9940, 'warms': 9554, 'millennials': 5676, 'bothered': 1377, '1912': 79, 'piersmorgan': 6708, 'jr': 4928, '1o5c': 118, 'divestment': 2746, 'mobility': 5747, 'gummer': 3934, 'kept': 4984, 'atâ': 929, 'rebecca': 7354, 'exaggerate': 3205, 'accomplish': 385, 'chronicle': 1773, 'mobilize': 5748, 'peoplesclimate': 6599, 'govern': 3835, 'manifesto': 5481, '55': 253, 'tough': 8995, 'confronts': 2046, 'accidentally': 384, 'campaigning': 1566, 'ideal': 4451, 'bouncing': 1381, 'hick': 4179, 'playground': 6771, 'reforming': 7428, 'hailing': 3969, 'abolishes': 337, '1905': 77, 'rice': 7655, 'monkey': 5772, 'infographics': 4640, 'geoff': 3739, 'whew': 9657, 'cuba': 2291, 'castro': 1621, '34': 216, 'acidification': 407, 'capitalismâ': 1586, 'indy': 4626, 'thinker': 8881, 'defund': 2465, 'paragraph': 6473, 'defined': 2459, 'pearson': 6562, 'experienced': 3250, 'follows': 3529, 'scienceã': 7905, 'texan': 8826, 'immunity': 4527, 'faced': 3311, 'regulatory': 7463, 'hbo': 4095, 'preaches': 6920, 'altar': 654, 'ryan': 7762, 'newsã': 5961, 'singapore': 8209, 'ash': 859, 'sexism': 8081, 'disbelief': 2680, 'shorter': 8149, 'obamas': 6144, 'shamelessly': 8104, 'climatescam': 1856, 'greenscam': 3891, 'battered': 1081, 'passport': 6519, 'pudding': 7137, 'pronounced': 7067, 'projection': 7054, 'mutant': 5856, 'transgender': 9036, 'punishment': 7153, 'accountant': 392, 'adult': 475, 'understatement': 9202, 'triggered': 9075, 'spy': 8425, '1988': 103, 'marked': 5518, 'empowering': 3041, 'lago': 5056, 'submerged': 8579, 'bharat': 1206, 'jointly': 4905, 'gearing': 3718, 'unâ': 9291, 'actively': 423, 'adm': 460, 'livestreaming': 5276, 'airport': 572, 'isolated': 4818, 'imbecile': 4513, 'dismissed': 2709, 'keen': 4972, 'medicare': 5583, 'ausvotes': 942, 'gettin': 3753, 'remarkable': 7497, 'cod': 1908, 'subscription': 8582, 'introduces': 4750, 'asthma': 891, 'kook': 5034, 'hispanic': 4215, 'alarmed': 591, 'periscope': 6616, 'cambodia': 1558, 'pessimistic': 6652, 'legend': 5147, 'sabotage': 7767, 'roman': 7713, 'istanbul': 4824, 'algore': 615, 'occurred': 6177, 'af1': 492, 'gallon': 3695, 'warmin': 9547, 'baked': 1015, 'marijuana': 5514, 'bother': 1376, 'realizing': 7343, 'brewing': 1426, 'patch': 6525, 'sweet': 8694, 'corn': 2164, 'tomato': 8971, 'jus': 4947, 'lit': 5257, 'vaccination': 9341, 'reminds': 7507, 'luthor': 5386, 'versus': 9389, 'allows': 643, 'sayin': 7844, '10c': 29, 'trevor': 9066, 'ti': 8926, 'alleged': 630, 'washpost': 9572, 'reckless': 7379, 'swear': 8686, '63': 269, 'triggering': 9076, 'avalanche': 955, 'army': 829, 'bruce': 1461, '2007': 130, 'landmark': 5071, 'tru': 9089, '地球温暖化': 9996, 'kyoto': 5043, 'nothin': 6061, '2003': 126, 'nã': 6135, 'heaviest': 4129, 'september': 8048, 'wishing': 9716, 'jeremy': 4866, 'corbyn': 2161, 'accuses': 399, 'atlantic': 903, 'willâ': 9696, 'lining': 5241, 'gloom': 3791, 'gr8': 3844, 'suppose': 8641, 'flatulent': 3485, 'shellfish': 8120, 'thanã': 8842, 'glimpse': 3773, 'realism': 7337, 'vanguard': 9354, 'emits': 3023, '72': 282, 'flip': 3496, 'flop': 3504, 'carry': 1613, 'isnã': 4817, 'brave': 1400, 'mtg': 5825, 'kidding': 4998, 'ff': 3420, 'lessen': 5165, 'inspire': 4683, 'exercise': 3226, 'negatively': 5920, 'monbiot': 5764, 'nihilism': 5995, 'quarter': 7189, 'punished': 7151, 'bumpy': 1493, 'admitting': 469, 'breed': 1420, 'shortly': 8150, 'manipulating': 5485, 'priebus': 6988, 'default': 2441, 'bunk': 1495, 'stem': 8494, 'arrest': 835, 'wiped': 9708, 'exo': 3236, 'spray': 8417, 'investigate': 4764, 'waterfront': 9588, 'immensely': 4521, 'untouched': 9282, 'rajendra': 7262, 'goldman': 3809, 'defender': 2448, 'chancellor': 1689, 'widely': 9679, 'thunderstorm': 8918, 'imposed': 4560, 'quora': 7220, 'advocating': 487, 'niece': 5983, 'kindergarten': 5008, 'allergy': 635, 'sufferer': 8606, 'drain': 2829, 'merica': 5621, 'combine': 1946, 'peopl': 6597, 'massachusetts': 5538, 'sayâ': 7847, 'tag': 8728, 'questionnaire': 7205, 'seriou': 8055, 'pollutiã': 6845, 'intergovernmental': 4729, 'restricting': 7600, 'warfare': 9541, 'ordinary': 6296, 'kansa': 4955, 'discourse': 2683, 'mere': 5619, 'detrimental': 2591, 'notched': 6058, 'payette': 6546, 'moderate': 5755, 'sab': 7766, 'delegate': 2478, 'unusual': 9284, 'melted': 5600, 'i_speak_python': 4426, 'autism': 947, 'produced': 7032, 'consumed': 2090, 'climatologist': 1863, 'generated': 3726, 'oates': 6139, 'safely': 7779, 'waited': 9507, 'liberty': 5201, 'dvd': 2892, 'screening': 7941, 'microwave': 5654, 'guilty': 3931, 'cognitive': 1911, 'blindness': 1308, '66': 273, 'farmersâ': 3361, 'leopard': 5163, 'sensible': 8035, 'neutral': 5942, 'willful': 9691, 'guidance': 3926, 'hasnâ': 4059, 'adapted': 440, 'salon': 7793, 'explainer': 3257, 'archaeologist': 801, 'predator': 6926, 'climb': 1867, 'submit': 8580, 'oversaw': 6381, 'agenda21': 522, 'su': 8576, 'burger': 1498, 'briefly': 1434, 'newsroom': 5958, 'rallying': 7265, 'securing': 7992, 'eliminating': 2994, 'pp': 6904, 'dapl': 2361, 'sensanders': 8032, 'previous': 6979, 'ngo': 5972, 'nigerian': 5987, 'leverage': 5179, 'mcdonald': 5564, 'strongest': 8556, 'climateofhope': 1852, 'hauchard': 4070, 'pleasure': 6779, 'worldgovsummit': 9764, 'overdue': 6371, 'canyon': 1579, 'cpp': 2216, 'erasing': 3142, 'curve': 2317, 'properly': 7072, 'resourceful': 7580, 'xmas': 9846, 'cnnmoney': 1896, 'frog': 3627, 'defends': 2450, 'august': 935, 'deluge': 2494, 'extended': 3283, 'lukacs': 5376, 'misled': 5712, 'rebekah': 7355, 'standupforscience': 8450, 'harvard': 4055, 'pauline': 6539, 'hanson': 4009, 'bow': 1384, 'fallout': 3341, 'boulder': 1380, 'colombia': 1930, 'environmentalâ': 3113, 'scourge': 7931, 'genuine': 3735, 'mate': 5543, 'kicking': 4996, 'angel': 702, 'bolster': 1347, 'ill': 4492, 'visualize': 9448, 'loom': 5326, 'premature': 6940, 'attendance': 918, '165': 61, '068': 12, 'perk': 6618, 'nov': 6072, '00pm': 4, 'pinned': 6719, '98': 310, 'az': 981, 'unqualified': 9267, 'eloquent': 3001, 'protected': 7089, 'warrior': 9564, 'murdering': 5844, 'citi': 1789, 'assumption': 888, 'ardent': 808, 'bros': 1457, 'scapegoat': 7863, 'turkey': 9129, 'mainer': 5431, 'beloved': 1169, 'shrimp': 8167, 'ole': 6228, 'crook': 2269, 'prevention': 6976, 'prized': 7012, 'mnn': 5741, 'inferno': 4631, 'gross': 3902, 'nova': 6073, 'occurring': 6179, 'schooling': 7889, 'grail': 3853, 'mightâ': 5661, 'jail': 4846, 'malley': 5464, 'women4climate': 9742, 'ou': 6327, 'desperately': 2574, 'quantify': 7186, 'younger': 9888, 'alex': 610, 'offense': 6196, 'rudd': 7738, 'pell': 6578, 'appropriate': 784, 'clâ': 1891, 'league': 5122, 'slew': 8255, 'developer': 2600, 'ministerial': 5695, 'eve': 3183, 'jon': 4911, 'disproves': 2722, 'assad': 872, 'christiana': 1768, 'surprisingly': 8658, 'quindi': 7213, 'cui': 2295, 'uã': 9338, 'devastation': 2597, 'withholding': 9724, 'mantle': 5493, 'intensified': 4717, 'dupdeal': 2886, 'utility': 9330, 'homeowner': 4267, '49': 240, 'pe': 6555, 'sensitivity': 8037, '29th': 191, 'calculate': 1545, 'familiar': 3346, 'tennessee': 8808, 'rome': 7714, 'offering': 6200, 'aftâ': 510, 'arabia': 798, 'tune': 9123, 'jam': 4848, 'saturn': 7826, 'wanker': 9532, 'bizarre': 1283, 'refreeze': 7431, 'searching': 7967, 'bigfoot': 1221, 'subtle': 8588, 'defendclimate': 2446, 'wrecking': 9809, 'wrecked': 9808, 'oy': 6405, 'basta': 1073, 'hyperbole': 4412, 'saveoursoil': 7837, 'climatechangeshealth': 1842, 'hng': 4235, 'bombshell': 1351, 'pandemic': 6457, 'slashing': 8247, 'quits': 7217, 'yay': 9861, 'está': 3166, 'lucha': 5370, 'contra': 2111, 'relative': 7479, '87': 298, 'crony': 2268, 'sacred': 7771, '000s': 2, 'carl': 1607, 'pale': 6443, 'ratify': 7306, 'peter': 6658, 'criticises': 2262, 'typhoon': 9148, 'passionate': 6518, 'appoint': 774, 'secretariat': 7982, 'prior': 7000, 'indirectly': 4617, 'resurrecting': 7606, 'worâ': 9789, 'bull': 1482, 'ripped': 7680, 'crater': 2227, 'kiss': 5012, 'adam': 436, 'mil': 5667, 'vowed': 9481, 'rte': 7734, 'represents': 7547, 'defiantly': 2454, 'hiroshima': 4214, 'hardy': 4032, 'solely': 8326, 'brutal': 1464, 'darth': 2366, 'vader': 9343, 'restore': 7596, 'pathogen': 6529, 'proliferation': 7055, 'glacial': 3768, 'lion': 5245, 'hatred': 4069, 'nightâ': 5992, 'donation': 2787, 'unseat': 9276, 'bravo': 1401, 'spouting': 8416, 'somethin': 8339, 'variable': 9360, 'complexity': 1997, 'extra': 3292, 'winger': 9703, 'witchcraft': 9719, 'buries': 1500, 'ken': 4979, 'hempleman': 4151, 'futurâ': 3677, 'genetic': 3731, 'dodge': 2765, 'luther': 5384, 'naacp': 5867, 'zinke': 9913, 'preparation': 6944, 'defiant': 2453, 'goodness': 3818, 'pullout': 7143, 'lab': 5046, 'phytoplankton': 6696, 'offã': 6210, 'porn': 6865, 'debut': 2408, 'monitoring': 5771, 'reportedly': 7540, 'branson': 1399, 'erase': 3140, 'tim': 8940, 'oak': 6136, 'bikin': 1230, 'besar': 1190, 'participant': 6498, 'honoured': 4286, 'waffle': 9501, 'lobbyis': 5292, 'fighter': 3431, 'vía': 9494, 'restores': 7597, 'cali': 1549, 'sicker': 8182, 'depleting': 2543, 'morâ': 5797, 'eyebrow': 3304, 'mein': 5593, 'aloo': 649, 'identify': 4455, 'probablyvote': 7019, 'cal': 1543, 'insecurity': 4672, 'brett': 1424, 'brook': 1455, 'decides': 2420, '1778': 66, 'blessed': 1303, 'froze': 3632, 'minor': 5699, 'rose': 7721, 'hurricaineirma': 4385, 'behave': 1142, 'fueling': 3651, 'polling': 6835, 'gl': 3767, 'nh': 5973, 'rabid': 7229, 'cpc': 2214, 'convo': 2138, 'boycott': 1388, 'pride': 6987, 'dictate': 2618, 'ugliest': 9162, 'immoral': 4525, 'landed': 5069, 'pam': 6451, 'inadequate': 4576, 'iowa': 4784, 'entrepreneur': 3101, 'repetition': 7531, 'symptom': 8711, 'levelâ': 5178, 'modelling': 5754, 'featuring': 3395, 'handling': 4002, 'fuelling': 3653, 'mckibben': 5566, 'haha': 3958, 'narrative': 5881, 'nepal': 5932, 'vocal': 9461, 'greenpartyus': 3889, 'ourrevolution': 6330, 'itsinourhands': 4830, 'opportunist': 6272, 'pant': 6463, 'diversity': 2743, 'jack': 4841, 'petrol': 6660, 'birth': 1265, 'ups': 9302, 'uâ': 9337, 'coworkers': 2209, 'stevie': 8504, 'blind': 1306, 'unintelligent': 9235, 'unexpectedly': 9216, 'arsenal': 842, 'preview': 6978, 'solvable': 8330, 'valuable': 9350, 'setback': 8068, 'netflix': 5938, 'backlash': 993, 'blocked': 1314, 'bb4sp': 1089, 'july': 4939, 'campbell': 1567, 'criticized': 2265, 'moâ': 5815, 'updating': 9295, 'realising': 7336, 'orwellian': 6315, 'bully': 1490, 'wako': 9514, 'convenient': 2129, 'extraordinary': 3294, 'reaâ': 7353, 'wreaking': 9805, 'businessman': 1514, 'favour': 3384, 'repeal': 7524, 'wonderful': 9746, 'senile': 8029, 'decimated': 2422, 'likelihood': 5227, 'shoved': 8156, 'throat': 8910, 'enhance': 3079, 'broad': 1449, 'assignment': 880, 'philly': 6677, 'hague': 3957, 'dinos': 2645, 'heatwave': 4125, 'trum': 9094, 'persecuted': 6632, 'station': 8474, 'abolish': 336, 'unveils': 9288, 'ûœ': 9957, 'ùˆ': 9956, 'øœ': 9955, 'butt': 1518, 'watershed': 9589, 'verified': 9385, 'nick': 5979, 'nonexistent': 6032, 'tribe': 9069, 'construct': 2085, 'hoaxer': 4239, 'loved': 5353, 'nowadays': 6078, 'sfgate': 8090, 'ludicrous': 5374, 'dumped': 2881, 'milan': 5668, 'evangelical': 3180, 'assessing': 876, 'funniest': 3668, 'undermine': 9195, 'oxfam': 6401, 'sturgeon': 8574, 'dissent': 2730, 'doctrine': 2760, 'advised': 481, 'accomplishment': 386, 'conã': 2141, 'hamburg': 3984, 'accountability': 390, 'beingâ': 1150, 'albany': 599, 'mckenna': 5565, 'ian': 4431, 'potato': 6890, 'vid': 9407, 'ph': 6665, 'echo': 2932, 'havenã': 4078, 'traction': 9014, 'mulcair': 5829, 'hw': 4400, 'someã': 8340, 'spinning': 8398, 'masked': 5536, 'deceptively': 2417, 'pissing': 6727, 'belgium': 1157, 'brussels': 1463, 'scatter': 7873, 'appâ': 792, 'album': 603, 'pitbull': 6728, 'communism': 1974, 'whaling': 9648, 'historian': 4218, 'reflection': 7424, 'privilege': 7010, 'ravage': 7311, 'prosperity': 7086, '56': 254, 'wrt': 9820, 'connect': 2060, 'nj': 6009, 'howâ': 4333, 'beã': 1205, 'variation': 9361, 'impeding': 4539, 'lawrence': 5105, 'outreach': 6357, 'horribly': 4304, 'ƒæ': 9986, 'åœ': 9941, 'christianity': 1769, 'confidence': 2035, 'tragedy': 9022, 'dodged': 2766, 'maâ': 5561, 'dial': 2612, 'imperils': 4543, 'caution': 1638, 'establish': 3160, 'stare': 8453, 'vitally': 9452, 'preserve': 6957, 'astronomy': 896, 'inaccurate': 4574, 'embarks': 3008, 'shaking': 8096, 'flea': 3489, 'abo': 334, 'perpetuated': 6629, 'purged': 7163, 'rarely': 7300, 'crooked': 2270, 'libtard': 5204, 'emphasized': 3032, 'downfall': 2814, 'libtards': 5205, 'axis': 978, 'vape': 9358, 'goin': 3805, 'puppet': 7156, 'chilly': 1747, 'obamaâ': 6145, 'missoulian': 5723, 'shore': 8143, 'circus': 1785, 'theguardian': 8854, 'portland': 6869, 'ccl': 1646, 'forming': 3561, 'hearted': 4116, 'puffin': 7139, 'rely': 7493, 'employ': 3035, '260': 184, 'socialist': 8313, 'grave': 3872, 'achievement': 403, 'gordon': 3826, 'mick': 5650, 'christopher': 1771, 'hastily': 4060, 'receipt': 7370, 'fat': 3372, 'pollinator': 6834, 'jane': 4852, 'rearrange': 7347, 'slime': 8259, 'meã': 5643, 'sids': 8183, 'lng': 5284, 'thaw': 8847, 'gunna': 3936, 'hotspot': 4323, 'unep': 9212, 'nsidc': 6089, 'demsinphilly': 2513, 'fucker': 3645, 'tesla': 8822, 'pool': 6851, 'relieve': 7488, 'deployment': 2545, 'import': 4556, 'timeline': 8943, 'fundamentalist': 3663, 'defended': 2447, 'njb': 6010, 'unleash': 9254, 'infrastã': 4646, 'rec': 7367, 'stranger': 8534, 'novelist': 6075, 'reckon': 7380, 'pompeo': 6847, 'refusal': 7435, 'sciencenotsilence': 7903, 'notch': 6057, 'arrive': 837, 'adani': 437, 'diplomatic': 2651, 'hanging': 4005, 'promiscuous': 7057, 'piante': 6697, 'mali': 5462, 'edinburgh': 2948, 'opioid': 6269, 'governmentâ': 3839, 'distribution': 2737, 'norwegian': 6051, 'galaxy': 3694, 'boil': 1339, 'pre': 6917, 'schedule': 7880, 'unites': 9246, 'ty': 9146, 'participate': 6499, 'whine': 9661, 'unpredictable': 9264, 'representation': 7544, 'caprio': 1589, 'emotion': 3028, 'nixon': 6004, 'sayã': 7848, 'rift': 7671, 'illustrated': 4501, 'master': 5541, 'humiliating': 4371, 'cwnyc': 2322, 'icecream': 4438, 'pl': 6738, 'length': 5154, 'subsidy': 8585, 'entitlement': 3100, 'store': 8524, 'neck': 5912, 'frio': 3624, 'performer': 6612, 'deg': 2470, 'palm': 6448, 'pauseã': 6541, 'ultimate': 9170, 'dissonance': 2732, 'ordinance': 6295, 'bend': 1174, 'icecap': 4437, 'fetus': 3417, 'aikomi': 559, 'stakeholder': 8443, 'stoptpp': 8522, 'bilateral': 1233, 'šã': 9982, 'promoted': 7062, 'preservation': 6956, '1pm': 119, 'deteriorating': 2587, 'devil': 2604, 'marathon': 5503, 'responding': 7585, 'msgappeals': 5819, 'breath': 1415, 'bacon': 997, 'jihadi': 4883, 'frightful': 3622, 'allan': 627, 'savory': 7841, 'mimic': 5681, 'injury': 4655, 'obe': 6146, 'iit': 4487, 'trek': 9062, 'nerd': 5934, 'examines': 3209, 'happiness': 4019, 'haiku': 3966, 'hasâ': 4061, 'transparency': 9042, 'whoâ': 9673, 'baffling': 1007, 'dera': 2554, 'lush': 5383, 'organizing': 6305, 'bucking': 1471, 'nutritional': 6113, 'assistance': 881, 'improving': 4567, 'accuse': 397, '1m': 117, 'ego': 2971, 'litter': 5266, 'jimmy': 4887, 'worldview': 9769, 'goodman': 3817, 'richer': 7658, 'congratulation': 2055, 'regular': 7457, 'viceonhbo': 9400, '196': 90, 'rightwing': 7675, 'liberation': 5199, 'interfere': 4727, 'kudos': 5038, 'suggestion': 8613, 'witness': 9729, 'employer': 3037, 'ini': 4651, 'papal': 6465, 'dod': 2764, '1860s': 72, 'magnetz': 5423, 'governance': 3836, 'arrangement': 834, 'entitled': 3099, 'libertarian': 5200, 'prot': 7087, 'heartedly': 4117, 'hydrologic': 4405, 'mk': 5736, 'obscene': 6154, 'mexican': 5640, 'computer': 2004, 'drug': 2864, 'paramount': 6476, 'bo': 1333, '58': 257, 'œitâ': 9963, 'reconsider': 7393, 'frederick_x5': 3602, 'achieved': 402, 'genocide': 3733, 'parade': 6470, 'legally': 5146, 'sum': 8618, 'johnny': 4898, 'tr': 9008, '1959': 89, 'painted': 6431, 'bar': 1043, 'predominantly': 6934, 'grandchild': 3855, 'cooper': 2148, 'sacramento': 7770, 'heck': 4132, 'modification': 5759, 'hype': 4409, 'wound': 9794, 'playlist': 6773, 'stupidest': 8572, 'penn': 6589, 'amer': 673, 'transnational': 9041, 'balloon': 1025, 'dodgy': 2767, 'outfit': 6342, 'downplaying': 2817, 'cyclical': 2326, 'fortune': 3565, 'teller': 8797, 'seatbelt': 7971, 'wholeheartedly': 9671, 'exploration': 3267, 'beetle': 1130, 'alarmis': 594, 'boot': 1364, 'hoodie': 4288, 'badass': 1000, 'quitting': 7218, 'remedy': 7499, 'œif': 9961, 'hawaiian': 4084, 'malaria': 5456, 'motherfucker': 5801, 'potent': 6891, 'enact': 3046, 'multilateral': 5832, 'whichever': 9658, 'sheriff': 8122, 'ukclimateaction': 9167, 'intensifies': 4718, 'regulrly': 7464, 'transport': 9044, 'rextillerson': 7649, 'idle': 4465, 'emitter': 3025, 'cheered': 1725, 'er': 3136, '2025': 150, 'nostradamus': 6054, 'paradise': 6471, 'easiest': 2921, 'usaid': 9315, 'bahamas': 1011, 'helpless': 4149, 'disbands': 2679, 'ranger': 7283, 'macarthur': 5400, 'kicked': 4995, 'peep': 6574, 'retuã': 7619, 'parigi': 6485, 'contro': 2123, 'vlog': 9459, 'fossilâ': 3570, 'prevail': 6972, 'parliamentary': 6495, 'consistently': 2081, 'noã': 6083, 'encourages': 3049, 'graduating': 3851, 'palestine': 6444, 'amber': 669, 'trapped': 9047, 'mag': 5413, 'item': 4829, 'ðÿž': 9954, 'umm': 9173, 'hidden': 4181, 'boat': 1335, 'electorate': 2985, 'harping': 4044, 'identified': 4453, 'nih': 5994, 'animated': 710, 'factored': 3318, 'wasnâ': 9574, 'probable': 7017, 'amplifying': 681, 'magical': 5419, 'broader': 1451, 'dimension': 2640, 'implemented': 4548, 'witnessing': 9731, 'barbuda': 1048, 'du': 2871, 'foster': 3572, '2pm': 201, 'unseasonably': 9275, 'promoter': 7063, 'booster': 1362, 'xinhua': 9842, 'passenger': 6515, 'rachel': 7231, 'freeman': 3605, 'regard': 7443, 'jackass': 4842, 'loool': 5330, 'photograph': 6684, 'stir': 8508, 'settle': 8071, 'awaiting': 966, 'delhi': 2484, 'crashing': 2226, 'biology': 1253, 'conception': 2012, 'hewan': 4169, 'purba': 7158, 'zaman': 9905, 'dinosaurus': 2647, 'bbcnews': 1092, 'prophet': 7075, 'status': 8480, 'touched': 8994, 'cba': 1642, 'hewson': 4170, 'climateoptimist': 1853, 'boring': 1368, 'centrist': 1668, 'climatã': 1865, 'vr': 9487, 'sammy': 7799, 'denounce': 2527, 'saddening': 7775, 'farting': 3364, 'poli': 6819, 'bel': 1152, 'tackled': 8724, 'enslave': 3088, 'unsung': 9280, 'krill': 5037, 'expense': 3247, 'proving': 7110, 'incredibly': 4601, 'finest': 3453, 'helpful': 4147, 'bail': 1012, 'fry': 3636, 'rabble': 7228, 'eradicate': 3138, 'biologist': 1252, 'œwith': 9976, 'sole': 8325, 'barnaby': 1052, 'smug': 8288, 'misrepresent': 5717, 'euro': 3176, '145': 53, 'freaky': 3601, 'scâ': 7953, 'acknowledgement': 412, 'ƒðÿ': 9987, 'riddled': 7665, 'ramping': 7274, 'jk': 4891, 'probs': 7023, 'yoursã': 9890, 'engineer': 3074, 'œwhat': 9975, 'doubted': 2810, 'clarifies': 1804, 'branded': 1398, 'blueprint': 1331, 'southwest': 8364, 'recall': 7368, 'unintended': 9236, 'wheel': 9655, 'enâ': 3119, 'benefitting': 1179, 'sack': 7769, 'ser': 8051, 'logo': 5306, 'serâ': 8065, 'teamed': 8777, 'assuming': 887, 'uae': 9154, 'clock': 1875, 'radar': 7238, 'rationale': 7310, 'ominous': 6236, 'worldvegandayã': 9768, 'davis': 2379, 'fbi': 3387, 'nsa': 6088, 'spying': 8426, 'tundra': 9122, 'yearly': 9866, 'ali': 616, 'bedford': 1122, 'parisattacks': 6489, 'crock': 2267, 'antelope': 734, 'mary': 5532, 'steady': 8485, 'everyâ': 3191, 'rampage': 7272, 'upcoming': 9292, 'refusing': 7438, 'phillips': 6676, 'prank': 6913, 'seller': 8016, 'clown': 1887, 'hydrofluorocarbon': 4404, 'humble': 4368, 'bec': 1116, '22m': 168, 'cit': 1786, 'goreeffect': 3828, 'cruel': 2276, 'palmoil': 6450, 'brisbane': 1444, 'aged': 517, 'enrich': 3087, 'goodall': 3815, 'whistleblower': 9667, 'magnitude': 5424, 'meteorite': 5632, 'borne': 1371, 'niã': 6005, 'approaching': 783, 'racket': 7236, 'kelp': 4978, 'climatehope': 1848, 'lighter': 5221, 'retired': 7611, 'filmmaker': 3442, 'odisha': 6193, 'pediatrician': 6571, 'betting': 1198, 'xkcd': 9844, 'transportation': 9045, 'oceanã': 6186, 'kennedy': 4980, 'annoyed': 719, 'rememberwhentrump': 7502, 'predictionsâ': 6932, 'bcz': 1100, 'lesbian': 5164, 'empowerment': 3042, 'rainforest': 7256, 'older': 6226, 'volunteer': 9472, 'pesky': 6651, '2plant': 200, '2save': 202, 'csg': 2284, 'desk': 2571, 'theoretical': 8859, 'latino': 5092, 'painfully': 6429, 'chairing': 1680, 'banking': 1037, 'opt': 6281, 'behavior': 1143, 'disturbing': 2738, 'atlas': 904, 'wade': 9500, '1bn': 116, 'hating': 4068, 'exception': 3214, 'louise': 5348, 'illinois': 4495, 'orthodox': 6312, 'trout': 9088, 'stunt': 8569, 'legendary': 5148, 'hawken': 4085, 'seriousness': 8057, 'politico': 6830, 'seoul': 8043, 'wisdom': 9713, 'prod': 7030, 'regenerative': 7447, 'outdoors': 6341, 'snl': 8295, 'capitol': 1588, 'calamity': 1544, 'eclipse': 2933, 'stateofclimate': 8469, 'holiness': 4251, 'attributed': 927, 'gullible': 3933, 'arrogant': 841, 'boogie': 1356, 'demonstrating': 2511, 'alle': 628, 'ein': 2974, 'paranoid': 6478, 'geopolitics': 3746, 'pursuit': 7166, 'wetland': 9641, 'sustainableâ': 8675, 'unsure': 9281, 'grill': 3895, 'caring': 1606, 'wagner': 9504, 'smartnews': 8277, 'undoing': 9207, 'anchorage': 691, 'propose': 7079, 'clothing': 1883, 'onã': 6249, 'chu': 1774, 'bates': 1077, 'spill': 8396, 'earthâ': 2919, 'magnetic': 5422, 'openingceremony': 6260, 'fiduciary': 3427, 'trustee': 9109, '80m': 293, 'reliefweb': 7487, 'scienâ': 7912, 'behaviour': 1144, 'mammal': 5470, 'wildly': 9690, 'greedy': 3882, 'decreasing': 2436, 'nonsens': 6035, 'isaac': 4806, 'oceanographic': 6184, 'recommendation': 7389, 'served': 8060, 'rational': 7309, 'exploit': 3265, 'existed': 3228, 'grizzly': 3901, 'mackerel': 5404, 'disagreement': 2667, '138': 49, 'pal': 6440, 'def': 2440, 'moved': 5811, 'thanâ': 8841, 'calgary': 1548, 'incendiary': 4579, 'illustrate': 4500, 'especialã': 3155, 'alexa': 611, 'brewer': 1425, '1900': 76, 'mandate': 5478, 'glass': 3771, 'environm': 3107, 'attempting': 915, 'virginal': 9431, 'sf': 8089, 'polarized': 6817, 'stretch': 8545, 'peninsula': 6587, 'liable': 5189, 'outta': 6363, 'ajnewsgrid': 579, 'decisive': 2425, 'quantum': 7188, 'anâ': 751, 'generally': 3724, 'questionable': 7201, 'deserved': 2564, 'operator': 6265, 'hu': 4346, 'handy': 4003, 'riveting': 7687, 'ëœbefore': 9942, 'floodã': 3502, 'screaming': 7939, 'climategate': 1847, '00': 0, 'unsc': 9274, 'raped': 7292, 'spoken': 8407, 'abou': 342, 'heal': 4103, 'ottawa': 6325, 'butã': 1521, 'notable': 6055, 'switching': 8704, 'bribe': 1429, 'arguably': 816, 'roboter': 7699, 'bedrohen': 1123, 'inferred': 4632, 'occurrence': 6178, 'reverberate': 7635, 'oceanâ': 6185, 'willfully': 9692, 'malpractice': 5467, 'crew': 2250, 'recovery': 7398, 'noticed': 6065, 'worship': 9784, 'photosynthesis': 6689, 'lettuce': 5174, 'frankly': 3595, 'sb32': 7851, 'newsâ': 5960, 'antacid': 729, 'ëœå': 9947, 'biosludge': 1256, 'statesman': 8470, 'ep': 3121, 'dailyclimate': 2340, 'ax': 977, 'supposedly': 8643, 'incorrectly': 4595, 'unusually': 9285, 'widespread': 9680, 'schoolers': 7888, 'wife': 9681, 'violation': 9426, 'constitutional': 2084, '9news': 314, 'resiliency': 7570, '106': 28, 'sciam': 7894, '20bn': 156, 'intolerance': 4746, 'plight': 6785, 'squirrel': 8428, 'wrenching': 9810, 'unhcr': 9226, 'scrapped': 7936, 'niet': 5984, 'vã': 9492, 'myanmar': 5859, 'philippe': 6673, 'confronting': 2045, 'historyâ': 4223, 'arrogance': 840, 'illiterate': 4496, 'component': 1999, 'shattered': 8114, 'mic': 5647, 'agnst': 530, 'divided': 2749, 'absolutelyâ': 355, 'afghanistan': 502, 'highland': 4188, 'jonas': 4912, 'carbonã': 1597, 'pitch': 6729, 'endorsement': 3062, 'uw': 9336, 'barron': 1055, 'nicknamed': 5980, 'scoop': 7919, 'uncertain': 9181, 'punching': 7149, 'harper': 4042, 'boris': 1369, 'obliterated': 6152, 'blah': 1290, 'disregard': 2726, 'baw': 1087, '137': 48, 'offered': 6199, 'khan': 4992, 'accident': 382, 'sacrificed': 7773, 'aborted': 340, 'praying': 6916, 'pack': 6418, 'innovate': 4661, 'htâ': 4344, 'whâ': 9675, 'coping': 2158, 'bali': 1022, 'repeating': 7529, 'foremost': 3549, 'init': 4652, 'discredit': 2687, 'abide': 329, 'becauâ': 1119, 'clue': 1889, 'upside': 9304, 'engineered': 3075, 'officeã': 6203, 'overdrive': 6370, 'aquatic': 795, 'manila': 5482, 'symbolic': 8708, '1970s': 96, 'kong': 5033, 'probing': 7021, 'prosecute': 7082, 'paxton': 6543, 'austin': 939, 'hammond': 3989, 'shutdown': 8172, 'orâ': 6316, 'poisonous': 6812, 'fog': 3523, 'clearer': 1821, 'intersect': 4737, 'amendment': 672, 'powered': 6901, 'emotional': 3029, 'hydroflask': 4403, 'skynews': 8242, 'g19': 3683, 'bolder': 1343, 'tanzania': 8747, 'weighs': 9629, 'newslytweet': 5956, 'chasing': 1711, 'loop': 5331, '2355': 172, 'palace': 6441, 'scor': 7920, 'listens': 5255, 'successful': 8593, 'reactor': 7323, 'cared': 1601, '2adopt': 193, '2stop': 203, 'whatã': 9653, 'sanction': 7802, 'planâ': 6760, 'doubtful': 2812, 'belgian': 1156, 'jumping': 4941, 'turbine': 9126, 'warrant': 9562, 'superfund': 8631, 'pollutes': 6841, 'arrival': 836, 'presidenttrump': 6964, 'scamming': 7860, 'devastated': 2595, 'extremism': 3297, 'essentially': 3158, 'disrupt': 2727, 'alec': 607, 'complaint': 1993, 'determining': 2590, 'philadelphia': 6671, 'withoutã': 9725, 'debates2016': 2399, '1billion': 115, 'saveourocean': 7836, 'agenda2030': 521, 'lasting': 5085, 'knowingly': 5024, 'yikes': 9881, 'gesture': 3752, 'ft': 3641, 'bullied': 1486, '020': 7, '38': 223, '1234': 41, 'environâ': 3114, 'dave': 2377, 'deportation': 2546, 'bot': 1375, 'reshaping': 7565, 'bumblebee': 1492, 'photographic': 6686, 'compiling': 1990, 'henchman': 4152, 'hitter': 4226, 'snp': 8307, 'happily': 4018, 'envâ': 3118, 'atm': 905, 'kp': 5036, 'republic': 7549, 'confidently': 2037, 'walked': 9522, 'vested': 9390, 'leaning': 5125, 'ruling': 7746, 'cont': 2094, 'wateâ': 9592, 'domino': 2781, 'lambie': 5065, 'factcheck': 3315, 'lin': 5236, 'worldveganday': 9767, 'bitching': 1275, 'parisclimatedeal': 6490, 'proâ': 7113, 'instance': 4691, 'babe': 987, 'mitch': 5727, 'bulletin': 1484, 'atomic': 908, 'ivory': 4836, 'steering': 8491, 'redd': 7404, 'tak': 8733, 'rethinking': 7609, 'delivered': 2489, 'ruse': 7756, 'aiding': 558, 'greener': 3884, '1850': 71, 'unstable': 9278, 'steak': 8486, 'untrue': 9283, 'sway': 8685, 'frank': 3593, 'lindsey': 5238, 'socially': 8314, 'jo': 4892, 'quantitative': 7187, 'measured': 5576, 'pri': 6982, 'bare': 1049, 'sw': 8680, 'resign': 7567, 'averted': 958, 'demtownhall': 2514, 'sensitive': 8036, 'loudly': 5346, 'bicycle': 1216, 'meaning': 5571, 'camp': 1563, 'restless': 7594, 'cancellation': 1575, 'ram': 7267, 'drilling': 2846, 'comfortable': 1952, 'persuaded': 6643, 'oilsands': 6218, 'baio': 1013, 'pat': 6523, 'chuck': 1775, 'unequivocal': 9213, 'clovis': 1886, 'background': 991, 'hunzai': 4382, 'collective': 1926, 'byã': 1529, 'dormant': 2803, 'toy': 9004, 'offshore': 6209, 'freakin': 3599, '122': 40, 'socio': 8318, 'morrison': 5796, 'penrith': 6592, 'londonattack': 5311, 'londonbridge': 5313, 'pumped': 7145, '69': 276, '19th': 112, 'fave': 3381, '39': 224, 'expectancy': 3242, 'publication': 7130, 'albert': 600, 'biochar': 1245, 'unitednations': 9245, 'histo': 4216, 'melbourne': 5596, 'relax': 7480, 'pmb': 6795, 'despot': 2576, 'uncovers': 9189, 'traveled': 9050, 'overshadowed': 6384, 'incumbent': 4604, 'desertification': 2562, 'på': 7176, 'involves': 4779, 'woolly': 9752, 'mammoth': 5471, 'vinny': 9423, 'œjersey': 9964, 'shoreâ': 8145, 'meltiã': 5602, 'ci': 1781, 'testimony': 8824, 'ellen': 2998, 'harte': 4051, 'minimal': 5688, 'incremental': 4602, 'viewed': 9412, 'lifted': 5217, 'upland': 9298, 'peat': 6565, 'pag': 6423, 'lumalala': 5378, 'hellish': 4142, 'fla': 3480, 'railing': 7251, 'undergoing': 9192, 'overwhelms': 6390, 'bolivia': 1345, '100th': 25, 'edward': 2959, 'huggin': 4357, 'hippie': 4210, 'barefoot': 1050, '630': 270, 'pleading': 6776, 'forbid': 3541, 'iceless': 4441, 'violating': 9425, 'empower': 3039, 'actio': 419, 'assure': 889, 'roundtable': 7727, 'hurry': 4392, 'xd': 9838, 'katharine': 4966, 'hayhoe': 4090, 'derides': 2557, 'helicopter': 4139, 'sciencemarch': 7902, 'seize': 8006, 'poet': 6804, 'fro': 3626, 'hv': 4399, 'pest': 6653, 'nepali': 5933, 'revolt': 7645, 'reasoning': 7350, 'praise': 6911, 'scaremongering': 7868, 'foo': 3530, 'masse': 5539, 'trending': 9065, 'hombre': 4261, 'torture': 8988, 'beâ': 1204, 'grappling': 3867, 'pittsburgh': 6730, 'youse': 9892, 'deniaã': 2522, 'debunking': 2406, 'worldpenguinday': 9766, 'formal': 3558, 'nike': 5996, 'jihad': 4882, 'collaborate': 1918, 'anyways': 749, 'alabama': 589, 'grad': 3847, 'draining': 2830, 'elxn42': 3002, 'wrath': 9803, 'pizza': 6734, 'globalcitizen': 3777, 'lo': 5286, '2040': 152, 'uniting': 9247, 'abuse': 361, 'utqiagvik': 9331, 'hoa': 4237, 'iraq': 4792, 'raw': 7314, 'unrecognizable': 9271, 'attempted': 914, 'entry': 3102, 'thirty': 8886, 'shower': 8161, 'demandã': 2501, 'harassed': 4023, 'chick': 1738, 'tytlive': 9151, 'query': 7198, 'pray': 6914, 'chang': 1690, 'cuaca': 2289, 'musim': 5852, 'dampak': 2352, 'withdraws': 9723, 'antibiotic': 741, '10yrs': 32, 'fallacy': 3338, 'hazardous': 4092, 'titled': 8955, 'streetart': 8541, 'santer': 7813, 'mekong': 5594, 'perkins': 6619, 'pair': 6433, 'ranking': 7287, 'niños': 6008, 'noting': 6066, 'pod': 6800, 'pink': 6718, 'trumpet': 9098, 'whisper': 9664, 'heartfelt': 4118, 'handinhand': 4000, 'whispering': 9665, 'farage': 3357, 'warmâ': 9556, 'alternate': 658, 'nominates': 6027, '1992': 109, 'barbie': 1047, 'climatech': 1838, 'needle': 5916, 'disputing': 2725, '20â': 159, 'uhh': 9165, 'unproven': 9266, 'joshua': 4920, 'pen': 6581, 'outlet': 6344, 'evangelicals': 3181, 'outspoken': 6361, 'bern': 1186, 'joker': 4907, 'bread': 1405, 'butter': 1519, 'forefront': 3547, 'kilimanjaro': 4999, 'pariâ': 6491, 'northeast': 6047, 'generate': 3725, 'fukushima': 3654, 'variety': 9362, 'neighbor': 5925, 'jiyong': 4890, 'outraged': 6354, 'mario': 5516, 'cleverest': 1826, 'poetry': 6805, 'delta': 2493, 'savetheepa': 7838, 'swingdist': 8700, 'incorrect': 4594, 'incorporate': 4593, 'ouâ': 6367, 'commentator': 1959, 'prioritise': 7001, 'pa15': 6413, 'art12': 847, 'acre': 415, 'overlooked': 6377, '250k': 179, 'pirate': 6724, 'climatec': 1837, 'openly': 6261, 'andã': 699, 'awkward': 976, 'yorker': 9884, 'hysterical': 4423, 'canberra': 1572, 'clim': 1831, 'referred': 7419, 'beneath': 1176, 'greatly': 3880, 'woã': 9799, 'overflow': 6374, 'whereâ': 9656, 'hampton': 3992, 'encouraging': 3050, 'bedwetter': 1124, 'agm': 528, 'particle': 6502, 'rfk': 7652, 'oi': 6216, 'waring': 9542, 'sens': 8031, 'insist': 4679, 'placed': 6740, 'satan': 7822, 'bbh': 1095, 'indonesia': 4619, 'integral': 4705, 'makeover': 5448, 'carbonfootprint': 1595, 'lowering': 5362, 'mostread': 5799, 'wcw': 9600, 'rewrote': 7647, 'slightly': 8258, 'sigh': 8185, 'trumpcare': 9097, 'outran': 6356, 'riding': 7669, 'transit': 9037, 'renewed': 7520, 'rebuilding': 7363, 'destiny': 2577, 'ventura': 9381, 'hairline': 3972, '9pm': 315, 'innovator': 4665, 'hahahaha': 3961, 'spiritual': 8401, 'warmist': 9551, 'nutshell': 6114, 'flowering': 3511, 'phenology': 6668, 'volgens': 9470, 'berg': 1183, 'joel': 4896, 'nowâ': 6081, '193': 81, '10pm': 30, 'œyou': 9977, 'reproductive': 7548, 'panelist': 6460, 'stack': 8433, 'thot': 8893, 'alleges': 632, 'neighbour': 5927, 'generator': 3730, 'monitored': 5770, 'parenting': 6483, 'nutrient': 6111, 'mall': 5463, 'hotness': 4322, 'restaurant': 7593, 'leonardodicaprio': 5161, 'hadith': 3955, 'powerbroker': 6900, 'exacerbating': 3202, 'jolt': 4909, 'climatescience': 1857, 'finkel': 3458, 'cockroach': 1906, 'menu': 5614, 'badlandsnationalpark': 1003, 'exceptional': 3215, 'hydro': 4402, 'hammer': 3987, 'conceptual': 2013, 'transparent': 9043, 'biotech': 1258, 'maize': 5440, 'valentine': 9347, 'thiâ': 8888, 'puanconference': 7127, 'neâ': 5967, 'recognition': 7384, 'biomedical': 1255, 'hadnâ': 3956, 'hrh': 4338, 'authored': 944, 'faux': 3379, 'ww3': 9828, 'pending': 6583, 'kno': 5020, 'collapsing': 1922, 'embarrassed': 3009, 'handing': 3999, 'ofã': 6212, 'upgrade': 9296, 'condom': 2032, '119': 37, 'manure': 5497, 'stored': 8525, 'conditioning': 2031, 'switched': 8703, 'pee': 6572, 'implore': 4553, 'plankton': 6752, 'classmate': 1811, 'svalbard': 8679, 'cup': 2304, 'liberallogic': 5198, 'concentrate': 2009, 'wit': 9717, 'rubbish': 7736, 'loon': 5328, 'oceanic': 6183, 'ploy': 6787, 'viewpoint': 9415, 'lowered': 5361, 'furious': 3671, 'chem': 1730, 'bash': 1066, 'praising': 6912, 'siberian': 8179, 'honoring': 4284, 'bending': 1175, 'dwarf': 2894, 'usâ': 9327, 'fkn': 3478, 'mercy': 5618, 'ecologist': 2936, 'transformation': 9033, 'verifiable': 9384, 'bearing': 1108, 'homeless': 4265, 'defied': 2456, 'nzpol': 6133, 'terrific': 8814, 'digging': 2636, 'prominent': 7056, 'schwartz': 7890, 'securiã': 7994, 'junkscience': 4944, 'roast': 7692, 'loneliness': 5316, 'cosmos': 2177, 'inquirer': 4666, 'œë': 9979, 'logan': 5302, 'decimates': 2423, 'investigating': 4766, 'scienceisreal': 7901, 'bij': 1228, 'tail': 8730, 'screenshot': 7942, 'repeated': 7527, 'perceive': 6603, 'disappointed': 2674, 'parasite': 6480, 'extension': 3286, 'historically': 4221, 'agchatoz': 515, 'beneficial': 1177, 'oblivious': 6153, 'thwarted': 8922, 'gutted': 3941, 'lone': 5315, 'joyce': 4927, 'shocker': 8137, 'magically': 5420, 'gallup': 3696, 'alexander': 612, 'payne': 6549, 'ox': 6400, 'legalization': 5145, 'xenophobia': 9839, 'disâ': 2739, 'minus': 5702, 'malta': 5468, 'impactâ': 4534, 'banker': 1036, 'ignora': 4473, 'aaaand': 318, 'auditor': 934, 'lately': 5088, 'weã': 9643, 'imp': 4529, 'žã': 9984, 'xx': 9848, 'regulate': 7459, 'unknown': 9253, 'np': 6084, 'soundcloud': 8358, 'horse': 4309, 'dah': 2337, 'mac': 5399, 'unified': 9230, 'initiated': 4653, 'sapling': 7816, 'sm': 8268, 'pearl': 6561, 'identifies': 4454, 'œone': 9966, 'subsidized': 8584, 'beast': 1109, 'harness': 4040, 'obesity': 6148, 'nonstop': 6038, 'strict': 8546, 'vagina': 9344, 'xom': 9847, 'lookã': 5325, 'quasi': 7191, 'microbial': 5652, 'sub': 8577, 'saharan': 7782, 'semitic': 8021, 'hood': 4287, 'leftâ': 5141, 'pak': 6434, 'gang': 3700, 'poo': 6850, 'œit': 9962, 'hahahahahaha': 3963, 'competent': 1986, 'passion': 6517, 'beforethefloodã': 1132, 'makeclimatematter': 5446, 'export': 3275, '12tn': 44, 'endangers': 3056, 'legislator': 5150, 'stateâ': 8472, 'leone': 5162, 'countdown': 2190, '07': 13, 'neverhillary': 5945, 'agtech': 546, 'astronomer': 895, 'ticket': 8929, 'deceitful': 2412, 'witnessed': 9730, 'queer': 7196, 'depth': 2551, 'invested': 4763, '4â': 244, 'pupil': 7155, 'cholera': 1756, 'nordhaus': 6041, 'angle': 707, 'mama': 5469, 'doodle': 2796, 'awake': 968, 'lib': 5192, 'haâ': 4093, 'expands': 3239, 'nl': 6011, 'commits': 1964, 'fume': 3656, 'struck': 8558, 'prâ': 7116, 'humid': 4369, 'aboriginal': 339, 'alot': 650, 'revealing': 7630, 'oz': 6407, 'reassuring': 7352, 'resolve': 7577, 'من': 9989, 'flavor': 3486, 'mahal': 5426, 'wala': 9516, 'rebrand': 7359, 'emerge': 3016, 'groundwater': 3908, 'jennifer': 4864, 'unnecessary': 9260, 'admission': 465, 'millennium': 5677, 'influencers': 4635, 'casino': 1619, 'pennsylvania': 6590, 'resembles': 7563, 'participation': 6501, 'burned': 1502, 'holocaust': 4256, '2x': 204, 'tougher': 8996, 'endorsing': 3064, 'ww2': 9827, 'iron': 4797, 'dumping': 2882, 'climateprogress': 1854, 'victoria': 9404, 'encroachment': 3051, 'thug': 8916, 'bound': 1382, 'boyfriend': 1389, 'hampshire': 3991, 'huma': 4361, 'sean': 7965, 'teamfollowback': 8778, 'wreck': 9807, 'practically': 6908, 'thrill': 8906, 'ultra': 9171, 'wr': 9801, 'judgement': 4933, 'ucsd': 9157, 'planetâ': 6749, 'surface': 8651, 'bacteria': 998, 'fu': 3642, 'rebranded': 7360, 'suburb': 8590, 'glow': 3793, 'libel': 5194, 'philosophical': 6678, 'knock': 5021, 'arise': 824, 'lunacy': 5379, 'ignoramus': 4474, 'robin': 7696, 'bitcoins': 1278, 'chump': 1776, 'panicking': 6462, 'moroccan': 5792, 'protects': 7093, 'cacao': 1540, 'liverpool': 5273, 'climateactionâ': 1836, 'totalitarian': 8991, 'suspected': 8671, 'eternal': 3168, 'ly': 5389, 'seine': 8004, 'malay': 5458, 'relate': 7474, 'skip': 8238, 'preached': 6919, 'articulated': 852, 'harus': 4054, 'professing': 7040, 'output': 6352, 'rightly': 7674, 'childrenâ': 1743, 'dismantles': 2706, 'presenter': 6954, 'heater': 4122, 'rajnath': 7263, 'forestry': 3551, 'ay': 979, 'benin': 1181, 'wonã': 9750, 'budget2017': 1474, 'lmaooo': 5281, 'polarbears': 6816, 'unravels': 9269, 'expects': 3245, 'marvel': 5530, 'participating': 6500, 'trafficking': 9021, 'loh': 5307, 'roof': 7717, '330m': 215, 'ran': 7276, 'surveyed': 8664, 'meaningless': 5573, 'jihadist': 4884, 'wmo': 9735, '1990s': 107, 'wsã': 9822, 'vigilant': 9416, 'consult': 2086, 'spencer': 8388, 'herpes': 4167, 'maintains': 5438, 'plutocracy': 6791, 'perkowitz': 6620, '71': 281, 'slaughter': 8248, 'webinar': 9615, 'com': 1941, 'norm': 6043, 'appreciated': 781, 'fragile': 3585, 'acceleration': 371, '5tn': 262, 'remotely': 7509, 'sorted': 8354, 'pelto': 6580, 'watercolor': 9586, 'extraction': 3293, 'sonoma': 8344, 'library': 5202, 'melissa': 5597, 'mccarthy': 5562, 'rebuff': 7361, '25yep': 182, 'chr': 1764, 'hairspray': 3973, 'laughable': 5095, 'strait': 8532, 'wednesday': 9619, 'haunting': 4073, 'privatisation': 7009, 'kenyan': 4983, 'campus': 1568, 'stewart': 8505, 'retweets': 7623, 'escalating': 3151, 'monsoon': 5773, 'dell': 2492, 'withstand': 9726, 'destru': 2583, 'granddaughter': 3857, 'rounding': 7726, 'moderator': 5756, 'burner': 1503, 'breaker': 1408, 'wrongly': 9818, 'downplays': 2818, 'chunk': 1777, 'nostalgia': 6053, 'hs2': 4339, 'più': 6736, 'hanno': 4007, 'scotlandâ': 7926, 'screen': 7940, 'grandson': 3860, 'cityconnect': 1794, 'holiday': 4250, 'lieu': 5210, 'beard': 1106, 'rebuking': 7365, 'werenâ': 9637, 'agreemâ': 537, 'longisland': 5321, 'technews': 8784, 'doâ': 2822, 'lunch': 5381, 'hook': 4289, 'promotes': 7064, 'happeâ': 4017, 'lovin': 5357, 'reliably': 7485, 'priming': 6995, 'battery': 1083, 'seekingâ': 8000, 'vo': 9460, 'vicki': 9402, 'cobb': 1905, 'cheeseburger': 1727, 'paranormal': 6479, 'onpoli': 6245, 'abpoli': 346, 'bigly': 1224, 'evolving': 3197, 'opinionã': 6268, 'dating': 2375, 'negligence': 5922, 'strongertogether': 8555, 'mumbai': 5837, 'notmeus': 6069, 'resistant': 7574, 'coã': 2213, 'listing': 5256, 'battled': 1085, 'thesis': 8870, 'guarantee': 3918, 'rude': 7739, 'histor': 4217, 'iamwithher': 4430, 'hurtling': 4395, 'volatile': 9466, 'prioritizes': 7004, 'dominance': 2778, 'sealed': 7964, 'tunnel': 9125, 'œno': 9965, 'sexuality': 8084, 'decimate': 2421, 'delivering': 2490, 'ding': 2642, 'donghyuk': 2788, 'horseman': 4310, 'fundamentalism': 3662, 'cu': 2288, 'bio': 1244, 'inmate': 4658, 'charming': 1709, 'pew': 6663, '24m': 176, 'steal': 8487, 'postcard': 6882, 'dynamic': 2899, 'transfer': 9031, 'wheat': 9654, 'peoplesclimatemarch': 6600, 'ucla': 9156, '1a': 113, 'wakeup': 9510, 'explosive': 3273, 'vino': 9424, 'meal': 5569, 'frontlines': 3629, 'kellyanne': 4977, 'filling': 3440, 'omitting': 6238, 'edu': 2954, 'illegals': 4494, 'harbinger': 4025, 'reã': 7651, 'remarkably': 7498, 'nypost': 6127, 'planã': 6761, 'vegetable': 9375, 'scrambling': 7933, 'unwillingness': 9290, 'mlk': 5737, 'csr': 2286, 'impa': 4530, 'softer': 8320, 'tone': 8975, 'looney': 5329, 'ëœï': 9948, 'ipu': 4788, 'arnoldschwarzenegger': 832, '気候変動': 9999, 'opener': 6258, 'firsthand': 3466, 'unrelated': 9272, 'logical': 5305, 'hyped': 4410, 'poorly': 6856, 'sellout': 8018, 'headlinesapp': 4102, '117': 36, 'nzherald': 6132, 'newyork': 5963, 'arstechnica': 845, 'nicola': 5981, 'nuttall': 6115, 'omb': 6234, 'todayâ': 8962, 'agribusiness': 540, 'revers': 7636, 'meter': 5636, '224': 166, '3121': 211, 'painting': 6432, 'ahem': 552, 'duh': 2874, 'politicizing': 6829, 'restrict': 7599, 'usd': 9316, 'huckabee': 4348, 'beheading': 1146, 'gina': 3762, 'resisting': 7575, '100000': 20, 'phillip': 6675, 'thefirsttrillionaire': 8852, 'salmon': 7791, 'sapnajha': 7817, 'wallet': 9527, 'ala': 588, 'drunk': 2866, 'vc': 9369, 'hav': 4074, 'depicts': 2541, 'subsequent': 8583, 'disinformation': 2701, '2â': 205, 'orlando': 6310, 'joy': 4926, '2024': 149, 'podcasts': 6802, '³ðÿ': 9919, 'breakã': 1414, 'thwart': 8921, 'downpour': 2819, 'criticize': 2264, 'stat': 8465, 'globalã': 3789, 'ensuring': 3091, 'humanrights': 4366, 'ima': 4505, 'tuvalu': 9136, 'shaky': 8097, 'lap': 5076, 'columbus': 1938, 'hoc': 4243, 'doj': 2775, 'nelson': 5929, 'vacation': 9340, 'bipolar': 1260, 'yeã': 9877, 'quadrupled': 7182, 'jibberish': 4881, 'rappler': 7297, 'measurement': 5577, 'paved': 6542, 'ju': 4929, 'mysterious': 5861, 'climatechâ': 1844, '100bn': 21, 'roger': 7706, 'sucking': 8598, 'ia': 4427, 'facto': 3316, 'wrestling': 9811, 'oversee': 6383, 'appointment': 778, 'mural': 5840, 'netherworld': 5940, 'goer': 3803, 'protectionism': 7092, 'disgusted': 2697, 'lfc': 5183, 'betrayal': 1193, 'collecting': 1925, 'calif': 1550, 'debbie': 2402, '24hoursofreality': 175, 'hhs': 4175, 'sekarang': 8007, 'charlatan': 1706, 'returning': 7618, 'firework': 3464, 'asylum': 897, 'hobble': 4242, 'arou': 833, 'hahahah': 3960, 'origin': 6307, 'lobbying': 5291, 'cowspiracy': 2210, 'scaled': 7856, 'ownership': 6397, 'inland': 4657, 'offsetting': 6208, 'bla': 1285, 'airplane': 569, 'comms': 1970, 'waleg': 9519, 'basement': 1065, 'moose': 5784, 'nitrogen': 6002, 'lmaooooo': 5282, 'âœ': 9934, 'tibet': 8927, 'flipper': 3497, 'rooftop': 7718, 'viewing': 9414, 'humaâ': 4367, 'ron': 7715, 'aridification': 823, 'saveourfuture': 7835, 'thermal': 8867, '78': 288, 'scrubbing': 7950, 'lichen': 5207, 'showthelove': 8164, 'scien': 7898, 'environmentally': 3112, 'billy': 1238, 'invade': 4753, 'imagining': 4511, 'utter': 9332, 'seismic': 8005, 'embraced': 3014, 'waterway': 9591, 'separated': 8045, 'narendramodi': 5880, 'blatantly': 1298, 'oakland': 6137, 'aiâ': 576, 'ibrahim': 4432, 'absence': 351, 'bastardi': 1075, 'wapol': 9538, 'qldpol': 7180, 'grief': 3894, 'opec': 6255, 'sally': 7790, 'kohn': 5032, 'iipfcc': 4486, 'aboard': 335, 'icebreaker': 4436, 'mayâ': 5560, 'subnational': 8581, 'dotard': 2805, 'immaterial': 4515, 'lymedisease': 5392, 'biome': 1254, 'riddle': 7664, 'carbontax': 1596, 'feather': 3392, 'nest': 5936, 'pleistocene': 6783, 'assassination': 873, 'sdgâ': 7958, 'sane': 7809, 'scaling': 7857, 'ciã': 1798, 'arnhem': 830, 'organizer': 6304, 'beekeeping': 1128, 'yelling': 9872, 'tolerance': 8967, 'demon': 2508, 'impo': 4555, 'birtherism': 1268, 'pervasive': 6648, 'columbia': 1937, 'tourist': 8999, 'scia': 7893, 'asleep': 868, '1961': 92, 'jul': 4937, '03': 8, 'harmless': 4038, 'halted': 3981, 'exceed': 3212, 'biking': 1231, 'rat': 7301, 'verify': 9386, 'hardcore': 4027, 'weakens': 9604, 'pollutant': 6837, '10th': 31, 'mayes': 5558, 'thinkin': 8882, 'ghana': 3755, 'boreal': 1366, 'maxine': 5556, 'demonstrate': 2510, 'extends': 3285, 'šðÿ': 9983, 'shamed': 8102, 'ohhh': 6214, 'mask': 5535, 'choking': 1755, 'spatial': 8373, 'mismatch': 5713, 'magee': 5416, 'arte': 848, 'picking': 6701, 'quake': 7183, 'caâ': 1641, '1963': 93, 'lololol': 5309, 'stepstoreverseclimatechange': 8499, 'ostrich': 6321, 'ninth': 6000, 'operation': 6263, 'expertise': 3254, 'luiis_3x': 5375, 'holoscenes': 4258, 'installation': 4688, 'nuã': 6117, 'czar': 2330, 'wã': 9837, 'homelessness': 4266, 'harshest': 4050, 'lorenzo': 5335, 'quinn': 7214, 'estimated': 3165, 'crescendo': 2249, 'humidity': 4370, 'adelaide': 453, 'savannah': 7831, 'goodâ': 3820, 'emperor': 3030, 'casualty': 1622, 'trusted': 9108, 'creatã': 2241, 'plausible': 6766, 'miti': 5728, 'ifâ': 4469, 'hungary': 4376, 'quicker': 7208, '1950s': 86, 'walmart': 9528, 'bernie2016': 1188, 'sing': 8208, 'leg': 5142, 'mitochondrial': 5733, 'damaged': 2347, 'railed': 7250, 'askin': 865, '2day': 196, 'peasant': 6564, 'wording': 9755, 'opioids': 6270, 'peddling': 6570, 'starved': 8463, 'recommended': 7390, 'creep': 2247, 'ºâ': 9921, 'cdns': 1650, 'hijacker': 4195, 'visual': 9445, 'morally': 5787, 'aaron': 320, 'mair': 5439, 'newsintweets': 5954, 'cheated': 1718, 'limbaugh': 5231, 'ransom': 7288, 'hamiltã': 3986, 'anthony': 735, 'beachfront': 1103, 'smartcity': 8274, 'snail': 8290, 'thei': 8856, 'sciencâ': 7906, 'ordering': 6294, 'sample': 7800, 'birmingham': 1264, 'runoff': 7752, 'imperialism': 4542, '280': 188, 'ingenious': 4647, 'yada': 9852, 'œweâ': 9974, '1989': 104, 'pershing': 6633, 'sch': 7879, 'rainy': 7258, 'biblical': 1215, 'niña': 6006, 'acc': 366, 'mueller': 5827, 'baird': 1014, 'scieâ': 7913, 'ophelia': 6266, 'arc': 800, 'outage': 6336, 'offset': 6207, 'twist': 9143, 'evaporated': 3182, 'noncompetitive': 6031, 'shake': 8095, 'aleppo': 608, 'ra': 7227, 'reassigned': 7351, 'votegreen': 9477, 'angin': 706, 'aja': 577, 'scient': 7907, 'auto': 948, '195': 84, 'horn': 4300, 'automaker': 949, 'aggression': 525, 'perdue': 6608, 'belugasolar': 1171, 'examiner': 3208, 'virtue': 9435, 'patrick': 6535, 'intention': 4721, 'forbes': 3540, 'poop': 6852, 'japanese': 4855, 'lightbulb': 5220, '127': 43, 'outwitting': 6365, 'happ': 4010, 'generating': 3727, 'replaces': 7535, 'popsci': 6861, 'heroic': 4165, 'hare': 4033, 'roughly': 7724, 'wana': 9531, 'visualised': 9446, 'breathtaking': 1418, 'hayashi': 4089, 'din': 2641, 'tao': 8748, 'pub': 7128, 'natgeo': 5885, 'grantham': 3863, 'perish': 6617, 'xy': 9849, 'chip': 1751, 'influenced': 4634, 'bloombergtv': 1323, 'solarenergy': 8323, 'israeli': 4820, 'concentration': 2010, 'baba': 986, 'aldublaboroflove': 606, 'theirâ': 8857, 'randomly': 7280, 'rowe': 7730, 'literate': 5261, 'productivity': 7038, 'frying': 3638, 'minimizing': 5690, 'nobelperspectives': 6017, 'newsflash': 5952, 'autumn': 952, 'worsâ': 9786, 'jewelry': 4875, 'costume': 2182, 'lightstick': 5223, 'actus': 433, 'mer': 5615, 'cue': 2293, 'scuba': 7951, 'endorses': 3063, 'rail': 7249, 'theblaze': 8850, 'biological': 1250, 'rednationrising': 7408, 'artic': 850, 'awfully': 975, 'fn': 3516, 'horoscope': 4301, 'hottestã': 4326, 'voxdotcom': 9484, 'mm': 5738, 'palestinian': 6445, '25m': 180, 'bevin': 1200, 'designer': 2568, 'informative': 4643, 'portal': 6867, 'releasing': 7483, 'persuading': 6644, 'afmobi': 503, 'ray': 7315, 'sufficient': 8609, 'maui': 5551, 'slight': 8257, 'tight': 8935, 'ethnic': 3173, 'object': 6149, 'carmichael': 1609, 'apps': 791, 'intersection': 4738, 'scold': 7918, 'ro': 7690, 'filter': 3443, 'wreaks': 9806, 'b4': 984, 'foc': 3518, 'efficient': 2967, 'maunder': 5552, 'knife': 5019, 'otec': 6322, 'bikini': 1232, 'livestream': 5275, 'steadily': 8484, 'becauseâ': 1118, 'peabody': 6556, 'smear': 8280, '1â': 121, 'makeamericagreatagain': 5445, 'roy': 7731, 'mapped': 5500, 'equipped': 3133, 'innocent': 4660, 'ourstolose': 6331, 'reiterate': 7468, '1920s': 80, 'recognise': 7382, 'scienceâ': 7904, '194': 82, 'collaborative': 1920, 'aiming': 562, 'seaweed': 7974, 'polluted': 6839, 'viã': 9456, 'woulda': 9790, 'processing': 7027, 'numbskulls': 6104, 'impeach': 4536, 'excerpt': 3216, 'arsonist': 844, 'err': 3147, '1978': 98, 'pachauriâ': 6416, 'persistent': 6635, 'yard': 9860, 'honesty': 4279, 'realdonaldtrump': 7333, '1940': 83, 'villager': 9419, 'numbskull': 6103, 'grandkids': 3858, 'tipped': 8948, 'warp': 9561, 'sexâ': 8086, 'peatland': 6566, 'metro': 5639, 'recap': 7369, 'appropriation': 785, 'hijacked': 4194, 'alleging': 633, 'countersuing': 2195, 'meteorology': 5635, 'bellamy': 1167, '199': 105, 'wowldn': 9797, 'celebrating': 1654, 'neo': 5930, 'continuous': 2110, 'bcos': 1097, 'scripps': 7946, 'manner': 5491, 'huhu': 4359, 'argentinian': 815, 'andrea': 694, 'juan': 4931, 'applied': 772, 'wynne': 9834, 'suffers': 8608, 'majorâ': 5443, 'nd': 5903, 'algal': 614, 'abounds': 343, '160': 59, 'desire': 2570, 'supplier': 8635, 'brake': 1395, 'sarcastic': 7820, 'nuance': 6093, 'papua': 6467, 'latam': 5086, 'nicole': 5982, 'في': 9988, 'sooo': 8347, 'proper': 7071, 'mourning': 5808, 'malah': 5453, 'boko': 1341, 'haram': 4021, 'hlp': 4230, 'aftermath': 508, 'alcohol': 604, 'formally': 3559, 'misogyny': 5716, 'hydrology': 4407, 'spurring': 8424, 'alluding': 644, 'wholly': 9672, 'sebagai': 7976, 'mereka': 5620, 'siapa': 8177, 'springtime': 8423, 'humpback': 4373, 'disgrace': 2695, 'stratosphere': 8537, 'educational': 2958, 'veto': 9393, 'nebraska': 5909, 'joanna': 4893, 'plã': 6793, 'impinv': 4545, 'nafta': 5868, 'œâ': 9978, 'profoundly': 7047, 'ma4t': 5398, 'lahren': 5059, 'carpet': 1612, 'celebs': 1656, 'liv': 5268, 'hoseok': 4312, 'hears': 4113, 'mccartney': 5563, 'baron': 1053, 'ige': 4471, 'ak': 580, 'plasticpollution': 6763, 'marginalized': 5512, 'repercussion': 7530, 'maggie': 5417, 'deposit': 2547, 'accession': 381, 'violet': 9429, 'application': 771, 'hmmmm': 4234, 'murderer': 5843, 'yielding': 9880, 'maelstrom': 5411, 'populism': 6864, 'handful': 3998, 'goâ': 3843, 'biswasi': 1272, 'lutheran': 5385, 'poã': 6903, 'suzuki': 8678, 'pelosi': 6579, 'eradicating': 3139, 'starve': 8462, 'believeã': 1163, 'haul': 4071, 'hundredth': 4375, 'haigh': 3965, 'hawong': 4088, 'skrg': 8239, 'fever': 3418, 'rahul': 7247, 'brainwashed': 1394, 'nt': 6091, 'rando': 7278, 'nu': 6092, 'perpetual': 6628, 'hinder': 4205, 'nail': 5871, 'marched': 5505, 'fitting': 3474, 'ark': 826, 'visualizing': 9449, 'temporarily': 8804, 'golo': 3811, 'kante': 4956, 'raid': 7248, 'peeve': 6576, 'enda': 3054, 'pti': 7124, 'begging': 1136, 'direâ': 2660, 'industryâ': 4625, 'toast': 8958, 'investigated': 4765, 'critically': 2260, 'partnering': 6508, '5m': 260, 'unfit': 9219, 'waky': 9515, 'raâ': 7316, 'mummy': 5838, 'judith': 4935, 'outstanding': 6362, 'traced': 9010, 'paky': 6439, 'zijn': 9910, 'hurrah': 4383, 'byproduct': 1527, 'pleasant': 6777, 'explicitly': 3261, 'notley': 6068, 'prima': 6990, 'pillar': 6713, 'improbable': 4563, 'scoff': 7917, 'identical': 4452, 'anthropology': 739, 'nod': 6018, 'sachs': 7768, 'bhi': 1207, 'partly': 6506, 'ghosh': 3757, 'overrun': 6380, 'spoiled': 8404, 'planetearth2': 6748, 'jfk': 4877, 'periodic': 6615, 'qâ': 7225, '130': 46, 'aircraft': 566, 'surfer': 8652, 'polit': 6822, 'draintheswamp': 2831, 'skate': 8229, 'pressuring': 6968, 'agreementã': 536, 'lã': 5395, 'miniscule': 5693, 'temperate': 8801, 'resulting': 7605, 'permitted': 6625, 'œso': 9968, 'belching': 1154, 'commercial': 1960, 'jeopardy': 4865, 'frack': 3583, 'baru': 1060, 'motto': 5805, 'lssc': 5368, 'congestion': 2052, 'airstrike': 573, 'scistarter': 7915, 'dissertation': 2731, 'immed': 4517, 'perceived': 6604, 'everytime': 3190, 'bbcbreakfast': 1091, 'refreshing': 7432, 'dignity': 2638, 'gospel': 3829, '274': 186, 'muppet': 5839, 'kâ': 5044, 'yqr': 9898, 'joi': 4900, 'recording': 7396, 'ovr': 6392, 'queue': 7206, 'jualan': 4930, 'cadet': 1541, 'ramdam': 7269, 'persuasive': 6645, 'agnostic': 529, 'perverted': 6649, 'nuc': 6094, 'homegrown': 4263, 'pmâ': 6796, 'hollow': 4254, 'gloâ': 3794, 'sauda': 7828, 'dsnscience': 2869, 'banana': 1030, 'msgdoing111welfareworks': 5820, 'noticeable': 6064, 'wanâ': 9536, 'hatching': 4063, 'technically': 8787, 'wasnt': 9573, 'headass': 4098, 'ind': 4605, 'distress': 2736, 'promotion': 7066, 'harold': 4041, 'patiently': 6532, 'locality': 5296, '14th': 54, 'warren': 9563, 'offbeat': 6195, 'observing': 6160, 'physorg_com': 6695, 'mustard': 5855, 'oilseed': 6219, 'bronze': 1454, 'shouldnâ': 8152, 'ëš': 9949, 'unlocking': 9258, 'rapture': 7298, 'renew': 7516, 'woâ': 9798, '2045': 153, 'mitigâ': 5732, 'betraying': 1194, 'lesser': 5166, 'wounded': 9795, 'jin': 4888, 'parody': 6496, 'implode': 4552, 'financed': 3448, 'vector': 9370, 'birdie': 1262, 'birdies4sanders': 1263, 'scholarship': 7885, 'jesuit': 4870, 'sb350': 7852, 'peaty': 6568, 'sd': 7954, 'optional': 6286, 'hip': 4209, 'laid': 5060, 'beaver': 1115, 'levin': 5180, 'turd': 9128, 'pg': 6664, 'bitchy': 1276, 'unwilling': 9289, 'beware': 1201, 'herding': 4158, 'nue': 6099, 'nominate': 6025, 'refuted': 7440, 'washingâ': 9571, 'oakville': 6138, 'secdef': 7978, 'uploaded': 9299, 'biogas': 1249, 'accounting': 393, 'publicity': 7131, 'ëœfight': 9943, 'reconciling': 7392, 'oneâ': 6241, 'arena': 810, 'âµã': 9927, 'â¹â': 9929, 'â²ã': 9925, 'bl': 1284, 'bullshitter': 1489, 'horseshit': 4311, 'impressive': 4562, 'questioner': 7203, 'havâ': 4081, 'shy': 8175, 'batshit': 1080, 'agbs2017finalday': 514, 'hilary': 4198, 'unveil': 9286, 'effecting': 2963, 'qc': 7178, 'transatlantic': 9030, 'obvs': 6172, '225': 167, 'negotiator': 5924, 'nunavut': 6107, 'stating': 8473, 'specialist': 8379, 'nonprofit': 6034, 'drastically': 2835, 'gunshot': 3937, 'baltic': 1027, 'treason': 9053, 'pamela': 6452, 'patricia': 6534, 'sciâ': 7916, 'baking': 1016, 'unicef': 9228, 'pow': 6898, 'purchase': 7159, 'wef17': 9626, 'cocoa': 1907, 'huffingtonpost': 4351, 'lecturer': 5134, 'blonde': 1318, 'alignment': 621, 'charged': 1704, 'fairly': 3329, 'heh': 4135, 'peddle': 6569, 'jhonaiker': 4879, 'watt': 9594, 'soviet': 8365, 'decarbonisation': 2411, 'pearsonâ': 6563, 'abhorrent': 328, 'wale': 9517, 'viâ': 9455, 'howard': 4332, 'unicorn': 9229, 'ourocean': 6329, 'heap': 4109, 'ilk': 4491, '162': 60, 'scorpio': 7923, 'heroin': 4166, 'lukewarm': 5377, 'craft': 2221, 'retire': 7610, 'londoner': 5314, 'kush': 5040, 'separately': 8046, 'spider': 8394, 'priceoncarbon': 6985, 'iced': 4439, 'nuclear4climate': 6097, 'mainstreamed': 5435, 'tahoe': 8729, 'lik': 5224, 'pu': 7126, 'juice': 4936, 'ragweed': 7245, 'ajenglish': 578, 'louisville': 5350, 'londonattacks': 5312, '6â': 278, 'bilâ': 1239, 'baldness': 1021, '2b': 194, 'assisted': 882, 'halfway': 3976, 'beefban': 1127, 'induce': 4620, 'nya': 6123, 'personnel': 6640, 'heller': 4141, 'continental': 2104, 'seventh': 8075, 'improvement': 4566, 'liking': 5229, 'responsibly': 7590, 'impâ': 4568, 'antartica': 733, 'dipshit': 2652, 'hahahahaha': 3962, 'peaceful': 6558, 'ignites': 4472, 'nxt': 6121, 'lifting': 5218, 'salute': 7795, 'occupation': 6173, 'alarmingly': 593, 'm4': 5396, 'nytletters': 6130, 'vietnamese': 9410, '1880': 73, 'lise': 5249, 'ourwild': 6332, 'lain': 5061, 'pelik': 6577, 'wyo': 9835, 'immeasurable': 4516}\n"
          ]
        }
      ],
      "source": [
        "# Show the library of vocabulary\n",
        "print(len(count.vocabulary_))\n",
        "print(count.vocabulary_)"
      ]
    },
    {
      "cell_type": "markdown",
      "metadata": {
        "id": "EorSlPBwlTn5"
      },
      "source": [
        "#Term Frequency Inverse Document Frequency\n",
        "\n",
        "Term Frequency - Inverse Document Frequency (TF-IDF) is a widely used statistical method in natural language processing and information retrieval. It measures how important a term is within a document relative to a collection of documents (i.e., relative to a corpus).\n",
        "\n",
        "\n",
        "Term Frequency: TF of a term or word is the number of times the term appears in a document compared to the total number of words in the document.\n",
        "\n",
        "\n",
        "Inverse Document Frequency: IDF of a term reflects the proportion of documents in the corpus that contain the term. Words unique to a small percentage of documents (e.g., technical jargon terms) receive higher importance values than words common across all documents (e.g., a, the, and).\n",
        "\n",
        "\n",
        "The TF-IDF of a term is calculated by multiplying TF and IDF scores."
      ]
    },
    {
      "cell_type": "code",
      "execution_count": 31,
      "metadata": {
        "id": "6f0QyJGfGvHo"
      },
      "outputs": [],
      "source": [
        "\n",
        "# Take the raw term frequencies built by CountVectorizer as input and\n",
        "# transform them into the term frequency-inverse document frequency (tf-idf)\n",
        "tfidf = TfidfTransformer(use_idf = True, norm = 'l2', smooth_idf = True)\n",
        "X_train_tfidf = tfidf.fit_transform(X_train_bag)\n",
        "X_test_tfidf = tfidf.transform(X_test_bag)"
      ]
    },
    {
      "cell_type": "code",
      "execution_count": 32,
      "metadata": {
        "colab": {
          "base_uri": "https://localhost:8080/"
        },
        "id": "dB_zMvuGoUlE",
        "outputId": "43940e93-3f3d-4c91-dd49-8b4ebececcef"
      },
      "outputs": [
        {
          "output_type": "stream",
          "name": "stdout",
          "text": [
            "[[0. 0. 0. ... 0. 0. 0.]\n",
            " [0. 0. 0. ... 0. 0. 0.]\n",
            " [0. 0. 0. ... 0. 0. 0.]\n",
            " ...\n",
            " [0. 0. 0. ... 0. 0. 0.]\n",
            " [0. 0. 0. ... 0. 0. 0.]\n",
            " [0. 0. 0. ... 0. 0. 0.]]\n",
            "\n",
            "\n"
          ]
        },
        {
          "output_type": "execute_result",
          "data": {
            "text/plain": [
              "(39548, 10000)"
            ]
          },
          "metadata": {},
          "execution_count": 32
        }
      ],
      "source": [
        "print(X_train_tfidf.toarray())\n",
        "print('\\n')\n",
        "X_train_tfidf.toarray().shape"
      ]
    },
    {
      "cell_type": "code",
      "execution_count": 33,
      "metadata": {
        "colab": {
          "base_uri": "https://localhost:8080/"
        },
        "id": "JKZmntTYoWey",
        "outputId": "2a531453-e326-49a7-b4d3-3361d3f9c61f"
      },
      "outputs": [
        {
          "output_type": "stream",
          "name": "stdout",
          "text": [
            "0.7870307167235495\n"
          ]
        }
      ],
      "source": [
        "# Build a logistic model\n",
        "log_tfidf = LogisticRegression(solver = 'liblinear', random_state = 42)\n",
        "score = log_tfidf.fit(X_train_tfidf, y_train).score(X_test_tfidf, y_test)\n",
        "print(score)"
      ]
    },
    {
      "cell_type": "code",
      "execution_count": 34,
      "metadata": {
        "colab": {
          "base_uri": "https://localhost:8080/"
        },
        "id": "hwFnXW1EoYxN",
        "outputId": "ffc66929-8cc2-4571-cfff-58757c423000"
      },
      "outputs": [
        {
          "output_type": "execute_result",
          "data": {
            "text/plain": [
              "0.5772468714448237"
            ]
          },
          "metadata": {},
          "execution_count": 34
        }
      ],
      "source": [
        "# Compare the model predictions to the baseline of using dummy classifier\n",
        "dummy_classifier = DummyClassifier(strategy = 'stratified')\n",
        "dummy_classifier.fit(X_train_tfidf, y_train).score(X_test_tfidf, y_test)"
      ]
    },
    {
      "cell_type": "code",
      "execution_count": 35,
      "metadata": {
        "id": "bJqymqjLobMa"
      },
      "outputs": [],
      "source": [
        "# Initiate the synonym augmentation\n",
        "aug_syn = naw.SynonymAug(\n",
        "  aug_src = 'wordnet',\n",
        "  aug_max = 3)"
      ]
    },
    {
      "cell_type": "code",
      "execution_count": 36,
      "metadata": {
        "colab": {
          "base_uri": "https://localhost:8080/"
        },
        "id": "dvmayTp7pAsj",
        "outputId": "9c295efc-f3ce-451d-84a1-d562ce3eab70"
      },
      "outputs": [
        {
          "output_type": "stream",
          "name": "stdout",
          "text": [
            "True\n"
          ]
        }
      ],
      "source": [
        "import torch\n",
        "print(torch.cuda.is_available())\n"
      ]
    },
    {
      "cell_type": "code",
      "execution_count": 41,
      "metadata": {
        "id": "E425BjxfodMO"
      },
      "outputs": [],
      "source": [
        "## Initiate the contextual word embeddings (BERT, DistilBERT, RoBERTA or XLNet) augmentation\n",
        "aug_emb = naw.ContextualWordEmbsAug(\n",
        "  # Other models include 'distilbert-base-uncased', 'roberta-base', etc.\n",
        "  model_path = 'roberta-base',\n",
        "  # You can also choose \"insert\"\n",
        "  action = \"substitute\",\n",
        "  device = 'cuda'\n",
        "  )"
      ]
    },
    {
      "cell_type": "code",
      "execution_count": 42,
      "metadata": {
        "colab": {
          "base_uri": "https://localhost:8080/"
        },
        "id": "qTN6ptaLqRIe",
        "outputId": "ebf82578-1261-49fb-a792-96b1f76df445"
      },
      "outputs": [
        {
          "output_type": "stream",
          "name": "stderr",
          "text": [
            "Some weights of FSMTForConditionalGeneration were not initialized from the model checkpoint at facebook/wmt19-en-de and are newly initialized: ['model.decoder.embed_positions.weight', 'model.encoder.embed_positions.weight']\n",
            "You should probably TRAIN this model on a down-stream task to be able to use it for predictions and inference.\n",
            "Some weights of FSMTForConditionalGeneration were not initialized from the model checkpoint at facebook/wmt19-de-en and are newly initialized: ['model.decoder.embed_positions.weight', 'model.encoder.embed_positions.weight']\n",
            "You should probably TRAIN this model on a down-stream task to be able to use it for predictions and inference.\n"
          ]
        }
      ],
      "source": [
        "# Initiate the back translation augmentation\n",
        "aug_bt = naw.BackTranslationAug(\n",
        "  # Translate English to German\n",
        "  from_model_name = 'facebook/wmt19-en-de',\n",
        "  # Translate German back to English\n",
        "  to_model_name = 'facebook/wmt19-de-en',\n",
        "  # # Use GPU\n",
        "  device = 'cuda'\n",
        ")"
      ]
    },
    {
      "cell_type": "code",
      "execution_count": 43,
      "metadata": {
        "id": "yiykQcRVofOk"
      },
      "outputs": [],
      "source": [
        "import pandas as pd\n",
        "\n",
        "# Create a function to evaluate text augmentation on model performance on test set\n",
        "def evaluate_aug(aug_strategy, n, X_train, y_train, X_test, y_test):\n",
        "\n",
        "  # Create two lists to store augmented tweets and their corresponding labels\n",
        "  augmented_tweets = []\n",
        "  augmented_tweets_labels = []\n",
        "\n",
        "  # Loop through the train set to create augmented tweets\n",
        "  # Note: We create n augmented tweets per original tweet.\n",
        "  for i in X_train.index:\n",
        "    if aug_strategy == 'synonym':\n",
        "      lst_augment = aug_syn.augment(X_train[i], n = n)\n",
        "    elif aug_strategy == 'embedding':\n",
        "      lst_augment = aug_emb.augment(X_train[i], n = n)\n",
        "    else:\n",
        "      lst_augment = aug_bt.augment(X_train[i], n = n)\n",
        "    for augment in lst_augment:\n",
        "      augmented_tweets.append(augment)\n",
        "      augmented_tweets_labels.append(y_train[i])\n",
        "\n",
        "  # Convert augmented tweets and labels to Series\n",
        "  augmented_tweets_series = pd.Series(augmented_tweets, name=X_train.name)\n",
        "  augmented_labels_series = pd.Series(augmented_tweets_labels, name=y_train.name)\n",
        "\n",
        "  # Concatenate the augmented data with the original data\n",
        "  X_train_appended = pd.concat([X_train, augmented_tweets_series], ignore_index=True)\n",
        "  y_train_appended = pd.concat([y_train, augmented_labels_series], ignore_index=True)\n",
        "\n",
        "  # Apply the preprocessor to clean the tweet texts\n",
        "  X_train_appended = X_train_appended.apply(preprocessor)\n",
        "\n",
        "  # Apply tokenization and lemmatization\n",
        "  X_train_appended = X_train_appended.apply(tokenizer_lemmetizer)\n",
        "\n",
        "  # Fit and transform the appended train set into sparse feature vectors\n",
        "  X_train_appended_bag = count.fit_transform(X_train_appended)\n",
        "\n",
        "  # Transform the test set into sparse feature vectors\n",
        "  X_test_bag = count.transform(X_test)\n",
        "\n",
        "  # Take the raw term frequencies built by CountVectorizer as input and\n",
        "  # transform them into the term frequency-inverse document frequency (tf-idf)\n",
        "  X_train_appended_tfidf = tfidf.fit_transform(X_train_appended_bag)\n",
        "  X_test_tfidf = tfidf.transform(X_test_bag)\n",
        "\n",
        "  # Remove all elements from the lists\n",
        "  augmented_tweets.clear()\n",
        "  augmented_tweets_labels.clear()\n",
        "\n",
        "  # Fit a logistic regression\n",
        "  return (log_tfidf.fit(X_train_appended_tfidf, y_train_appended).\n",
        "          score(X_test_tfidf, y_test))\n"
      ]
    },
    {
      "cell_type": "code",
      "execution_count": 44,
      "metadata": {
        "colab": {
          "base_uri": "https://localhost:8080/"
        },
        "id": "VNRwNU-XpoRj",
        "outputId": "0a578766-b499-492b-82f4-78c40a226dcd"
      },
      "outputs": [
        {
          "output_type": "stream",
          "name": "stdout",
          "text": [
            "0.7936291240045507\n"
          ]
        }
      ],
      "source": [
        "# Evaluate the synonym text augmentation\n",
        "score_synonym = evaluate_aug(\n",
        "  aug_strategy = 'synonym',\n",
        "  n = 1,\n",
        "  X_train = X_train,\n",
        "  y_train = y_train,\n",
        "  X_test = X_test,\n",
        "  y_test = y_test)\n",
        "print(score_synonym)"
      ]
    },
    {
      "cell_type": "code",
      "execution_count": 45,
      "metadata": {
        "colab": {
          "base_uri": "https://localhost:8080/"
        },
        "id": "7__Pny0_pqTD",
        "outputId": "a124d422-8877-4949-e84f-77d835828fcd"
      },
      "outputs": [
        {
          "output_type": "stream",
          "name": "stdout",
          "text": [
            "0.7920364050056883\n"
          ]
        }
      ],
      "source": [
        "# Evaluate the embedding text augmentation (less than 1 hour)\n",
        "score_emb = evaluate_aug(\n",
        "  aug_strategy = 'embedding',\n",
        "  n = 1,\n",
        "  X_train = X_train,\n",
        "  y_train = y_train,\n",
        "  X_test = X_test,\n",
        "  y_test = y_test)\n",
        "print(score_emb)"
      ]
    },
    {
      "cell_type": "code",
      "execution_count": null,
      "metadata": {
        "id": "UCjjwaMcp5Is"
      },
      "outputs": [],
      "source": [
        "# Evaluate the back translation text augmentation (~10 hours)\n",
        "score_bt = evaluate_aug(\n",
        "  aug_strategy = 'backtranslation',\n",
        "  n = 1,\n",
        "  X_train = X_train,\n",
        "  y_train = y_train,\n",
        "  X_test = X_test,\n",
        "  y_test = y_test)\n",
        "print(score_bt)"
      ]
    }
  ],
  "metadata": {
    "colab": {
      "provenance": [],
      "gpuType": "T4"
    },
    "kernelspec": {
      "display_name": "Python 3",
      "name": "python3"
    },
    "language_info": {
      "name": "python"
    },
    "accelerator": "GPU"
  },
  "nbformat": 4,
  "nbformat_minor": 0
}