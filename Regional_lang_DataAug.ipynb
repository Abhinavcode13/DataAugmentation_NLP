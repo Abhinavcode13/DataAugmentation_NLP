{
  "nbformat": 4,
  "nbformat_minor": 0,
  "metadata": {
    "colab": {
      "provenance": []
    },
    "kernelspec": {
      "name": "python3",
      "display_name": "Python 3"
    },
    "language_info": {
      "name": "python"
    }
  },
  "cells": [
    {
      "cell_type": "code",
      "source": [
        "pip install indic-nlp-library\n"
      ],
      "metadata": {
        "id": "iEz1LxOeWF5T"
      },
      "execution_count": null,
      "outputs": []
    },
    {
      "cell_type": "code",
      "execution_count": 4,
      "metadata": {
        "colab": {
          "base_uri": "https://localhost:8080/"
        },
        "id": "sU4-0w4GV-qE",
        "outputId": "12723fff-1a5d-44ec-c752-57f59a3c5bab"
      },
      "outputs": [
        {
          "output_type": "stream",
          "name": "stdout",
          "text": [
            "Original Text: मैं आज स्कूल नहीं जा रहा हूँ।\n",
            "Augmented Text: मै इस दिन विद्यालय नही चला जा रह हूँ ।\n"
          ]
        }
      ],
      "source": [
        "# Install indic-nlp-library\n",
        "# !pip install indic-nlp-library\n",
        "\n",
        "from indicnlp.tokenize import indic_tokenize\n",
        "\n",
        "# Hypothetical synonym dictionary for demonstration purposes\n",
        "synonym_dict = {\n",
        "    'मैं': ['मै', 'मुझे', 'मुझको'],\n",
        "    'आज': ['इस दिन', 'आज के दिन'],\n",
        "    'स्कूल': ['विद्यालय', 'स्कूल इंडिया'],\n",
        "    'नहीं': ['नही', 'नहीं है', 'ना'],\n",
        "    'जा': ['चला जा', 'जाना', 'चला', 'बाहर निकल'],\n",
        "    'रहा': ['रह', 'रहे', 'रहे हैं'],\n",
        "    'हूँ': ['हूँ', 'हैं', 'रहे हैं']\n",
        "}\n",
        "\n",
        "# Function to perform data augmentation by token substitution using synonym dictionary\n",
        "def augment_text_with_synonyms(text, synonym_dict):\n",
        "    tokens = indic_tokenize.trivial_tokenize(text, lang='hi')\n",
        "    augmented_tokens = []\n",
        "    for token in tokens:\n",
        "        # Substitute token with a random synonym if available, else keep the original token\n",
        "        augmented_token = synonym_dict.get(token, [token])[0]\n",
        "        augmented_tokens.append(augmented_token)\n",
        "    return ' '.join(augmented_tokens)\n",
        "\n",
        "# Example Hindi text\n",
        "hindi_text = \"मैं आज स्कूल नहीं जा रहा हूँ।\"\n",
        "\n",
        "# Perform data augmentation\n",
        "augmented_text = augment_text_with_synonyms(hindi_text, synonym_dict)\n",
        "\n",
        "# Print augmented text\n",
        "print(\"Original Text:\", hindi_text)\n",
        "print(\"Augmented Text:\", augmented_text)\n",
        "\n"
      ]
    },
    {
      "cell_type": "code",
      "source": [
        "pip install googletrans==4.0.0-rc1\n"
      ],
      "metadata": {
        "id": "JBgtcfJ_Z5b4"
      },
      "execution_count": null,
      "outputs": []
    },
    {
      "cell_type": "markdown",
      "source": [
        "#Languages supported here\n",
        "Afrikaans (af)\n",
        "Albanian (sq)\n",
        "Amharic (am)\n",
        "Arabic (ar)\n",
        "Armenian (hy)\n",
        "Azerbaijani (az)\n",
        "Basque (eu)\n",
        "Belarusian (be)\n",
        "Bengali (bn)\n",
        "Bosnian (bs)\n",
        "Bulgarian (bg)\n",
        "Catalan (ca)\n",
        "Cebuano (ceb)\n",
        "Chichewa (ny)\n",
        "Chinese (Simplified) (zh-CN)\n",
        "Chinese (Traditional) (zh-TW)\n",
        "Corsican (co)\n",
        "Croatian (hr)\n",
        "Czech (cs)\n",
        "Danish (da)\n",
        "Dutch (nl)\n",
        "English (en)\n",
        "Esperanto (eo)\n",
        "Estonian (et)\n",
        "Filipino (tl)\n",
        "Finnish (fi)\n",
        "French (fr)\n",
        "Frisian (fy)\n",
        "Galician (gl)\n",
        "Georgian (ka)\n",
        "German (de)\n",
        "Greek (el)\n",
        "Gujarati (gu)\n",
        "Haitian Creole (ht)\n",
        "Hausa (ha)\n",
        "Hawaiian (haw)\n",
        "Hebrew (iw)\n",
        "Hindi (hi)\n",
        "Hmong (hmn)\n",
        "Hungarian (hu)\n",
        "Icelandic (is)\n",
        "Igbo (ig)\n",
        "Indonesian (id)\n",
        "Irish (ga)\n",
        "Italian (it)\n",
        "Japanese (ja)\n",
        "Javanese (jw)\n",
        "Kannada (kn)\n",
        "Kazakh (kk)\n",
        "Khmer (km)\n",
        "Korean (ko)\n",
        "Kurdish (Kurmanji) (ku)\n",
        "Kyrgyz (ky)\n",
        "Lao (lo)\n",
        "Latin (la)\n",
        "Latvian (lv)\n",
        "Lithuanian (lt)\n",
        "Luxembourgish (lb)\n",
        "Macedonian (mk)\n",
        "Malagasy (mg)\n",
        "Malay (ms)\n",
        "Malayalam (ml)\n",
        "Maltese (mt)\n",
        "Maori (mi)\n",
        "Marathi (mr)\n",
        "Mongolian (mn)\n",
        "Myanmar (Burmese) (my)\n",
        "Nepali (ne)\n",
        "Norwegian (no)\n",
        "Nyanja (ny)\n",
        "Odia (or)\n",
        "Pashto (ps)\n",
        "Persian (fa)\n",
        "Polish (pl)\n",
        "Portuguese (pt)\n",
        "Punjabi (pa)\n",
        "Romanian (ro)\n",
        "Russian (ru)\n",
        "Samoan (sm)\n",
        "Scots Gaelic (gd)\n",
        "Serbian (sr)\n",
        "Sesotho (st)\n",
        "Shona (sn)\n",
        "Sindhi (sd)\n",
        "Sinhala (si)\n",
        "Slovak (sk)\n",
        "Slovenian (sl)\n",
        "Somali (so)\n",
        "Spanish (es)\n",
        "Sundanese (su)\n",
        "Swahili (sw)\n",
        "Swedish (sv)\n",
        "Tajik (tg)\n",
        "Tamil (ta)\n",
        "Tatar (tt)\n",
        "Telugu (te)\n",
        "Thai (th)\n",
        "Turkish (tr)\n",
        "Turkmen (tk)\n",
        "Ukrainian (uk)\n",
        "Urdu (ur)\n",
        "Uyghur (ug)\n",
        "Uzbek (uz)\n",
        "Vietnamese (vi)\n",
        "Welsh (cy)\n",
        "Xhosa (xh)\n",
        "Yiddish (yi)\n",
        "Yoruba (yo)\n",
        "Zulu (zu)"
      ],
      "metadata": {
        "id": "Iq681XunfIP9"
      }
    },
    {
      "cell_type": "code",
      "source": [
        "from googletrans import Translator\n",
        "\n",
        "# Function to translate text from Hindi to Arabic\n",
        "def translate_to_arabic(text):\n",
        "    translator = Translator()\n",
        "    translated_text = translator.translate(text, src='kn', dest='de')      #arabic used\n",
        "    return translated_text.text\n",
        "\n",
        "# Function to translate text from Arabic to Hindi\n",
        "def translate_to_kan(text):\n",
        "    translator = Translator()\n",
        "    translated_text = translator.translate(text, src='de', dest='kn')\n",
        "    return translated_text.text\n",
        "\n",
        "# Example Hindi text\n",
        "kan_text = \"ನಾನು ಒಂದು ಪುಸ್ತಕವನ್ನು ತಂದಿದ್ದೇನೆ ನಾನು ಅದನ್ನು ಬಹಳ ದಿನಗಳಿಂದ ಓದುತ್ತಿದ್ದೆ ಇದು ಆಸಕ್ತಿದಾಯಕವಾಗಿದೆ ನಾನು ಅದನ್ನು ಸಾಧ್ಯವಾದಷ್ಟು ಬೇಗ ಮುಗಿಸಲು ಬಯಸುತ್ತೇನೆ\"\n",
        "\n",
        "# Translate Hindi text to English\n",
        "english_text = translate_to_arabic(kan_text)\n",
        "\n",
        "# Translate English text back to Hindi\n",
        "augmented_text = translate_to_kan(english_text)\n",
        "\n",
        "# Print augmented text\n",
        "print(\"Original Text (Hindi):\", kan_text)\n",
        "print(\"Translated Text (English):\", english_text)\n",
        "print(\"Augmented Text (Back to Hindi):\", augmented_text)\n"
      ],
      "metadata": {
        "colab": {
          "base_uri": "https://localhost:8080/"
        },
        "id": "RT-P5Jc7WENC",
        "outputId": "19b69d95-a60e-4df1-bc8f-1b4b83b093bb"
      },
      "execution_count": 42,
      "outputs": [
        {
          "output_type": "stream",
          "name": "stdout",
          "text": [
            "Original Text (Hindi): ನಾನು ಒಂದು ಪುಸ್ತಕವನ್ನು ತಂದಿದ್ದೇನೆ ನಾನು ಅದನ್ನು ಬಹಳ ದಿನಗಳಿಂದ ಓದುತ್ತಿದ್ದೆ ಇದು ಆಸಕ್ತಿದಾಯಕವಾಗಿದೆ ನಾನು ಅದನ್ನು ಸಾಧ್ಯವಾದಷ್ಟು ಬೇಗ ಮುಗಿಸಲು ಬಯಸುತ್ತೇನೆ\n",
            "Translated Text (English): Ich habe ein Buch mitgebracht, das ich seit einem langen Tag gelesen habe. Es ist interessant. Ich möchte es so schnell wie möglich beenden\n",
            "Augmented Text (Back to Hindi): ನಾನು ಬಹಳ ದಿನ ಓದಿದ್ದೇನೆ ಎಂದು ನಾನು ನನ್ನೊಂದಿಗೆ ಪುಸ್ತಕವನ್ನು ತಂದಿದ್ದೇನೆ.ಇದು ಆಸಕ್ತಿದಾಯಕವಾಗಿದೆ.ನಾನು ಅದನ್ನು ಆದಷ್ಟು ಬೇಗ ಕೊನೆಗೊಳಿಸಲು ಬಯಸುತ್ತೇನೆ\n"
          ]
        }
      ]
    },
    {
      "cell_type": "code",
      "source": [
        "from googletrans import Translator\n",
        "\n",
        "# Function to translate text from Hindi to English\n",
        "def translate_to_english(text):\n",
        "    translator = Translator()\n",
        "    translated_text = translator.translate(text, src='hi', dest='ar')\n",
        "    return translated_text.text\n",
        "\n",
        "# Function to translate text from English to Hindi\n",
        "def translate_to_hindi(text):\n",
        "    translator = Translator()\n",
        "    translated_text = translator.translate(text, src='ar', dest='hi')\n",
        "    return translated_text.text\n",
        "\n",
        "# Example Hindi text\n",
        "hindi_text = \"आज रविवार है बाहर बहुत गर्मी है मुझे उम्मीद है कि आज बारिश होगी ऐसा होना भी चाहिए क्योंकि हम पानी की कमी से जूझ रहे हैं\"\n",
        "\n",
        "# Translate Hindi text to English\n",
        "english_text = translate_to_english(hindi_text)\n",
        "\n",
        "# Translate English text back to Hindi\n",
        "augmented_text = translate_to_hindi(english_text)\n",
        "\n",
        "# Print augmented text\n",
        "print(\"Original Text (Hindi):\", hindi_text)\n",
        "print(\"Translated Text (English):\", english_text)\n",
        "print(\"Augmented Text (Back to Hindi):\", augmented_text)"
      ],
      "metadata": {
        "colab": {
          "base_uri": "https://localhost:8080/"
        },
        "id": "chhpMTotXW0a",
        "outputId": "5a83f55e-e6c5-4f75-9d5a-559763866520"
      },
      "execution_count": 43,
      "outputs": [
        {
          "output_type": "stream",
          "name": "stdout",
          "text": [
            "Original Text (Hindi): आज रविवार है बाहर बहुत गर्मी है मुझे उम्मीद है कि आज बारिश होगी ऐसा होना भी चाहिए क्योंकि हम पानी की कमी से जूझ रहे हैं\n",
            "Translated Text (English): اليوم هو يوم الأحد ، الجو حار جدًا في الخارج ، وآمل أن تمطر اليوم ، وينبغي أن يحدث ذلك أيضًا لأننا نواجه قلة المياه.\n",
            "Augmented Text (Back to Hindi): आज रविवार है, माहौल बाहर बहुत गर्म है, और मुझे आशा है कि आप आज बारिश करेंगे, और ऐसा भी होना चाहिए क्योंकि हम पानी की कमी का सामना कर रहे हैं।\n"
          ]
        }
      ]
    },
    {
      "cell_type": "code",
      "source": [],
      "metadata": {
        "id": "MZ3935N5glwK"
      },
      "execution_count": null,
      "outputs": []
    }
  ]
}