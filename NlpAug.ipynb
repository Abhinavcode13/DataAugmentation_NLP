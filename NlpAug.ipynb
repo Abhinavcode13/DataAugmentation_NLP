{
  "nbformat": 4,
  "nbformat_minor": 0,
  "metadata": {
    "colab": {
      "provenance": []
    },
    "kernelspec": {
      "name": "python3",
      "display_name": "Python 3"
    },
    "language_info": {
      "name": "python"
    }
  },
  "cells": [
    {
      "cell_type": "markdown",
      "source": [
        "Data Augmentation in NLP\n"
      ],
      "metadata": {
        "id": "7gd3bwqG60Br"
      }
    },
    {
      "cell_type": "code",
      "execution_count": 1,
      "metadata": {
        "id": "Ymp8LlOMkQ5M"
      },
      "outputs": [],
      "source": [
        "!pip install --upgrade gensim --quiet\n",
        "# quiet ensures only essential information, such as errors or warnings, will be displayed"
      ]
    },
    {
      "cell_type": "code",
      "source": [
        "import gensim"
      ],
      "metadata": {
        "id": "ZWN5K6LbkR-3"
      },
      "execution_count": 2,
      "outputs": []
    },
    {
      "cell_type": "code",
      "source": [
        "gensim.__version__"
      ],
      "metadata": {
        "id": "185wL02IlJzj",
        "colab": {
          "base_uri": "https://localhost:8080/",
          "height": 36
        },
        "outputId": "fd01e3a4-8386-4c0d-8116-889508d7f9a0"
      },
      "execution_count": 3,
      "outputs": [
        {
          "output_type": "execute_result",
          "data": {
            "text/plain": [
              "'4.3.2'"
            ],
            "application/vnd.google.colaboratory.intrinsic+json": {
              "type": "string"
            }
          },
          "metadata": {},
          "execution_count": 3
        }
      ]
    },
    {
      "cell_type": "code",
      "source": [
        "#install transformers to use base models like BERT\n",
        "!pip install transformers --quiet"
      ],
      "metadata": {
        "id": "hvHHmWkC2E7b"
      },
      "execution_count": 4,
      "outputs": []
    },
    {
      "cell_type": "code",
      "source": [
        "import transformers"
      ],
      "metadata": {
        "id": "vo6UCqg_2lSB"
      },
      "execution_count": 5,
      "outputs": []
    },
    {
      "cell_type": "code",
      "source": [
        "#install the tokenizer required by back translation model\n",
        "!pip install sacremoses --quiet"
      ],
      "metadata": {
        "id": "qrF26H362uhy"
      },
      "execution_count": 7,
      "outputs": []
    },
    {
      "cell_type": "code",
      "source": [
        "#install tokenizer\n",
        "import sacremoses"
      ],
      "metadata": {
        "id": "LeswKHFA3Xdq"
      },
      "execution_count": 8,
      "outputs": []
    },
    {
      "cell_type": "code",
      "source": [
        "#install nlpaug model\n",
        "!pip install nlpaug --quiet"
      ],
      "metadata": {
        "colab": {
          "base_uri": "https://localhost:8080/"
        },
        "id": "GMG9aV483kgj",
        "outputId": "2f54b836-a30a-42e7-8491-8ce308ff1b9a"
      },
      "execution_count": 10,
      "outputs": [
        {
          "output_type": "stream",
          "name": "stdout",
          "text": [
            "\u001b[?25l     \u001b[90m━━━━━━━━━━━━━━━━━━━━━━━━━━━━━━━━━━━━━━━━\u001b[0m \u001b[32m0.0/410.5 kB\u001b[0m \u001b[31m?\u001b[0m eta \u001b[36m-:--:--\u001b[0m\r\u001b[2K     \u001b[91m━━\u001b[0m\u001b[91m╸\u001b[0m\u001b[90m━━━━━━━━━━━━━━━━━━━━━━━━━━━━━━━━━━━━━\u001b[0m \u001b[32m30.7/410.5 kB\u001b[0m \u001b[31m811.9 kB/s\u001b[0m eta \u001b[36m0:00:01\u001b[0m\r\u001b[2K     \u001b[91m━━━━━━\u001b[0m\u001b[91m╸\u001b[0m\u001b[90m━━━━━━━━━━━━━━━━━━━━━━━━━━━━━━━━━\u001b[0m \u001b[32m71.7/410.5 kB\u001b[0m \u001b[31m967.2 kB/s\u001b[0m eta \u001b[36m0:00:01\u001b[0m\r\u001b[2K     \u001b[91m━━━━━━━━━━━━━━━━━━━\u001b[0m\u001b[91m╸\u001b[0m\u001b[90m━━━━━━━━━━━━━━━━━━━━\u001b[0m \u001b[32m204.8/410.5 kB\u001b[0m \u001b[31m1.8 MB/s\u001b[0m eta \u001b[36m0:00:01\u001b[0m\r\u001b[2K     \u001b[91m━━━━━━━━━━━━━━━━━━━━━━━━━━━━━━━━━━━━━━━\u001b[0m\u001b[91m╸\u001b[0m \u001b[32m409.6/410.5 kB\u001b[0m \u001b[31m2.9 MB/s\u001b[0m eta \u001b[36m0:00:01\u001b[0m\r\u001b[2K     \u001b[90m━━━━━━━━━━━━━━━━━━━━━━━━━━━━━━━━━━━━━━━━\u001b[0m \u001b[32m410.5/410.5 kB\u001b[0m \u001b[31m2.6 MB/s\u001b[0m eta \u001b[36m0:00:00\u001b[0m\n",
            "\u001b[?25h"
          ]
        }
      ]
    },
    {
      "cell_type": "code",
      "source": [
        "# Import the nlpaug module and its methods\n",
        "import nlpaug.augmenter.char as nac                      #mports the character-level augmentation methods from nlpaug\n",
        "import nlpaug.augmenter.word as naw\n",
        "import nlpaug.augmenter.sentence as nas\n",
        "import nlpaug.flow as nafc\n",
        "from nlpaug.util import Action                         #Action class is used to specify the type of augmentation action to be performed, such as INSERT, SUBSTITUTE, or DELETE."
      ],
      "metadata": {
        "id": "_oFYYZMU4KIc"
      },
      "execution_count": 11,
      "outputs": []
    },
    {
      "cell_type": "markdown",
      "source": [
        "Download word embedding models"
      ],
      "metadata": {
        "id": "Kc8t_3Ss6_9q"
      }
    },
    {
      "cell_type": "code",
      "source": [
        "# Download models to a temporary path\n",
        "from nlpaug.util.file.download import DownloadUtil\n",
        "DownloadUtil.download_word2vec(dest_dir = '.')\n",
        "# Possible values are ‘wiki-news-300d-1M’, ‘wiki-news-300d-1M-subword’, ‘crawl-300d-2M’ and ‘crawl-300d-2M-subword’\n",
        "DownloadUtil.download_fasttext(dest_dir = '.', model_name = 'crawl-300d-2M')\n",
        "# Possible values are ‘glove.6B’, ‘glove.42B.300d’, ‘glove.840B.300d’ and ‘glove.twitter.27B’\n",
        "DownloadUtil.download_glove(dest_dir = '.', model_name = 'glove.6B')"
      ],
      "metadata": {
        "colab": {
          "base_uri": "https://localhost:8080/"
        },
        "id": "n85DFCtI5q82",
        "outputId": "4469d7b3-3462-4cf3-ed92-c36ef586505f"
      },
      "execution_count": 12,
      "outputs": [
        {
          "output_type": "stream",
          "name": "stderr",
          "text": [
            "Downloading...\n",
            "From (original): https://drive.google.com/uc?export=download&id=0B7XkCwpI5KDYNlNUTTlSS21pQmM\n",
            "From (redirected): https://drive.google.com/uc?export=download&id=0B7XkCwpI5KDYNlNUTTlSS21pQmM&confirm=t&uuid=11fc1ac3-e621-42fe-9432-5c1050669770\n",
            "To: /content/GoogleNews-vectors-negative300.bin.gz\n",
            "100%|██████████| 1.65G/1.65G [00:16<00:00, 98.5MB/s]\n"
          ]
        }
      ]
    },
    {
      "cell_type": "markdown",
      "source": [
        "Example text"
      ],
      "metadata": {
        "id": "hl8MbcFhABMS"
      }
    },
    {
      "cell_type": "code",
      "source": [
        "text = \"\"\"\n",
        "  Is daily coffee consumption good for our health?\n",
        "  I guess it is reasonable to believe so, but it may also depend on how much you drink.\n",
        "  \"\"\""
      ],
      "metadata": {
        "id": "pZ-JK5kc-C_z"
      },
      "execution_count": 13,
      "outputs": []
    },
    {
      "cell_type": "markdown",
      "source": [
        "Option 1: Substitute or insert word randomly using word embeddings similarity"
      ],
      "metadata": {
        "id": "4UTaNib-CZmV"
      }
    },
    {
      "cell_type": "code",
      "source": [
        "# Initialize the augmenter with model \"word2vec\"\n",
        "aug = naw.WordEmbsAug(\n",
        "  # You can choose from \"word2vec\", \"glove\", or \"fasttext\"\n",
        "  model_type = 'word2vec',\n",
        "  model_path = 'GoogleNews-vectors-negative300.bin',\n",
        "  # You may also choose \"insert\"\n",
        "  action = \"substitute\")\n",
        "\n",
        "# Augment the text\n",
        "augmented_text = aug.augment(text)\n",
        "print(\"Original:\")\n",
        "print(text)\n",
        "print(\"Augmented Text:\")\n",
        "print(augmented_text)\n",
        ""
      ],
      "metadata": {
        "colab": {
          "base_uri": "https://localhost:8080/"
        },
        "id": "bF-41DYxAGL8",
        "outputId": "dc2e2042-c5cd-4a7a-f78e-ddc0a1403395"
      },
      "execution_count": 15,
      "outputs": [
        {
          "output_type": "stream",
          "name": "stdout",
          "text": [
            "Original:\n",
            "\n",
            "  Is daily coffee consumption good for our health? \n",
            "  I guess it is reasonable to believe so, but it may also depend on how much you drink.\n",
            "  \n",
            "Augmented Text:\n",
            "['Is daily coffee consumption BY good for our health? PINIELLA I generational guess Wide it is reasonable to believe http://www.ata.net.cn so, but HP it may By also depend Countesswells on how much Minit you drink.']\n"
          ]
        }
      ]
    },
    {
      "cell_type": "code",
      "source": [
        "\n",
        "# Initialize the augmenter with model \"fasttext\"\n",
        "aug = naw.WordEmbsAug(\n",
        "  # You can choose from \"word2vec\", \"glove\", or \"fasttext\"\n",
        "  model_type = 'fasttext',\n",
        "  model_path = 'crawl-300d-2M.vec',\n",
        "  # You may also choose \"insert\"\n",
        "  action = \"substitute\")\n",
        "\n",
        "# Augment the text\n",
        "augmented_text = aug.augment(text)\n",
        "print(\"Original:\")\n",
        "print(text)\n",
        "print(\"Augmented Text:\")\n",
        "print(augmented_text)"
      ],
      "metadata": {
        "colab": {
          "base_uri": "https://localhost:8080/"
        },
        "id": "ttvaf5KtBlRp",
        "outputId": "83b107f4-6366-4c90-eb8f-e0e44bdf7cc6"
      },
      "execution_count": 19,
      "outputs": [
        {
          "output_type": "stream",
          "name": "stdout",
          "text": [
            "Original:\n",
            "\n",
            "  Is daily coffee consumption good for our health? \n",
            "  I guess it is reasonable to believe so, but it may also depend on how much you drink.\n",
            "  \n",
            "Augmented Text:\n",
            "['Is daily coffee consumption.There goooood -For our health? I guess on.It is reasonable to believe so, and it maynot too.There depend on how much.I you libation.']\n"
          ]
        }
      ]
    },
    {
      "cell_type": "code",
      "source": [
        "# Initialize the augmenter with model \"glove\"\n",
        "aug = naw.WordEmbsAug(\n",
        "  # You can choose from \"word2vec\", \"glove\", or \"fasttext\"\n",
        "  model_type = 'glove',\n",
        "  # Note: check your \"content\" path to find out specific model names\n",
        "  model_path = 'glove.6B.300d.txt',\n",
        "  # You may also choose \"insert\"\n",
        "  action = \"substitute\")\n",
        "\n",
        "# Augment the text\n",
        "augmented_text = aug.augment(text)\n",
        "print(\"Original:\")\n",
        "print(text)\n",
        "print(\"Augmented Text:\")\n",
        "print(augmented_text)"
      ],
      "metadata": {
        "colab": {
          "base_uri": "https://localhost:8080/"
        },
        "id": "aYuao73wEteg",
        "outputId": "d369a745-bd7f-4950-e68e-abbaf1a71a07"
      },
      "execution_count": 23,
      "outputs": [
        {
          "output_type": "stream",
          "name": "stdout",
          "text": [
            "Original:\n",
            "\n",
            "  Is daily coffee consumption good for our health? \n",
            "  I guess it is reasonable to believe so, but it may also depend on how much you drink.\n",
            "  \n",
            "Augmented Text:\n",
            "['Is daily coffee imported good way our health? I guess it is reasonable unable if now, but does may also depend on take much because juices.']\n"
          ]
        }
      ]
    },
    {
      "cell_type": "markdown",
      "source": [
        "Option 2: Substitute or insert word by contextual word embeddings"
      ],
      "metadata": {
        "id": "Vdxaoug6L5NT"
      }
    },
    {
      "cell_type": "code",
      "source": [
        "## Substitute word by contextual word embeddings (BERT, DistilBERT, RoBERTA or XLNet)\n",
        "aug = naw.ContextualWordEmbsAug(\n",
        "  # Other models include 'distilbert-base-uncased', 'roberta-base', etc.\n",
        "  model_path = 'bert-base-uncased',\n",
        "  # You can also choose \"insert\"\n",
        "  action = \"substitute\")\n",
        "augmented_text = aug.augment(text)\n",
        "print(\"Original:\")\n",
        "print(text)\n",
        "print(\"Augmented Text:\")\n",
        "print(augmented_text)"
      ],
      "metadata": {
        "colab": {
          "base_uri": "https://localhost:8080/"
        },
        "id": "MZxv_Zm3L6MV",
        "outputId": "2d45bde1-4d1a-4fa1-d3b4-f0b3a314444d"
      },
      "execution_count": 25,
      "outputs": [
        {
          "output_type": "stream",
          "name": "stdout",
          "text": [
            "Original:\n",
            "\n",
            "  Is daily coffee consumption good for our health? \n",
            "  I guess it is reasonable to believe so, but it may also depend on how much you drink.\n",
            "  \n",
            "Augmented Text:\n",
            "['is daily coffee consumption good for our health? i know will seem reasonable me encourage you, but you may also disagree on how heavily you drink.']\n"
          ]
        }
      ]
    },
    {
      "cell_type": "markdown",
      "source": [
        "Option 3: Substitute or insert word by synonym"
      ],
      "metadata": {
        "id": "BUCPccQiNDuq"
      }
    },
    {
      "cell_type": "code",
      "source": [
        "## Substitute word by WordNet's synonym\n",
        "aug = naw.SynonymAug(aug_src = 'wordnet')      #WordNet is a lexical database of English words organized into synsets, where each synset represents a distinct concept and contains a set of synonyms\n",
        "augmented_text = aug.augment(text)\n",
        "print(\"Original:\")\n",
        "print(text)\n",
        "print(\"Augmented Text:\")\n",
        "print(augmented_text)\n",
        ""
      ],
      "metadata": {
        "colab": {
          "base_uri": "https://localhost:8080/"
        },
        "id": "SjjX-1IjNEff",
        "outputId": "46e5a3c6-dd30-478e-cefd-dca8cdfdd8cd"
      },
      "execution_count": 27,
      "outputs": [
        {
          "output_type": "stream",
          "name": "stdout",
          "text": [
            "Original:\n",
            "\n",
            "  Is daily coffee consumption good for our health? \n",
            "  I guess it is reasonable to believe so, but it may also depend on how much you drink.\n",
            "  \n",
            "Augmented Text:\n",
            "['Is daily coffee consumption good for our health? Atomic number 53 suppose information technology is sensible to believe thus, but it crataegus oxycantha also depend on how much you drink in.']\n"
          ]
        }
      ]
    },
    {
      "cell_type": "code",
      "source": [
        "## Substitute word by WordNet's synonym.\n",
        "# You can optionally set the max number of words to replace with synonym.\n",
        "aug = naw.SynonymAug(aug_src = 'wordnet', aug_max = 3)\n",
        "augmented_text = aug.augment(text, )\n",
        "print(\"Original:\")\n",
        "print(text)\n",
        "print(\"Augmented Text:\")\n",
        "print(augmented_text)"
      ],
      "metadata": {
        "colab": {
          "base_uri": "https://localhost:8080/"
        },
        "id": "IQigfLLfNYHF",
        "outputId": "d2d4045d-35b7-488a-8938-4e211dd95ed4"
      },
      "execution_count": 28,
      "outputs": [
        {
          "output_type": "stream",
          "name": "stdout",
          "text": [
            "Original:\n",
            "\n",
            "  Is daily coffee consumption good for our health? \n",
            "  I guess it is reasonable to believe so, but it may also depend on how much you drink.\n",
            "  \n",
            "Augmented Text:\n",
            "['Is daily coffee tree consumption good for our health? I guess it is reasonable to trust so, but it whitethorn also depend on how much you drink.']\n"
          ]
        }
      ]
    },
    {
      "cell_type": "markdown",
      "source": [
        "\n",
        "Option 4: Substitute or insert word using back translation"
      ],
      "metadata": {
        "id": "rPuGy8EoP8W_"
      }
    },
    {
      "cell_type": "code",
      "source": [
        "# Use back translation augmenter\n",
        "back_translation_aug = naw.BackTranslationAug(\n",
        "    from_model_name = 'facebook/wmt19-en-de',           #English to German\n",
        "    to_model_name = 'facebook/wmt19-de-en'              #Back to ENG\n",
        ")\n",
        "print(\"Original:\")\n",
        "print(text)\n",
        "print(\"Augmented Text:\")\n",
        "back_translation_aug.augment(text)"
      ],
      "metadata": {
        "colab": {
          "base_uri": "https://localhost:8080/"
        },
        "id": "e8r0MJIQOBYS",
        "outputId": "44cf8875-3faf-4aa6-f02b-bffb8bedf9cb"
      },
      "execution_count": 33,
      "outputs": [
        {
          "output_type": "stream",
          "name": "stdout",
          "text": [
            "Original:\n",
            "\n",
            "  Is daily coffee consumption good for our health? \n",
            "  I guess it is reasonable to believe so, but it may also depend on how much you drink.\n",
            "  \n",
            "Augmented Text:\n"
          ]
        },
        {
          "output_type": "execute_result",
          "data": {
            "text/plain": [
              "['Is daily coffee consumption good for our health? I think it is reasonable to believe so, but it can also depend on how much you drink.']"
            ]
          },
          "metadata": {},
          "execution_count": 33
        }
      ]
    },
    {
      "cell_type": "code",
      "source": [],
      "metadata": {
        "id": "AoUb5W8UQAq0"
      },
      "execution_count": null,
      "outputs": []
    }
  ]
}